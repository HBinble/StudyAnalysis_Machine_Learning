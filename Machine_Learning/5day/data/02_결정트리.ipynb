{
 "cells": [
  {
   "cell_type": "markdown",
   "id": "2e389180",
   "metadata": {},
   "source": [
    "## 데이터 불러오기"
   ]
  },
  {
   "cell_type": "code",
   "execution_count": 1,
   "id": "1caac097",
   "metadata": {},
   "outputs": [],
   "source": [
    "### 와인 데이터 사용\n",
    "# - 08_wine.csv 읽어 들이기"
   ]
  },
  {
   "cell_type": "code",
   "execution_count": 2,
   "id": "860f91bc",
   "metadata": {},
   "outputs": [
    {
     "data": {
      "text/html": [
       "<div>\n",
       "<style scoped>\n",
       "    .dataframe tbody tr th:only-of-type {\n",
       "        vertical-align: middle;\n",
       "    }\n",
       "\n",
       "    .dataframe tbody tr th {\n",
       "        vertical-align: top;\n",
       "    }\n",
       "\n",
       "    .dataframe thead th {\n",
       "        text-align: right;\n",
       "    }\n",
       "</style>\n",
       "<table border=\"1\" class=\"dataframe\">\n",
       "  <thead>\n",
       "    <tr style=\"text-align: right;\">\n",
       "      <th></th>\n",
       "      <th>alcohol</th>\n",
       "      <th>sugar</th>\n",
       "      <th>pH</th>\n",
       "      <th>class</th>\n",
       "    </tr>\n",
       "  </thead>\n",
       "  <tbody>\n",
       "    <tr>\n",
       "      <th>0</th>\n",
       "      <td>9.4</td>\n",
       "      <td>1.9</td>\n",
       "      <td>3.51</td>\n",
       "      <td>0.0</td>\n",
       "    </tr>\n",
       "    <tr>\n",
       "      <th>1</th>\n",
       "      <td>9.8</td>\n",
       "      <td>2.6</td>\n",
       "      <td>3.20</td>\n",
       "      <td>0.0</td>\n",
       "    </tr>\n",
       "    <tr>\n",
       "      <th>2</th>\n",
       "      <td>9.8</td>\n",
       "      <td>2.3</td>\n",
       "      <td>3.26</td>\n",
       "      <td>0.0</td>\n",
       "    </tr>\n",
       "    <tr>\n",
       "      <th>3</th>\n",
       "      <td>9.8</td>\n",
       "      <td>1.9</td>\n",
       "      <td>3.16</td>\n",
       "      <td>0.0</td>\n",
       "    </tr>\n",
       "    <tr>\n",
       "      <th>4</th>\n",
       "      <td>9.4</td>\n",
       "      <td>1.9</td>\n",
       "      <td>3.51</td>\n",
       "      <td>0.0</td>\n",
       "    </tr>\n",
       "  </tbody>\n",
       "</table>\n",
       "</div>"
      ],
      "text/plain": [
       "   alcohol  sugar    pH  class\n",
       "0      9.4    1.9  3.51    0.0\n",
       "1      9.8    2.6  3.20    0.0\n",
       "2      9.8    2.3  3.26    0.0\n",
       "3      9.8    1.9  3.16    0.0\n",
       "4      9.4    1.9  3.51    0.0"
      ]
     },
     "execution_count": 2,
     "metadata": {},
     "output_type": "execute_result"
    }
   ],
   "source": [
    "import pandas as pd\n",
    "\n",
    "wine = pd.read_csv(\"./data/08_wine.csv\")\n",
    "wine.head()\n",
    "\n",
    "# pH : 수소이온농도(pH)는 물질의 산성과 알칼리성 정도\n",
    "# alcohol     sugar   pH   class\n",
    "# 알콜도수    당도   농도 와인종류\n",
    "\n",
    "### 범주 : 와인종류(0=레드와인, 1=화이트와인)\n",
    "# - 범주가 2개인 이진분류이므로, \n",
    "# - 범주의 값이 1인 화이트와인을 찾는 것이 목적"
   ]
  },
  {
   "cell_type": "code",
   "execution_count": 3,
   "id": "927d2663",
   "metadata": {},
   "outputs": [
    {
     "name": "stdout",
     "output_type": "stream",
     "text": [
      "<class 'pandas.core.frame.DataFrame'>\n",
      "RangeIndex: 6497 entries, 0 to 6496\n",
      "Data columns (total 4 columns):\n",
      " #   Column   Non-Null Count  Dtype  \n",
      "---  ------   --------------  -----  \n",
      " 0   alcohol  6497 non-null   float64\n",
      " 1   sugar    6497 non-null   float64\n",
      " 2   pH       6497 non-null   float64\n",
      " 3   class    6497 non-null   float64\n",
      "dtypes: float64(4)\n",
      "memory usage: 203.2 KB\n"
     ]
    }
   ],
   "source": [
    "wine.info()"
   ]
  },
  {
   "cell_type": "code",
   "execution_count": 4,
   "id": "e89917a9",
   "metadata": {},
   "outputs": [
    {
     "data": {
      "text/html": [
       "<div>\n",
       "<style scoped>\n",
       "    .dataframe tbody tr th:only-of-type {\n",
       "        vertical-align: middle;\n",
       "    }\n",
       "\n",
       "    .dataframe tbody tr th {\n",
       "        vertical-align: top;\n",
       "    }\n",
       "\n",
       "    .dataframe thead th {\n",
       "        text-align: right;\n",
       "    }\n",
       "</style>\n",
       "<table border=\"1\" class=\"dataframe\">\n",
       "  <thead>\n",
       "    <tr style=\"text-align: right;\">\n",
       "      <th></th>\n",
       "      <th>alcohol</th>\n",
       "      <th>sugar</th>\n",
       "      <th>pH</th>\n",
       "      <th>class</th>\n",
       "    </tr>\n",
       "  </thead>\n",
       "  <tbody>\n",
       "    <tr>\n",
       "      <th>alcohol</th>\n",
       "      <td>1.000000</td>\n",
       "      <td>-0.359415</td>\n",
       "      <td>0.121248</td>\n",
       "      <td>0.032970</td>\n",
       "    </tr>\n",
       "    <tr>\n",
       "      <th>sugar</th>\n",
       "      <td>-0.359415</td>\n",
       "      <td>1.000000</td>\n",
       "      <td>-0.267320</td>\n",
       "      <td>0.348821</td>\n",
       "    </tr>\n",
       "    <tr>\n",
       "      <th>pH</th>\n",
       "      <td>0.121248</td>\n",
       "      <td>-0.267320</td>\n",
       "      <td>1.000000</td>\n",
       "      <td>-0.329129</td>\n",
       "    </tr>\n",
       "    <tr>\n",
       "      <th>class</th>\n",
       "      <td>0.032970</td>\n",
       "      <td>0.348821</td>\n",
       "      <td>-0.329129</td>\n",
       "      <td>1.000000</td>\n",
       "    </tr>\n",
       "  </tbody>\n",
       "</table>\n",
       "</div>"
      ],
      "text/plain": [
       "          alcohol     sugar        pH     class\n",
       "alcohol  1.000000 -0.359415  0.121248  0.032970\n",
       "sugar   -0.359415  1.000000 -0.267320  0.348821\n",
       "pH       0.121248 -0.267320  1.000000 -0.329129\n",
       "class    0.032970  0.348821 -0.329129  1.000000"
      ]
     },
     "execution_count": 4,
     "metadata": {},
     "output_type": "execute_result"
    }
   ],
   "source": [
    "wine.corr()"
   ]
  },
  {
   "cell_type": "markdown",
   "id": "a120604d",
   "metadata": {},
   "source": [
    "## 전처리"
   ]
  },
  {
   "cell_type": "code",
   "execution_count": 7,
   "id": "81cdd0e5",
   "metadata": {},
   "outputs": [],
   "source": [
    "# 독립변수, 종속변수 데이터 추출하기\n",
    "data = wine[['alcohol', 'sugar', 'pH']].to_numpy()\n",
    "\n",
    "# - 훈련 타겟 데이터 추출\n",
    "target = wine['class'].to_numpy()"
   ]
  },
  {
   "cell_type": "code",
   "execution_count": 10,
   "id": "1ac5d236",
   "metadata": {},
   "outputs": [
    {
     "name": "stdout",
     "output_type": "stream",
     "text": [
      "훈련-입력   :  (4872, 3)\n",
      "훈련-타겟   :  (4872,)\n",
      "테스트-입력 :  (1625, 3)\n",
      "테스트-입력 :  (4872,)\n"
     ]
    }
   ],
   "source": [
    "# 훈련데이터, 테스트데이터 분리하기\n",
    "# 훈련 : 테스트 = 75 : 25\n",
    "\n",
    "from sklearn.model_selection import train_test_split\n",
    "\n",
    "train_input, test_input, train_target, test_target = train_test_split(\n",
    "    data, target, test_size=0.25, random_state=42)\n",
    "\n",
    "print(\"훈련-입력   : \", train_input.shape)\n",
    "print(\"훈련-타겟   : \", train_target.shape)\n",
    "print(\"테스트-입력 : \", test_input.shape)\n",
    "print(\"테스트-입력 : \", train_target.shape)"
   ]
  },
  {
   "cell_type": "code",
   "execution_count": 11,
   "id": "604e0bc3",
   "metadata": {},
   "outputs": [],
   "source": [
    "# 스케일 정규화(표준화)\n",
    "from sklearn.preprocessing import StandardScaler\n",
    "\n",
    "# 표준화 객체 생성하기\n",
    "ss = StandardScaler()\n",
    "\n",
    "# 스스로 표준점수 생성\n",
    "ss.fit(train_input)\n",
    "\n",
    "# 훈련 및 테스트 입력 데이터 표준점수로 변환하기\n",
    "# - 타겟 데이터는 절대 변경하면 안됩니다.(정답입니다.)\n",
    "train_scaled = ss.transform(train_input)\n",
    "test_scaled = ss.transform(test_input)"
   ]
  },
  {
   "cell_type": "code",
   "execution_count": null,
   "id": "0ed17d66",
   "metadata": {},
   "outputs": [],
   "source": []
  }
 ],
 "metadata": {
  "kernelspec": {
   "display_name": "ml_kernel",
   "language": "python",
   "name": "ml"
  },
  "language_info": {
   "codemirror_mode": {
    "name": "ipython",
    "version": 3
   },
   "file_extension": ".py",
   "mimetype": "text/x-python",
   "name": "python",
   "nbconvert_exporter": "python",
   "pygments_lexer": "ipython3",
   "version": "3.9.12"
  }
 },
 "nbformat": 4,
 "nbformat_minor": 5
}
