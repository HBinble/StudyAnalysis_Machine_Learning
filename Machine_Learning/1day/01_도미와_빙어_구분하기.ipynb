{
 "cells": [
  {
   "cell_type": "markdown",
   "id": "95f18ebc-1bfc-4579-8778-3148058d1bc2",
   "metadata": {},
   "source": [
    "### 머신러닝 맛보기"
   ]
  },
  {
   "cell_type": "code",
   "execution_count": 3,
   "id": "07a3db76-5bf3-475d-b33a-c8ae57db078c",
   "metadata": {},
   "outputs": [],
   "source": [
    "### exe) 생선 분류하기 : 도미와 빙어 분류하기 (도미 찾기)\n",
    "# - 생선을 자동으로 찾아주는 머신러닝 만들기\n",
    "\n",
    "### 생선을 분류하기 위해 필요한 특징이 될 데이터 확인하기\n",
    "# - 특징을 알면 쉽게 분류할 수 있습니다.\n",
    "# - 생선은 무게와 길이 데이터를 최초에 수집해 놓고 있습니다."
   ]
  },
  {
   "cell_type": "code",
   "execution_count": 4,
   "id": "0a68febb-aa3d-4180-85f5-99b80ce5849f",
   "metadata": {},
   "outputs": [],
   "source": [
    "### 도미데이터 가지고 오기\n",
    "# - 도미 데이터\n",
    "# - 도미 길이\n",
    "bream_length = [25.4, 26.3, 26.5, 29.0, 29.0, 29.7, 29.7, 30.0, \n",
    "                30.0, 30.7, 31.0, 31.0, 31.5, 32.0, 32.0, 32.0, \n",
    "                33.0, 33.0, 33.5, 33.5, 34.0, 34.0, 34.5, 35.0, \n",
    "                35.0, 35.0, 35.0, 36.0, 36.0, 37.0, 38.5, 38.5, \n",
    "                39.5, 41.0, 41.0]\n",
    "\n",
    "# - 도미 무게\n",
    "bream_weight = [242.0, 290.0, 340.0, 363.0, 430.0, 450.0, 500.0, \n",
    "                390.0, 450.0, 500.0, 475.0, 500.0, 500.0, 340.0, \n",
    "                600.0, 600.0, 700.0, 700.0, 610.0, 650.0, 575.0, \n",
    "                685.0, 620.0, 680.0, 700.0, 725.0, 720.0, 714.0, \n",
    "                850.0, 1000.0, 920.0, 955.0, 925.0, 975.0, 950.0]\n"
   ]
  },
  {
   "cell_type": "code",
   "execution_count": 5,
   "id": "58006f79",
   "metadata": {},
   "outputs": [
    {
     "name": "stdout",
     "output_type": "stream",
     "text": [
      "bream_length =  [25.4, 26.3, 26.5, 29.0, 29.0, 29.7, 29.7, 30.0, 30.0, 30.7, 31.0, 31.0, 31.5, 32.0, 32.0, 32.0, 33.0, 33.0, 33.5, 33.5, 34.0, 34.0, 34.5, 35.0, 35.0, 35.0, 35.0, 36.0, 36.0, 37.0, 38.5, 38.5, 39.5, 41.0, 41.0]\n",
      "-----------------------------\n",
      "bream_weight =  [242.0, 290.0, 340.0, 363.0, 430.0, 450.0, 500.0, 390.0, 450.0, 500.0, 475.0, 500.0, 500.0, 340.0, 600.0, 600.0, 700.0, 700.0, 610.0, 650.0, 575.0, 685.0, 620.0, 680.0, 700.0, 725.0, 720.0, 714.0, 850.0, 1000.0, 920.0, 955.0, 925.0, 975.0, 950.0]\n",
      "-----------------------------\n",
      "35 35\n"
     ]
    }
   ],
   "source": [
    "print(\"bream_length = \", bream_length)\n",
    "print(\"-----------------------------\")\n",
    "print(\"bream_weight = \", bream_weight)\n",
    "print(\"-----------------------------\")\n",
    "print(len(bream_length), len(bream_weight))"
   ]
  },
  {
   "cell_type": "code",
   "execution_count": 6,
   "id": "ef22c3f3-e5aa-4ee0-9f79-287b68cc9838",
   "metadata": {
    "tags": []
   },
   "outputs": [
    {
     "data": {
      "image/png": "[encoded data removed]",
      "text/plain": [
       "<Figure size 432x288 with 1 Axes>"
      ]
     },
     "metadata": {
      "needs_background": "light"
     },
     "output_type": "display_data"
    }
   ],
   "source": [
    "### 데이터의 특징간의 분포 확인하기\n",
    "# - 선형관계인지 비선형관계인지 확인하기\n",
    "import matplotlib.pyplot as plt\n",
    "\n",
    "# 산점도로 표현하기 (scatter(x,y))\n",
    "plt.scatter(bream_length, bream_weight)\n",
    "plt.xlabel(\"length\")\n",
    "plt.ylabel(\"weight\")\n",
    "plt.show()"
   ]
  },
  {
   "cell_type": "code",
   "execution_count": 7,
   "id": "84aa79eb-6bf6-489a-b682-798579261e26",
   "metadata": {},
   "outputs": [],
   "source": [
    "### 빙어데이터 가지고 오기\n",
    "# - 빙어 데이터\n",
    "# - 빙어 길이\n",
    "smelt_length = [9.8, 10.5, 10.6, 11.0, 11.2, 11.3, 11.8, 11.8, 12.0, 12.2, 12.4, 13.0, 14.3, 15.0]\n",
    "\n",
    "# - 빙어 무게\n",
    "smelt_weight = [6.7, 7.5, 7.0, 9.7, 9.8, 8.7, 10.0, 9.9, 9.8, 12.2, 13.4, 12.2, 19.7, 19.9]"
   ]
  },
  {
   "cell_type": "code",
   "execution_count": 8,
   "id": "08ed026c-c4f4-47d7-8a4f-dcb599f1f5f2",
   "metadata": {},
   "outputs": [
    {
     "name": "stdout",
     "output_type": "stream",
     "text": [
      "smelt_length =  [9.8, 10.5, 10.6, 11.0, 11.2, 11.3, 11.8, 11.8, 12.0, 12.2, 12.4, 13.0, 14.3, 15.0]\n",
      "-----------------------------\n",
      "smelt_weight =  [6.7, 7.5, 7.0, 9.7, 9.8, 8.7, 10.0, 9.9, 9.8, 12.2, 13.4, 12.2, 19.7, 19.9]\n",
      "-----------------------------\n",
      "14 14\n"
     ]
    }
   ],
   "source": [
    "print(\"smelt_length = \", smelt_length)\n",
    "print(\"-----------------------------\")\n",
    "print(\"smelt_weight = \", smelt_weight)\n",
    "print(\"-----------------------------\")\n",
    "print(len(smelt_length), len(smelt_weight))"
   ]
  },
  {
   "cell_type": "code",
   "execution_count": 9,
   "id": "a26a944e-f66f-4b4e-a7fd-eb1e3afe6e6f",
   "metadata": {},
   "outputs": [
    {
     "data": {
      "image/png": "[encoded data removed]",
      "text/plain": [
       "<Figure size 432x288 with 1 Axes>"
      ]
     },
     "metadata": {
      "needs_background": "light"
     },
     "output_type": "display_data"
    }
   ],
   "source": [
    "### 데이터의 특징간의 분포 확인하기\n",
    "# - 선형관계인지 비선형관계인지 확인하기\n",
    "import matplotlib.pyplot as plt\n",
    "\n",
    "# 산점도로 표현하기 (scatter(x,y))\n",
    "plt.scatter(smelt_length, smelt_weight)\n",
    "plt.xlabel(\"length\")\n",
    "plt.ylabel(\"weight\")\n",
    "plt.show()"
   ]
  },
  {
   "cell_type": "code",
   "execution_count": 10,
   "id": "1abf4c45-58c8-4714-b2e3-d64dd43be2b7",
   "metadata": {},
   "outputs": [
    {
     "data": {
      "image/png": "[encoded data removed]",
      "text/plain": [
       "<Figure size 432x288 with 1 Axes>"
      ]
     },
     "metadata": {
      "needs_background": "light"
     },
     "output_type": "display_data"
    }
   ],
   "source": [
    "### 도미와 빙어 모두 산점도로 표현하기\n",
    "\n",
    "# - 선형관계인지 비선형관계인지 확인하기\n",
    "import matplotlib.pyplot as plt\n",
    "\n",
    "# 도미산점도로 표현하기 (scatter(x,y))\n",
    "plt.scatter(bream_length, bream_weight)\n",
    "\n",
    "# 빙어산점도로 표현하기 (scatter(x,y))\n",
    "plt.scatter(smelt_length, smelt_weight)\n",
    "\n",
    "plt.xlabel(\"length\")\n",
    "plt.ylabel(\"weight\")\n",
    "plt.show()\n",
    "\n",
    "### (해석)\n",
    "# 파랑색 : 도미 / 주황색 : 빙어\n",
    "# 도미와 빙어는 길이에 비례해서 무게가 증가하는 것으로 보임\n",
    "# 다만, 빙어의 경우, 길이에 비례해서 크게 무게가 증가되지는 않는다.\n",
    "# 빙어는 무게에 비해 길이의 영향을 덜 받는것으로 보인다."
   ]
  },
  {
   "cell_type": "markdown",
   "id": "3f2f319f-167b-40c6-86a3-919003bdb1e6",
   "metadata": {},
   "source": [
    "### 머신러닝 프로그래밍\n",
    "##### - 첫번째 모델 : 가장 간단한 모델 사용(분류와 회귀가 가능한 모델)\n",
    "##### - K-최근접 이웃(K-Nearest Neighbors, KNN) 알고리즘 사용\n",
    "##### - 도미와 빙어 데이터를 통해 패턴을 찾아서 알고리즘 완성하기\n",
    "##### - 완성된 알고리즘으로 예측하기\n",
    "##### - 위 과정을 알아서 해줍니다. <--- 머신러닝"
   ]
  },
  {
   "cell_type": "code",
   "execution_count": 11,
   "id": "8b70f3db-3109-423b-8099-5b40d3c46d9f",
   "metadata": {},
   "outputs": [
    {
     "name": "stdout",
     "output_type": "stream",
     "text": [
      "length = [25.4, 26.3, 26.5, 29.0, 29.0, 29.7, 29.7, 30.0, 30.0, 30.7, 31.0, 31.0, 31.5, 32.0, 32.0, 32.0, 33.0, 33.0, 33.5, 33.5, 34.0, 34.0, 34.5, 35.0, 35.0, 35.0, 35.0, 36.0, 36.0, 37.0, 38.5, 38.5, 39.5, 41.0, 41.0, 9.8, 10.5, 10.6, 11.0, 11.2, 11.3, 11.8, 11.8, 12.0, 12.2, 12.4, 13.0, 14.3, 15.0]\n",
      "weight = [242.0, 290.0, 340.0, 363.0, 430.0, 450.0, 500.0, 390.0, 450.0, 500.0, 475.0, 500.0, 500.0, 340.0, 600.0, 600.0, 700.0, 700.0, 610.0, 650.0, 575.0, 685.0, 620.0, 680.0, 700.0, 725.0, 720.0, 714.0, 850.0, 1000.0, 920.0, 955.0, 925.0, 975.0, 950.0, 6.7, 7.5, 7.0, 9.7, 9.8, 8.7, 10.0, 9.9, 9.8, 12.2, 13.4, 12.2, 19.7, 19.9]\n"
     ]
    }
   ],
   "source": [
    "### 데이터 합치기\n",
    "# 도미와 빙어의 길이는 길이끼리, 무게는 무게끼리 합쳐서\n",
    "# 하나의 데이터셋 만들기\n",
    "\n",
    "# 도미와 빙어의 길이 데이터 합치기\n",
    "length = bream_length + smelt_length \n",
    "\n",
    "# 도미와 빙어의 무게 데이터 합치기\n",
    "weight = bream_weight + smelt_weight \n",
    "\n",
    "print(\"length =\", length)\n",
    "print(\"weight =\", weight)"
   ]
  },
  {
   "cell_type": "code",
   "execution_count": 12,
   "id": "943f69ed-eda1-4ae9-bc92-20a4de81fc71",
   "metadata": {},
   "outputs": [
    {
     "name": "stdout",
     "output_type": "stream",
     "text": [
      "49\n"
     ]
    }
   ],
   "source": [
    "### 길이와 무게를 하나의 데이터세트로 만들기\n",
    "# - 사이킷런 라이브러리는 2차원 데이터세트를 사용해야 합니다.\n",
    "# [[길이, 무게], [길이, 무게], [] ...]\n",
    "\n",
    "# 변수명 : fish_data\n",
    "fish_data = []\n",
    "for i in range(0,len(length),1):\n",
    "    fish_data.append([length[i], weight[i]])\n",
    "    \n",
    "fish_data\n",
    "print(len(fish_data))"
   ]
  },
  {
   "cell_type": "code",
   "execution_count": 13,
   "id": "67785554-c788-46ec-8315-b6272eff3878",
   "metadata": {},
   "outputs": [
    {
     "data": {
      "text/plain": [
       "<zip at 0x277e4561080>"
      ]
     },
     "execution_count": 13,
     "metadata": {},
     "output_type": "execute_result"
    }
   ],
   "source": [
    " zip(length,weight)"
   ]
  },
  {
   "cell_type": "code",
   "execution_count": 14,
   "id": "814c5979-b3d3-4dc3-a4ae-f6833fce56b4",
   "metadata": {},
   "outputs": [
    {
     "data": {
      "text/plain": [
       "[[25.4, 242.0],\n",
       " [26.3, 290.0],\n",
       " [26.5, 340.0],\n",
       " [29.0, 363.0],\n",
       " [29.0, 430.0],\n",
       " [29.7, 450.0],\n",
       " [29.7, 500.0],\n",
       " [30.0, 390.0],\n",
       " [30.0, 450.0],\n",
       " [30.7, 500.0],\n",
       " [31.0, 475.0],\n",
       " [31.0, 500.0],\n",
       " [31.5, 500.0],\n",
       " [32.0, 340.0],\n",
       " [32.0, 600.0],\n",
       " [32.0, 600.0],\n",
       " [33.0, 700.0],\n",
       " [33.0, 700.0],\n",
       " [33.5, 610.0],\n",
       " [33.5, 650.0],\n",
       " [34.0, 575.0],\n",
       " [34.0, 685.0],\n",
       " [34.5, 620.0],\n",
       " [35.0, 680.0],\n",
       " [35.0, 700.0],\n",
       " [35.0, 725.0],\n",
       " [35.0, 720.0],\n",
       " [36.0, 714.0],\n",
       " [36.0, 850.0],\n",
       " [37.0, 1000.0],\n",
       " [38.5, 920.0],\n",
       " [38.5, 955.0],\n",
       " [39.5, 925.0],\n",
       " [41.0, 975.0],\n",
       " [41.0, 950.0],\n",
       " [9.8, 6.7],\n",
       " [10.5, 7.5],\n",
       " [10.6, 7.0],\n",
       " [11.0, 9.7],\n",
       " [11.2, 9.8],\n",
       " [11.3, 8.7],\n",
       " [11.8, 10.0],\n",
       " [11.8, 9.9],\n",
       " [12.0, 9.8],\n",
       " [12.2, 12.2],\n",
       " [12.4, 13.4],\n",
       " [13.0, 12.2],\n",
       " [14.3, 19.7],\n",
       " [15.0, 19.9]]"
      ]
     },
     "execution_count": 14,
     "metadata": {},
     "output_type": "execute_result"
    }
   ],
   "source": [
    "### 리스트 내포 프로그램 : list comprehenshon 이라고 합니다.\n",
    "# zip() : 각각의 리스트 안에서 각 인덱스의 쌍을 반환해 줍니다.\n",
    "# 반복은 zip() 함수가 반환해주는 갯수만큼 반복 수행\n",
    "fish_data = [[leng, wei] for leng, wei in zip(length,weight)]\n",
    "fish_data"
   ]
  },
  {
   "cell_type": "code",
   "execution_count": 15,
   "id": "32e67dc2-8b73-48bd-8f27-21ec09d7c238",
   "metadata": {},
   "outputs": [],
   "source": [
    "### 정답 데이터세트 만들기 (종속변수 y)\n",
    "# - 정답 변수는 1차원 리스트로 별도로 만들어야 함\n",
    "# - 정답 변수의 갯수는 독립변수의 갯수와 동일해야 합니다.\n",
    "# - 도미 : 1로, 빙어 : 0으로"
   ]
  },
  {
   "cell_type": "code",
   "execution_count": 16,
   "id": "c56c1c10-0463-448d-975a-90494f07a2a5",
   "metadata": {},
   "outputs": [
    {
     "data": {
      "text/plain": [
       "[1,\n",
       " 1,\n",
       " 1,\n",
       " 1,\n",
       " 1,\n",
       " 1,\n",
       " 1,\n",
       " 1,\n",
       " 1,\n",
       " 1,\n",
       " 1,\n",
       " 1,\n",
       " 1,\n",
       " 1,\n",
       " 1,\n",
       " 1,\n",
       " 1,\n",
       " 1,\n",
       " 1,\n",
       " 1,\n",
       " 1,\n",
       " 1,\n",
       " 1,\n",
       " 1,\n",
       " 1,\n",
       " 1,\n",
       " 1,\n",
       " 1,\n",
       " 1,\n",
       " 1,\n",
       " 1,\n",
       " 1,\n",
       " 1,\n",
       " 1,\n",
       " 1,\n",
       " 0,\n",
       " 0,\n",
       " 0,\n",
       " 0,\n",
       " 0,\n",
       " 0,\n",
       " 0,\n",
       " 0,\n",
       " 0,\n",
       " 0,\n",
       " 0,\n",
       " 0,\n",
       " 0,\n",
       " 0]"
      ]
     },
     "execution_count": 16,
     "metadata": {},
     "output_type": "execute_result"
    }
   ],
   "source": [
    "### 정답변수 생성하기\n",
    "# 변수명 : fish_target\n",
    "# 형태 : 1차원\n",
    "# 예시 : [1, 1, 1, ..... 0, 0, 0]\n",
    "fish_target = [1] * 35 + [0] * 14\n",
    "fish_target"
   ]
  },
  {
   "cell_type": "markdown",
   "id": "c3244090",
   "metadata": {},
   "source": [
    "### 머신러닝 시작하기"
   ]
  },
  {
   "cell_type": "code",
   "execution_count": 17,
   "id": "b6f27c3f-39fb-417b-8d63-532e3989a520",
   "metadata": {},
   "outputs": [],
   "source": [
    "# 알고리즘 : k-최근접 이웃 알고리즘(KNN)\n",
    "# 사용 패키지 : sklearn (사이킷런)\n",
    "# 사용 클래스(모델) : KNeighborsClassifier"
   ]
  },
  {
   "cell_type": "code",
   "execution_count": 18,
   "id": "a3990694-18a8-48aa-a131-29068b3e8e75",
   "metadata": {},
   "outputs": [],
   "source": [
    "### 아래 실행 시 sklearn 모듈 없다는 오류 발생 시\n",
    "#  다음으로 설치하기\n",
    "# conda install -c conda-forge scikit-learn\n",
    "# 위에 안될 경우\n",
    "# conda install scikit-learn"
   ]
  },
  {
   "cell_type": "code",
   "execution_count": 19,
   "id": "f9570206-fee3-4563-af29-7ee877de5bfa",
   "metadata": {},
   "outputs": [],
   "source": [
    "from sklearn.neighbors import KNeighborsClassifier"
   ]
  },
  {
   "cell_type": "code",
   "execution_count": 20,
   "id": "ebe0a247-d883-4f4b-86ac-9400dc743d9a",
   "metadata": {},
   "outputs": [
    {
     "data": {
      "text/plain": [
       "KNeighborsClassifier()"
      ]
     },
     "execution_count": 20,
     "metadata": {},
     "output_type": "execute_result"
    }
   ],
   "source": [
    "# class 객체 생성하기 : 주소 받아오기\n",
    "# 객체 변수 : kn\n",
    "# class 생성자 호출\n",
    "kn = KNeighborsClassifier()\n",
    "kn"
   ]
  },
  {
   "cell_type": "code",
   "execution_count": 21,
   "id": "3b0947b4",
   "metadata": {},
   "outputs": [
    {
     "data": {
      "text/plain": [
       "KNeighborsClassifier()"
      ]
     },
     "execution_count": 21,
     "metadata": {},
     "output_type": "execute_result"
    }
   ],
   "source": [
    "### 모델 학습하기(훈련-trainig)\n",
    "# 훈련모델 생성하기 : fit(독립변수 데이터세트, 종속변수 데이터세트)\n",
    "# - 학습모델 또는 훈련모델이라고 명칭합니다.\n",
    "# - 독립변수 즉  훈련데이터세트를 훈련 시킨다고 합니다.\n",
    "# - 사용되는 훈련데이터 변수명 : train_x or train_data, \n",
    "#          정답데이터 변수명 : train_target or train_y\n",
    "# - 사용되는 테스트데이터 변수명 : test_data, test_x\n",
    "kn.fit(fish_data, fish_target)"
   ]
  },
  {
   "cell_type": "code",
   "execution_count": 22,
   "id": "d3b26bc3",
   "metadata": {},
   "outputs": [
    {
     "data": {
      "text/plain": [
       "1.0"
      ]
     },
     "execution_count": 22,
     "metadata": {},
     "output_type": "execute_result"
    }
   ],
   "source": [
    "### 훈련모델 평가하기\n",
    "# 훈련 잘 했는지 점수로 나타냅니다.\n",
    "# 결과값을 보통 \"정확도\"라고 합니다.\n",
    "\n",
    "# score 내부 실행 순서\n",
    "# predict() 예측 수행\n",
    "# 정확도 계산 값 반환\n",
    "# - 정확도 = 정답갯수 / 전체갯수\n",
    "# 결과값은 0~1 사이의 실수값 또는 정수값\n",
    "# 1이면 100%, 0이면 0%, 0.5이면 50%\n",
    "# 1에 가까울수록 정확도가 높다.\n",
    "# 다른 모델에서는 정확도를  accuracy 라는 이름으로 조회도 됩니다.\n",
    "kn.score(fish_data, fish_target)"
   ]
  },
  {
   "cell_type": "markdown",
   "id": "32d8aea2-ffc4-45de-8658-3d52659b8d08",
   "metadata": {},
   "source": [
    "### K-최근접 이웃 알고리즘 정리\n",
    "##### - 어떤 데이터에 대한 답을 구할 떄, 주위의 다른 데이터를 보고, 다수를 차지하는 쪽으로 정답을 예측합니다.\n",
    "##### - 주위의 데이터로 현재 예측 데이터를 판단\n"
   ]
  },
  {
   "cell_type": "code",
   "execution_count": 23,
   "id": "6f3f1563",
   "metadata": {},
   "outputs": [
    {
     "data": {
      "image/png": "[encoded data removed]",
      "text/plain": [
       "<Figure size 432x288 with 1 Axes>"
      ]
     },
     "metadata": {
      "needs_background": "light"
     },
     "output_type": "display_data"
    }
   ],
   "source": [
    "### 도미와 빙어 모두 산점도로 표현하기\n",
    "\n",
    "# - 선형관계인지 비선형관계인지 확인하기\n",
    "import matplotlib.pyplot as plt\n",
    "\n",
    "# 도미산점도로 표현하기 (scatter(x,y))\n",
    "plt.scatter(bream_length, bream_weight)\n",
    "\n",
    "# 빙어산점도로 표현하기 (scatter(x,y))\n",
    "plt.scatter(smelt_length, smelt_weight)\n",
    "\n",
    "# 새로운 생선이 나타났습니다.\n",
    "plt.scatter(30, 600, marker=\"^\", c=\"red\")\n",
    "\n",
    "plt.xlabel(\"length\")\n",
    "plt.ylabel(\"weight\")\n",
    "plt.show()"
   ]
  },
  {
   "cell_type": "code",
   "execution_count": 24,
   "id": "5f4dbb15",
   "metadata": {},
   "outputs": [
    {
     "data": {
      "text/plain": [
       "array([1])"
      ]
     },
     "execution_count": 24,
     "metadata": {},
     "output_type": "execute_result"
    }
   ],
   "source": [
    "### 새로운 데이터 예측하기 : predict() 함수 사용\n",
    "# predict() 함수에 사용되는 값은 새로운 독립변수의 값을 사용\n",
    "# - 사용되는 값은 1개\n",
    "# - 사용된 값에 대한 예측값(정답)을 알려줍니다.\n",
    "\n",
    "kn.predict([[30, 600]])"
   ]
  },
  {
   "cell_type": "code",
   "execution_count": 25,
   "id": "f805acec",
   "metadata": {},
   "outputs": [],
   "source": [
    "### KNN 알고리즘을 위해서는, 데이터만 잘 준비해서 저장해 두면 끝!\n",
    "# 클래스(모델) 내부의 멤버 변수에 전체 데이터가 저장되어 있습니다.\n",
    "# - 전체데이터 = 독립변수, 종속변수 각각 변수에 저장\n",
    "# - 예측 할 독립변수를 넣어주면, 모델이 가지고 있는 전체 데이터에서\n",
    "#   가장 가까운 거리의 데이터가 속한 종속변수의 값을 알려주는 방식\n",
    "\n",
    "# (단점) 데이터가 많은 경우, CPU, RAM 사양이 좋아야 합니다."
   ]
  },
  {
   "cell_type": "code",
   "execution_count": 26,
   "id": "ebcfd1f6",
   "metadata": {},
   "outputs": [
    {
     "data": {
      "text/plain": [
       "array([1, 1, 1, 1, 1, 1, 1, 1, 1, 1, 1, 1, 1, 1, 1, 1, 1, 1, 1, 1, 1, 1,\n",
       "       1, 1, 1, 1, 1, 1, 1, 1, 1, 1, 1, 1, 1, 0, 0, 0, 0, 0, 0, 0, 0, 0,\n",
       "       0, 0, 0, 0, 0])"
      ]
     },
     "execution_count": 26,
     "metadata": {},
     "output_type": "execute_result"
    }
   ],
   "source": [
    "# 모델 안에 훈련데이터 있는지 확인\n",
    "# 클래스 내부에 _fit_X 라는 멤버 변수가 있습니다.\n",
    "\n",
    "# 모델이 가지고 있는 훈련 데이터\n",
    "kn._fit_X\n",
    "\n",
    "# 모델이 가지고 있는 정답 데이터\n",
    "kn._y"
   ]
  },
  {
   "cell_type": "code",
   "execution_count": 27,
   "id": "e8fbcc16",
   "metadata": {},
   "outputs": [],
   "source": [
    "### 최근접 이웃은 몇개를 기준으로??\n",
    "# 기본값은 5\n",
    "# 예측을 위해 사용된 데이터의 근거리 5개를 기준으로 기본적으로 가장 가까운 \n",
    "# 직선거리의 데이터가 속한 종속변수의 값을 알려줍니다. \n",
    "# n_neighbors = 5 라고 정의 합니다.\n",
    "# 클래스(모델) 생성시에 기준갯수를 지정합니다.\n",
    "# 지정된 갯수를 이용해서 훈련을 하고, 예측합니다."
   ]
  },
  {
   "cell_type": "code",
   "execution_count": 28,
   "id": "26660ead",
   "metadata": {},
   "outputs": [
    {
     "data": {
      "text/plain": [
       "KNeighborsClassifier(n_neighbors=20)"
      ]
     },
     "execution_count": 28,
     "metadata": {},
     "output_type": "execute_result"
    }
   ],
   "source": [
    "### 이웃의 갯수 20개를 기준갯수로 정한 후 훈련 및 예측해보기\n",
    "kn20 = KNeighborsClassifier(n_neighbors = 20)\n",
    "kn20"
   ]
  },
  {
   "cell_type": "code",
   "execution_count": 29,
   "id": "d8765d53",
   "metadata": {},
   "outputs": [
    {
     "data": {
      "text/plain": [
       "KNeighborsClassifier(n_neighbors=20)"
      ]
     },
     "execution_count": 29,
     "metadata": {},
     "output_type": "execute_result"
    }
   ],
   "source": [
    "kn20.fit(fish_data, fish_target)"
   ]
  },
  {
   "cell_type": "code",
   "execution_count": 30,
   "id": "09a55fa7",
   "metadata": {},
   "outputs": [
    {
     "data": {
      "text/plain": [
       "0.9795918367346939"
      ]
     },
     "execution_count": 30,
     "metadata": {},
     "output_type": "execute_result"
    }
   ],
   "source": [
    "kn20.score(fish_data, fish_target)"
   ]
  },
  {
   "cell_type": "code",
   "execution_count": 31,
   "id": "431b1773",
   "metadata": {},
   "outputs": [
    {
     "name": "stdout",
     "output_type": "stream",
     "text": [
      "nCnt =  17\n"
     ]
    }
   ],
   "source": [
    "# [문제]\n",
    "# 가장 적합한 n_neighbors 값 찾기\n",
    "# 1보다 작아지기 전까지의 갯수의 값을 찾으시면 됩니다.\n",
    "\n",
    "kn = KNeighborsClassifier()\n",
    "kn.fit(fish_data, fish_target)\n",
    "\n",
    "nCnt = 0\n",
    "for n in range(1, len(fish_data)) :\n",
    "    kn.n_neighbors = n\n",
    "    score = kn.score(fish_data, fish_target)\n",
    "    if score < 1 :\n",
    "        nCnt = n - 1\n",
    "        print(\"nCnt = \", nCnt)\n",
    "        break"
   ]
  },
  {
   "cell_type": "code",
   "execution_count": 32,
   "id": "16aa878d",
   "metadata": {},
   "outputs": [
    {
     "data": {
      "text/plain": [
       "1.0"
      ]
     },
     "execution_count": 32,
     "metadata": {},
     "output_type": "execute_result"
    }
   ],
   "source": [
    "kn = KNeighborsClassifier(n_neighbors = nCnt)\n",
    "kn.fit(fish_data, fish_target)\n",
    "kn.score(fish_data, fish_target)"
   ]
  }
 ],
 "metadata": {
  "kernelspec": {
   "display_name": "ml_kernel",
   "language": "python",
   "name": "ml"
  },
  "language_info": {
   "codemirror_mode": {
    "name": "ipython",
    "version": 3
   },
   "file_extension": ".py",
   "mimetype": "text/x-python",
   "name": "python",
   "nbconvert_exporter": "python",
   "pygments_lexer": "ipython3",
   "version": "3.9.12"
  },
  "toc": {
   "base_numbering": 1,
   "nav_menu": {},
   "number_sections": true,
   "sideBar": true,
   "skip_h1_title": false,
   "title_cell": "Table of Contents",
   "title_sidebar": "Contents",
   "toc_cell": false,
   "toc_position": {
    "height": "calc(100% - 180px)",
    "left": "10px",
    "top": "150px",
    "width": "341.333px"
   },
   "toc_section_display": true,
   "toc_window_display": false
  },
  "vscode": {
   "interpreter": {
    "hash": "08749fe6d6cb56d15eda1ca48146d18def904c139761cd2e4869508c56cc4156"
   }
  }
 },
 "nbformat": 4,
 "nbformat_minor": 5
}
