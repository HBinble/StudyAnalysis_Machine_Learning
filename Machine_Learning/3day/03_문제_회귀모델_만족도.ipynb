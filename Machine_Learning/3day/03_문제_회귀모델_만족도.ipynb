{
 "cells": [
  {
   "cell_type": "code",
   "execution_count": 45,
   "metadata": {},
   "outputs": [],
   "source": [
    "import pandas as pd\n",
    "import numpy as np"
   ]
  },
  {
   "cell_type": "code",
   "execution_count": 46,
   "metadata": {},
   "outputs": [
    {
     "data": {
      "text/html": [
       "<div>\n",
       "<style scoped>\n",
       "    .dataframe tbody tr th:only-of-type {\n",
       "        vertical-align: middle;\n",
       "    }\n",
       "\n",
       "    .dataframe tbody tr th {\n",
       "        vertical-align: top;\n",
       "    }\n",
       "\n",
       "    .dataframe thead th {\n",
       "        text-align: right;\n",
       "    }\n",
       "</style>\n",
       "<table border=\"1\" class=\"dataframe\">\n",
       "  <thead>\n",
       "    <tr style=\"text-align: right;\">\n",
       "      <th></th>\n",
       "      <th>친밀도</th>\n",
       "      <th>적절성</th>\n",
       "      <th>만족도</th>\n",
       "    </tr>\n",
       "  </thead>\n",
       "  <tbody>\n",
       "    <tr>\n",
       "      <th>0</th>\n",
       "      <td>3</td>\n",
       "      <td>4</td>\n",
       "      <td>3</td>\n",
       "    </tr>\n",
       "    <tr>\n",
       "      <th>1</th>\n",
       "      <td>3</td>\n",
       "      <td>3</td>\n",
       "      <td>2</td>\n",
       "    </tr>\n",
       "    <tr>\n",
       "      <th>2</th>\n",
       "      <td>4</td>\n",
       "      <td>4</td>\n",
       "      <td>4</td>\n",
       "    </tr>\n",
       "    <tr>\n",
       "      <th>3</th>\n",
       "      <td>2</td>\n",
       "      <td>2</td>\n",
       "      <td>2</td>\n",
       "    </tr>\n",
       "    <tr>\n",
       "      <th>4</th>\n",
       "      <td>2</td>\n",
       "      <td>2</td>\n",
       "      <td>2</td>\n",
       "    </tr>\n",
       "  </tbody>\n",
       "</table>\n",
       "</div>"
      ],
      "text/plain": [
       "   친밀도  적절성  만족도\n",
       "0    3    4    3\n",
       "1    3    3    2\n",
       "2    4    4    4\n",
       "3    2    2    2\n",
       "4    2    2    2"
      ]
     },
     "execution_count": 46,
     "metadata": {},
     "output_type": "execute_result"
    }
   ],
   "source": [
    "file_path = \"./data/04_(문제)_회귀모델_drinking_water.csv\"\n",
    "df = pd.read_csv(file_path)\n",
    "df.head()"
   ]
  },
  {
   "cell_type": "code",
   "execution_count": 47,
   "metadata": {},
   "outputs": [],
   "source": [
    "x = df[[\"친밀도\", \"적절성\"]]\n",
    "y = df[\"만족도\"]"
   ]
  },
  {
   "cell_type": "code",
   "execution_count": 48,
   "metadata": {},
   "outputs": [
    {
     "data": {
      "text/plain": [
       "array([[3, 4],\n",
       "       [3, 3],\n",
       "       [4, 4],\n",
       "       [2, 2],\n",
       "       [2, 2],\n",
       "       [3, 3],\n",
       "       [4, 4],\n",
       "       [2, 2],\n",
       "       [3, 2],\n",
       "       [4, 2],\n",
       "       [5, 5],\n",
       "       [4, 4],\n",
       "       [1, 1],\n",
       "       [3, 2],\n",
       "       [2, 2],\n",
       "       [2, 2],\n",
       "       [3, 3],\n",
       "       [2, 3],\n",
       "       [3, 3],\n",
       "       [4, 4],\n",
       "       [3, 2],\n",
       "       [3, 4],\n",
       "       [2, 3],\n",
       "       [4, 4],\n",
       "       [4, 3],\n",
       "       [3, 2],\n",
       "       [2, 3],\n",
       "       [4, 3],\n",
       "       [3, 2],\n",
       "       [3, 2],\n",
       "       [3, 3],\n",
       "       [2, 3],\n",
       "       [3, 4],\n",
       "       [3, 2],\n",
       "       [3, 4],\n",
       "       [3, 1],\n",
       "       [2, 3],\n",
       "       [3, 3],\n",
       "       [4, 4],\n",
       "       [3, 3],\n",
       "       [3, 3],\n",
       "       [3, 3],\n",
       "       [2, 3],\n",
       "       [3, 2],\n",
       "       [3, 3],\n",
       "       [3, 4],\n",
       "       [4, 3],\n",
       "       [3, 3],\n",
       "       [3, 3],\n",
       "       [3, 2],\n",
       "       [2, 3],\n",
       "       [4, 3],\n",
       "       [3, 3],\n",
       "       [3, 3],\n",
       "       [2, 1],\n",
       "       [4, 3],\n",
       "       [3, 4],\n",
       "       [3, 4],\n",
       "       [4, 5],\n",
       "       [3, 3],\n",
       "       [2, 3],\n",
       "       [4, 4],\n",
       "       [3, 3],\n",
       "       [3, 3],\n",
       "       [3, 3],\n",
       "       [3, 3],\n",
       "       [3, 2],\n",
       "       [2, 3],\n",
       "       [3, 4],\n",
       "       [3, 3],\n",
       "       [3, 3],\n",
       "       [3, 3],\n",
       "       [4, 3],\n",
       "       [3, 3],\n",
       "       [3, 3],\n",
       "       [1, 3],\n",
       "       [2, 2],\n",
       "       [1, 1],\n",
       "       [4, 4],\n",
       "       [3, 3],\n",
       "       [4, 5],\n",
       "       [1, 4],\n",
       "       [2, 2],\n",
       "       [3, 3],\n",
       "       [1, 4],\n",
       "       [1, 4],\n",
       "       [1, 3],\n",
       "       [2, 3],\n",
       "       [3, 4],\n",
       "       [4, 4],\n",
       "       [3, 2],\n",
       "       [1, 4],\n",
       "       [1, 4],\n",
       "       [1, 4],\n",
       "       [1, 4],\n",
       "       [1, 2],\n",
       "       [4, 4],\n",
       "       [1, 3],\n",
       "       [1, 4],\n",
       "       [1, 4],\n",
       "       [5, 5],\n",
       "       [3, 3],\n",
       "       [4, 3],\n",
       "       [3, 3],\n",
       "       [2, 2],\n",
       "       [4, 3],\n",
       "       [2, 3],\n",
       "       [3, 2],\n",
       "       [4, 3],\n",
       "       [3, 3],\n",
       "       [3, 3],\n",
       "       [2, 2],\n",
       "       [4, 3],\n",
       "       [4, 4],\n",
       "       [3, 2],\n",
       "       [1, 2],\n",
       "       [1, 3],\n",
       "       [1, 3],\n",
       "       [1, 3],\n",
       "       [1, 5],\n",
       "       [1, 2],\n",
       "       [3, 3],\n",
       "       [3, 2],\n",
       "       [3, 3],\n",
       "       [2, 3],\n",
       "       [1, 2],\n",
       "       [4, 4],\n",
       "       [4, 4],\n",
       "       [4, 5],\n",
       "       [3, 4],\n",
       "       [4, 3],\n",
       "       [3, 3],\n",
       "       [5, 5],\n",
       "       [3, 4],\n",
       "       [3, 3],\n",
       "       [3, 4],\n",
       "       [2, 3],\n",
       "       [4, 4],\n",
       "       [3, 3],\n",
       "       [3, 3],\n",
       "       [3, 4],\n",
       "       [3, 4],\n",
       "       [3, 3],\n",
       "       [4, 3],\n",
       "       [2, 3],\n",
       "       [3, 3],\n",
       "       [3, 3],\n",
       "       [4, 4],\n",
       "       [3, 3],\n",
       "       [3, 2],\n",
       "       [1, 1],\n",
       "       [2, 3],\n",
       "       [4, 4],\n",
       "       [3, 3],\n",
       "       [4, 4],\n",
       "       [2, 3],\n",
       "       [2, 3],\n",
       "       [4, 4],\n",
       "       [4, 4],\n",
       "       [3, 4],\n",
       "       [4, 4],\n",
       "       [3, 4],\n",
       "       [3, 3],\n",
       "       [3, 3],\n",
       "       [3, 2],\n",
       "       [3, 3],\n",
       "       [2, 2],\n",
       "       [1, 2],\n",
       "       [3, 2],\n",
       "       [3, 2],\n",
       "       [3, 3],\n",
       "       [2, 3],\n",
       "       [2, 2],\n",
       "       [3, 3],\n",
       "       [2, 2],\n",
       "       [3, 3],\n",
       "       [2, 2],\n",
       "       [2, 2],\n",
       "       [3, 3],\n",
       "       [4, 4],\n",
       "       [3, 2],\n",
       "       [3, 2],\n",
       "       [3, 3],\n",
       "       [3, 3],\n",
       "       [3, 3],\n",
       "       [3, 3],\n",
       "       [3, 4],\n",
       "       [3, 3],\n",
       "       [4, 3],\n",
       "       [3, 2],\n",
       "       [4, 4],\n",
       "       [4, 4],\n",
       "       [3, 2],\n",
       "       [3, 2],\n",
       "       [2, 3],\n",
       "       [3, 3],\n",
       "       [3, 3],\n",
       "       [3, 2],\n",
       "       [3, 3],\n",
       "       [4, 4],\n",
       "       [4, 4],\n",
       "       [3, 4],\n",
       "       [5, 5],\n",
       "       [4, 4],\n",
       "       [1, 2],\n",
       "       [3, 3],\n",
       "       [1, 1],\n",
       "       [5, 5],\n",
       "       [3, 2],\n",
       "       [5, 4],\n",
       "       [1, 1],\n",
       "       [4, 4],\n",
       "       [3, 3],\n",
       "       [5, 5],\n",
       "       [4, 4],\n",
       "       [3, 3],\n",
       "       [3, 4],\n",
       "       [4, 4],\n",
       "       [4, 4],\n",
       "       [3, 3],\n",
       "       [3, 3],\n",
       "       [4, 4],\n",
       "       [3, 3],\n",
       "       [1, 1],\n",
       "       [4, 4],\n",
       "       [3, 3],\n",
       "       [3, 4],\n",
       "       [4, 4],\n",
       "       [3, 3],\n",
       "       [4, 4],\n",
       "       [3, 3],\n",
       "       [4, 4],\n",
       "       [3, 3],\n",
       "       [4, 4],\n",
       "       [3, 3],\n",
       "       [3, 4],\n",
       "       [4, 3],\n",
       "       [3, 4],\n",
       "       [3, 4],\n",
       "       [4, 3],\n",
       "       [1, 2],\n",
       "       [3, 3],\n",
       "       [4, 4],\n",
       "       [4, 4],\n",
       "       [3, 3],\n",
       "       [3, 3],\n",
       "       [4, 4],\n",
       "       [4, 3],\n",
       "       [4, 4],\n",
       "       [2, 3],\n",
       "       [4, 3],\n",
       "       [3, 3],\n",
       "       [4, 4],\n",
       "       [3, 3],\n",
       "       [2, 4],\n",
       "       [3, 3],\n",
       "       [3, 3],\n",
       "       [3, 3],\n",
       "       [1, 2],\n",
       "       [3, 4],\n",
       "       [3, 4],\n",
       "       [4, 4],\n",
       "       [4, 4],\n",
       "       [2, 3]], dtype=int64)"
      ]
     },
     "execution_count": 48,
     "metadata": {},
     "output_type": "execute_result"
    }
   ],
   "source": [
    "### 데이터프레임을 2차원으로 바꾸기\n",
    "# 데이터프레임은 2차원\n",
    "# to_numpy()\n",
    "dw_x = x.to_numpy()\n",
    "dw_x"
   ]
  },
  {
   "cell_type": "code",
   "execution_count": 49,
   "metadata": {},
   "outputs": [
    {
     "data": {
      "text/plain": [
       "array([3, 2, 4, 2, 2, 3, 4, 2, 3, 3, 5, 5, 1, 2, 2, 2, 3, 3, 3, 4, 3, 4,\n",
       "       3, 4, 3, 3, 3, 3, 2, 3, 2, 3, 4, 2, 4, 1, 3, 3, 4, 3, 3, 3, 3, 1,\n",
       "       2, 3, 4, 3, 2, 2, 2, 4, 3, 3, 1, 3, 3, 3, 5, 3, 3, 4, 3, 3, 3, 3,\n",
       "       3, 3, 4, 3, 3, 3, 3, 3, 3, 3, 2, 1, 4, 3, 4, 4, 2, 3, 4, 4, 4, 3,\n",
       "       2, 4, 3, 4, 4, 3, 4, 2, 3, 4, 4, 4, 4, 3, 4, 3, 2, 4, 3, 2, 3, 4,\n",
       "       3, 2, 4, 4, 3, 2, 2, 3, 3, 5, 2, 3, 2, 1, 3, 2, 4, 4, 4, 4, 3, 3,\n",
       "       5, 3, 3, 4, 3, 4, 3, 3, 3, 4, 3, 3, 4, 3, 3, 4, 3, 2, 1, 3, 3, 3,\n",
       "       4, 3, 3, 4, 4, 4, 3, 3, 3, 3, 3, 3, 2, 2, 3, 2, 3, 3, 3, 3, 3, 3,\n",
       "       3, 2, 4, 4, 2, 2, 3, 3, 3, 3, 3, 2, 4, 3, 3, 3, 3, 3, 2, 3, 3, 3,\n",
       "       3, 4, 4, 3, 4, 4, 2, 2, 2, 4, 2, 5, 1, 3, 3, 4, 4, 3, 4, 4, 4, 3,\n",
       "       2, 4, 3, 1, 4, 3, 3, 4, 3, 3, 4, 4, 3, 4, 3, 2, 4, 3, 4, 3, 2, 3,\n",
       "       3, 4, 4, 2, 5, 3, 4, 3, 3, 4, 4, 2, 4, 3, 3, 3, 2, 4, 3, 4, 4, 3],\n",
       "      dtype=int64)"
      ]
     },
     "execution_count": 49,
     "metadata": {},
     "output_type": "execute_result"
    }
   ],
   "source": [
    "# 종속변수\n",
    "dw_y = y.to_numpy()\n",
    "dw_y"
   ]
  },
  {
   "cell_type": "code",
   "execution_count": 50,
   "metadata": {},
   "outputs": [
    {
     "name": "stdout",
     "output_type": "stream",
     "text": [
      "(198, 2)\n",
      "(198,)\n",
      "(66, 2)\n",
      "(66,)\n"
     ]
    }
   ],
   "source": [
    "### 1. 훈련데이터와 테스트데이터 분리하기\n",
    "from sklearn.model_selection import train_test_split\n",
    "\n",
    "### 훈련데이터/ 테스트데이터 세트 생성하기\n",
    "train_input, test_input, train_target, test_target = \\\n",
    "    train_test_split(dw_x, dw_y, random_state=42)\n",
    "    \n",
    "print(train_input.shape)\n",
    "print(train_target.shape)\n",
    "print(test_input.shape)\n",
    "print(test_target.shape)"
   ]
  },
  {
   "cell_type": "code",
   "execution_count": 51,
   "metadata": {},
   "outputs": [],
   "source": [
    "### 사이킷런 변환기 클래스\n",
    "from sklearn.preprocessing import PolynomialFeatures"
   ]
  },
  {
   "cell_type": "code",
   "execution_count": 52,
   "metadata": {},
   "outputs": [
    {
     "name": "stdout",
     "output_type": "stream",
     "text": [
      "(198, 5) (66, 5)\n",
      "훈련 =  0.6424006605798991\n",
      "테스트 =  0.6337634370221501\n"
     ]
    }
   ],
   "source": [
    "### train_input, test_input 데이터 변환하기\n",
    "# 변수명 : train_poly, test_poly 사용\n",
    "\n",
    "### 객체생성(모델)\n",
    "poly = PolynomialFeatures(include_bias=False)\n",
    "\n",
    "### 훈련시키기 : 새롭게 만들 스스로 특성 조합 찾기\n",
    "poly.fit(train_input)\n",
    "\n",
    "### 찾은 특성 조합으로 데이터 변환하기\n",
    "# - 훈련데이터 변환하기\n",
    "train_poly = poly.transform(train_input)\n",
    "\n",
    "# - 테스트데이터 변환하기\n",
    "test_poly = poly.transform(test_input)\n",
    "\n",
    "print(train_poly.shape, test_poly.shape)\n",
    "\n",
    "### 훈련데이터와 테스트데이터 결정값 확인까지 \n",
    "\n",
    "from sklearn.linear_model import LinearRegression\n",
    "lr = LinearRegression()\n",
    "\n",
    "lr.fit(train_poly, train_target)\n",
    "print(\"훈련 = \", lr.score(train_poly, train_target))\n",
    "print(\"테스트 = \", lr.score(test_poly, test_target))"
   ]
  },
  {
   "cell_type": "code",
   "execution_count": 53,
   "metadata": {},
   "outputs": [
    {
     "name": "stdout",
     "output_type": "stream",
     "text": [
      "(198, 20) (66, 20)\n",
      "훈련 =  0.6686865960782669\n",
      "테스트 =  -1.0195702935597044\n"
     ]
    }
   ],
   "source": [
    "### train_input, test_input 데이터 변환하기\n",
    "# 변수명 : train_poly, test_poly 사용\n",
    "\n",
    "### 객체생성(모델)\n",
    "poly = PolynomialFeatures(degree = 5, include_bias=False)\n",
    "\n",
    "### 훈련시키기 : 새롭게 만들 스스로 특성 조합 찾기\n",
    "poly.fit(train_input)\n",
    "\n",
    "### 찾은 특성 조합으로 데이터 변환하기\n",
    "# - 훈련데이터 변환하기\n",
    "train_poly = poly.transform(train_input)\n",
    "\n",
    "# - 테스트데이터 변환하기\n",
    "test_poly = poly.transform(test_input)\n",
    "\n",
    "print(train_poly.shape, test_poly.shape)\n",
    "\n",
    "### 훈련데이터와 테스트데이터 결정값 확인까지 \n",
    "\n",
    "from sklearn.linear_model import LinearRegression\n",
    "lr = LinearRegression()\n",
    "\n",
    "lr.fit(train_poly, train_target)\n",
    "print(\"훈련 = \", lr.score(train_poly, train_target))\n",
    "print(\"테스트 = \", lr.score(test_poly, test_target))"
   ]
  },
  {
   "cell_type": "code",
   "execution_count": 54,
   "metadata": {},
   "outputs": [],
   "source": [
    "### 정규화(또는 표준화)\n",
    "\n",
    "### 사용패키지\n",
    "from sklearn.preprocessing import StandardScaler"
   ]
  },
  {
   "cell_type": "code",
   "execution_count": 55,
   "metadata": {},
   "outputs": [
    {
     "data": {
      "text/plain": [
       "StandardScaler()"
      ]
     },
     "execution_count": 55,
     "metadata": {},
     "output_type": "execute_result"
    }
   ],
   "source": [
    "### 클래스(모델) 생성하기\n",
    "ss = StandardScaler()\n",
    "### 스스로 표준점수를 만들어냅니다.\n",
    "ss.fit(train_poly, train_target)"
   ]
  },
  {
   "cell_type": "code",
   "execution_count": 56,
   "metadata": {},
   "outputs": [
    {
     "name": "stdout",
     "output_type": "stream",
     "text": [
      "[  2.91919192   3.14141414   9.41414141   9.57575758  10.61616162\n",
      "  32.31313131  32.09090909  33.52525253  37.92929293 116.2020202\n",
      " 114.18181818 116.26262626 123.66666667 141.76767677 434.73737374\n",
      " 425.06060606 427.46464646 442.66666667 476.49494949 550.41414141] [  0.94470099   0.86468422   5.2512819    4.95656061   5.39117699\n",
      "  25.31863468  24.7437742   25.16163644  27.74095631 119.60524125\n",
      " 117.854504   119.39566561 123.80128261 136.03942004 566.46493889\n",
      " 560.25815331 564.66090321 578.77571937 604.3252498  660.14808578]\n"
     ]
    }
   ],
   "source": [
    "### 훈련데이터 표준점수로 변환하기\n",
    "train_scaled = ss.transform(train_poly)\n",
    "test_scaled = ss.transform(test_poly)\n",
    "\n",
    "# 평균 및 표준편차 확인하기\n",
    "print(ss.mean_, ss.scale_)"
   ]
  },
  {
   "cell_type": "code",
   "execution_count": 57,
   "metadata": {},
   "outputs": [
    {
     "name": "stdout",
     "output_type": "stream",
     "text": [
      "훈련 =  0.6428834595890403\n",
      "테스트 =  0.6342200586076746\n"
     ]
    }
   ],
   "source": [
    "from sklearn.linear_model import Ridge\n",
    "\n",
    "### 객체(모델) 생성\n",
    "ridge = Ridge()\n",
    "\n",
    "### 훈련모델 생성\n",
    "ridge.fit(train_scaled, train_target)\n",
    "\n",
    "### 훈련데이터 결정계수\n",
    "print(\"훈련 = \", ridge.score(train_scaled, train_target))\n",
    "\n",
    "### 테스트데이터 결정계수\n",
    "print(\"테스트 = \", ridge.score(test_scaled, test_target))\n"
   ]
  },
  {
   "cell_type": "code",
   "execution_count": 58,
   "metadata": {},
   "outputs": [
    {
     "name": "stdout",
     "output_type": "stream",
     "text": [
      "훈련 =  0.0\n",
      "테스트 =  -0.03759780907668264\n"
     ]
    }
   ],
   "source": [
    "from sklearn.linear_model import Lasso\n",
    "\n",
    "### 객체(모델) 생성\n",
    "lasso = Lasso()\n",
    "\n",
    "### 훈련모델 생성\n",
    "lasso.fit(train_scaled, train_target)\n",
    "\n",
    "### 훈련데이터 결정계수\n",
    "print(\"훈련 = \", lasso.score(train_scaled, train_target))\n",
    "\n",
    "### 테스트데이터 결정계수\n",
    "print(\"테스트 = \", lasso.score(test_scaled, test_target))"
   ]
  },
  {
   "cell_type": "code",
   "execution_count": 59,
   "metadata": {},
   "outputs": [
    {
     "data": {
      "image/png": "[encoded data removed]",
      "text/plain": [
       "<Figure size 432x288 with 1 Axes>"
      ]
     },
     "metadata": {
      "needs_background": "light"
     },
     "output_type": "display_data"
    }
   ],
   "source": [
    "### alpha 강도 조절값 찾아보기\n",
    "import matplotlib.pyplot as plt\n",
    "\n",
    "# 훈련 시 발생하는 결정계수를 저장할 리스트\n",
    "train_score = []\n",
    "# 테스트 시 발생하는 결정계수를 저장할 리스트 \n",
    "test_score = []\n",
    "\n",
    "# 임의 alpha 값(x축으로 설정합니다.) 설정(범위 설정)\n",
    "alpha_list = [0.001, 0.01, 0.1, 1, 10, 100]\n",
    "\n",
    "### 훈련 및 테스트 결정계수 데이터 조회하기\n",
    "for alpha in alpha_list :\n",
    "    # 릿지 모델\n",
    "    ridge = Ridge(alpha=alpha)\n",
    "    ridge.fit(train_scaled, train_target)\n",
    "    train_score.append(ridge.score(train_scaled, train_target))\n",
    "    test_score.append(ridge.score(test_scaled, test_target))\n",
    "    \n",
    "### 그래프로 시각화\n",
    "# - log10 : 지수로 표현\n",
    "plt.plot(np.log10(alpha_list), train_score)\n",
    "plt.plot(np.log10(alpha_list), test_score)\n",
    "plt.show()"
   ]
  },
  {
   "cell_type": "code",
   "execution_count": 60,
   "metadata": {},
   "outputs": [
    {
     "name": "stdout",
     "output_type": "stream",
     "text": [
      "0.6513797753798272\n",
      "0.6158302545734384\n"
     ]
    }
   ],
   "source": [
    "# 릿지 모델\n",
    "ridge = Ridge(alpha=0.1)\n",
    "ridge.fit(train_scaled, train_target)\n",
    "print(ridge.score(train_scaled, train_target))\n",
    "print(ridge.score(test_scaled, test_target))"
   ]
  },
  {
   "cell_type": "code",
   "execution_count": 61,
   "metadata": {},
   "outputs": [
    {
     "name": "stderr",
     "output_type": "stream",
     "text": [
      "c:\\Users\\admin\\anaconda3\\lib\\site-packages\\sklearn\\linear_model\\_coordinate_descent.py:647: ConvergenceWarning: Objective did not converge. You might want to increase the number of iterations, check the scale of the features or consider increasing regularisation. Duality gap: 7.100e-01, tolerance: 1.364e-02\n",
      "  model = cd_fast.enet_coordinate_descent(\n"
     ]
    },
    {
     "data": {
      "image/png": "[encoded data removed]",
      "text/plain": [
       "<Figure size 432x288 with 1 Axes>"
      ]
     },
     "metadata": {
      "needs_background": "light"
     },
     "output_type": "display_data"
    }
   ],
   "source": [
    "# 훈련 시 발생하는 결정계수를 저장할 리스트\n",
    "train_score = []\n",
    "# 테스트 시 발생하는 결정계수를 저장할 리스트 \n",
    "test_score = []\n",
    "\n",
    "# 임의 alpha 값(x축으로 설정합니다.) 설정(범위 설정)\n",
    "alpha_list = [0.001, 0.01, 0.1, 1, 10, 100]\n",
    "\n",
    "### 훈련 및 테스트 결정계수 데이터 조회하기\n",
    "for alpha in alpha_list :\n",
    "    # 라쏘 모델\n",
    "    lasso = Lasso(alpha=alpha)\n",
    "    lasso.fit(train_scaled, train_target)\n",
    "    train_score.append(lasso.score(train_scaled, train_target))\n",
    "    test_score.append(lasso.score(test_scaled, test_target))\n",
    "    \n",
    "### 그래프로 시각화\n",
    "# - log10 : 지수로 표현\n",
    "plt.plot(np.log10(alpha_list), train_score)\n",
    "plt.plot(np.log10(alpha_list), test_score)\n",
    "plt.show()"
   ]
  },
  {
   "cell_type": "code",
   "execution_count": 62,
   "metadata": {},
   "outputs": [
    {
     "name": "stdout",
     "output_type": "stream",
     "text": [
      "0.6447980298364199\n",
      "0.632062293175824\n"
     ]
    },
    {
     "name": "stderr",
     "output_type": "stream",
     "text": [
      "c:\\Users\\admin\\anaconda3\\lib\\site-packages\\sklearn\\linear_model\\_coordinate_descent.py:647: ConvergenceWarning: Objective did not converge. You might want to increase the number of iterations, check the scale of the features or consider increasing regularisation. Duality gap: 7.100e-01, tolerance: 1.364e-02\n",
      "  model = cd_fast.enet_coordinate_descent(\n"
     ]
    }
   ],
   "source": [
    "# 라쏘 모델\n",
    "lasso = Lasso(alpha = 0.001)\n",
    "lasso.fit(train_scaled, train_target)\n",
    "print(lasso.score(train_scaled, train_target))\n",
    "print(lasso.score(test_scaled, test_target))"
   ]
  },
  {
   "cell_type": "code",
   "execution_count": 66,
   "metadata": {},
   "outputs": [
    {
     "name": "stdout",
     "output_type": "stream",
     "text": [
      "다중 훈련 =  0.6686865960782669\n",
      "다중 테스트 =  -1.0195702935597044\n",
      "릿지 훈련 =  0.6513797753798272\n",
      "릿지 테스트 =  -568878.1129432657\n",
      "라쏘 훈련 =  0.6447980298364199\n",
      "라쏘 테스트 =  -35237.54545904275\n"
     ]
    }
   ],
   "source": [
    "### (해석)\n",
    "print(\"다중 훈련 = \", lr.score(train_poly, train_target))\n",
    "print(\"다중 테스트 = \", lr.score(test_poly, test_target))\n",
    "print(\"릿지 훈련 = \", ridge.score(train_scaled, train_target))\n",
    "print(\"릿지 테스트 = \", ridge.score(test_poly, test_target))\n",
    "print(\"라쏘 훈련 = \", lasso.score(train_scaled, train_target))\n",
    "print(\"라쏘 테스트 = \", lasso.score(test_poly, test_target))\n",
    "# 적합한 모델을 찾아보았지만 적합한 것이 발견되지 않았습니다.\n",
    "# 데이터는 모두 과소적합이 나왔습니다.\n",
    "# 따라서 더 나은 데이터를 찾아야합니다"
   ]
  }
 ],
 "metadata": {
  "kernelspec": {
   "display_name": "ml_kernel",
   "language": "python",
   "name": "ml"
  },
  "language_info": {
   "codemirror_mode": {
    "name": "ipython",
    "version": 3
   },
   "file_extension": ".py",
   "mimetype": "text/x-python",
   "name": "python",
   "nbconvert_exporter": "python",
   "pygments_lexer": "ipython3",
   "version": "3.9.12"
  },
  "orig_nbformat": 4,
  "vscode": {
   "interpreter": {
    "hash": "38ae1ba9371524da054e8e3fbefd778d16b5a8ac7937a3f395010f627bb73919"
   }
  }
 },
 "nbformat": 4,
 "nbformat_minor": 2
}
