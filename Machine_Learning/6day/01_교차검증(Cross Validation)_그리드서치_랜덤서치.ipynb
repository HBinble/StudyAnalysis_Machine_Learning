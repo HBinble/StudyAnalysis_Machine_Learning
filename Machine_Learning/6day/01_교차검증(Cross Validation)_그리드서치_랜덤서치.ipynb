{
 "cells": [
  {
   "cell_type": "markdown",
   "metadata": {},
   "source": [
    "## 교차검증(Cross Validation)"
   ]
  },
  {
   "cell_type": "markdown",
   "metadata": {},
   "source": [
    "### 데이터 불러오기 : 08_wine.csv"
   ]
  },
  {
   "cell_type": "code",
   "execution_count": 85,
   "metadata": {},
   "outputs": [
    {
     "data": {
      "text/html": [
       "<div>\n",
       "<style scoped>\n",
       "    .dataframe tbody tr th:only-of-type {\n",
       "        vertical-align: middle;\n",
       "    }\n",
       "\n",
       "    .dataframe tbody tr th {\n",
       "        vertical-align: top;\n",
       "    }\n",
       "\n",
       "    .dataframe thead th {\n",
       "        text-align: right;\n",
       "    }\n",
       "</style>\n",
       "<table border=\"1\" class=\"dataframe\">\n",
       "  <thead>\n",
       "    <tr style=\"text-align: right;\">\n",
       "      <th></th>\n",
       "      <th>alcohol</th>\n",
       "      <th>sugar</th>\n",
       "      <th>pH</th>\n",
       "      <th>class</th>\n",
       "    </tr>\n",
       "  </thead>\n",
       "  <tbody>\n",
       "    <tr>\n",
       "      <th>0</th>\n",
       "      <td>9.4</td>\n",
       "      <td>1.9</td>\n",
       "      <td>3.51</td>\n",
       "      <td>0.0</td>\n",
       "    </tr>\n",
       "    <tr>\n",
       "      <th>1</th>\n",
       "      <td>9.8</td>\n",
       "      <td>2.6</td>\n",
       "      <td>3.20</td>\n",
       "      <td>0.0</td>\n",
       "    </tr>\n",
       "    <tr>\n",
       "      <th>2</th>\n",
       "      <td>9.8</td>\n",
       "      <td>2.3</td>\n",
       "      <td>3.26</td>\n",
       "      <td>0.0</td>\n",
       "    </tr>\n",
       "    <tr>\n",
       "      <th>3</th>\n",
       "      <td>9.8</td>\n",
       "      <td>1.9</td>\n",
       "      <td>3.16</td>\n",
       "      <td>0.0</td>\n",
       "    </tr>\n",
       "    <tr>\n",
       "      <th>4</th>\n",
       "      <td>9.4</td>\n",
       "      <td>1.9</td>\n",
       "      <td>3.51</td>\n",
       "      <td>0.0</td>\n",
       "    </tr>\n",
       "  </tbody>\n",
       "</table>\n",
       "</div>"
      ],
      "text/plain": [
       "   alcohol  sugar    pH  class\n",
       "0      9.4    1.9  3.51    0.0\n",
       "1      9.8    2.6  3.20    0.0\n",
       "2      9.8    2.3  3.26    0.0\n",
       "3      9.8    1.9  3.16    0.0\n",
       "4      9.4    1.9  3.51    0.0"
      ]
     },
     "execution_count": 85,
     "metadata": {},
     "output_type": "execute_result"
    }
   ],
   "source": [
    "### 08_wine.csv 파일 불러들이고 출력\n",
    "import pandas as pd\n",
    "wine = pd.read_csv(\"./data/08_wine.csv\")\n",
    "wine.head()"
   ]
  },
  {
   "cell_type": "code",
   "execution_count": 86,
   "metadata": {},
   "outputs": [
    {
     "name": "stdout",
     "output_type": "stream",
     "text": [
      "<class 'pandas.core.frame.DataFrame'>\n",
      "RangeIndex: 6497 entries, 0 to 6496\n",
      "Data columns (total 4 columns):\n",
      " #   Column   Non-Null Count  Dtype  \n",
      "---  ------   --------------  -----  \n",
      " 0   alcohol  6497 non-null   float64\n",
      " 1   sugar    6497 non-null   float64\n",
      " 2   pH       6497 non-null   float64\n",
      " 3   class    6497 non-null   float64\n",
      "dtypes: float64(4)\n",
      "memory usage: 203.2 KB\n"
     ]
    }
   ],
   "source": [
    "# 결측치 확인\n",
    "wine.info()"
   ]
  },
  {
   "cell_type": "code",
   "execution_count": 87,
   "metadata": {},
   "outputs": [
    {
     "name": "stdout",
     "output_type": "stream",
     "text": [
      "(6497, 3) (6497,)\n"
     ]
    }
   ],
   "source": [
    "### 독립변수와 종속변수 데이터 추출하기\n",
    "# 독립변수명 : data\n",
    "# 종속변수명 : target\n",
    "data = wine[[\"alcohol\", \"sugar\", \"pH\"]].to_numpy()\n",
    "target = wine[\"class\"].to_numpy()\n",
    "\n",
    "print(data.shape, target.shape)"
   ]
  },
  {
   "cell_type": "markdown",
   "metadata": {},
   "source": [
    "### 교차검증 : train_test_split() 방식"
   ]
  },
  {
   "cell_type": "code",
   "execution_count": 88,
   "metadata": {},
   "outputs": [],
   "source": [
    "### 훈련데이터 : 검증데이터 : 테스트데이터 로 쪼개기\n",
    "# - 보통 6 : 2 : 2 로 쪼갠다\n",
    "# - 보통 많이 사용하는 방식"
   ]
  },
  {
   "cell_type": "code",
   "execution_count": 89,
   "metadata": {},
   "outputs": [
    {
     "name": "stdout",
     "output_type": "stream",
     "text": [
      "(5197, 3) (5197,)\n",
      "(1300, 3) (1300,)\n"
     ]
    }
   ],
   "source": [
    "### 1. 훈련데이터와 테스트데이터를 8 : 2로 쪼개기\n",
    "from sklearn.model_selection import train_test_split\n",
    "train_input, test_input, train_target, test_target = \\\n",
    "    train_test_split(data, target, test_size=0.2, random_state=42)\n",
    "    \n",
    "print(train_input.shape, train_target.shape)\n",
    "print(test_input.shape, test_target.shape)"
   ]
  },
  {
   "cell_type": "code",
   "execution_count": 90,
   "metadata": {},
   "outputs": [
    {
     "name": "stdout",
     "output_type": "stream",
     "text": [
      "(4157, 3) (4157,)\n",
      "(1040, 3) (1040,)\n"
     ]
    }
   ],
   "source": [
    "### 2. 훈련데이터를 이용해서 검증데이터 생성하기\n",
    "sub_input, val_input, sub_target, val_target = \\\n",
    "    train_test_split(train_input, train_target, \n",
    "                    test_size=0.2, random_state=42)\n",
    "    \n",
    "print(sub_input.shape, sub_target.shape)\n",
    "print(val_input.shape, val_target.shape)"
   ]
  },
  {
   "cell_type": "code",
   "execution_count": 91,
   "metadata": {},
   "outputs": [
    {
     "name": "stdout",
     "output_type": "stream",
     "text": [
      "훈련 = 0.9971133028626413\n",
      "검증 =  0.864423076923077\n"
     ]
    }
   ],
   "source": [
    "### 결정트리를 이용해서 훈련 및 평가하기\n",
    "# - 데이터는 훈련 및 검증 데이터를 이용합니다.\n",
    "from sklearn.tree import DecisionTreeClassifier\n",
    "\n",
    "dt = DecisionTreeClassifier(random_state=42)\n",
    "\n",
    "dt.fit(sub_input, sub_target)\n",
    "\n",
    "print(\"훈련 =\", dt.score(sub_input, sub_target))\n",
    "print(\"검증 = \", dt.score(val_input, val_target))"
   ]
  },
  {
   "cell_type": "code",
   "execution_count": 92,
   "metadata": {},
   "outputs": [
    {
     "name": "stdout",
     "output_type": "stream",
     "text": [
      "테스트 =  0.8569230769230769\n"
     ]
    }
   ],
   "source": [
    "print(\"테스트 = \", dt.score(test_input, test_target))"
   ]
  },
  {
   "cell_type": "markdown",
   "metadata": {},
   "source": [
    "## 교차검증 시작(실제 사용 방식)"
   ]
  },
  {
   "cell_type": "code",
   "execution_count": 93,
   "metadata": {},
   "outputs": [],
   "source": [
    "### 훈련데이터와 검증데이터를 구분할 필요없이\n",
    "# - 내부적으로 구분해서 사용\n",
    "# - 내부적으로 구분에 사용되는 데이터는 훈련(train) 데이터\n",
    "# - 데이터 준비는 기존처럼 훈련과 테스트 데이터만 준비\n",
    "# - 검증데이터는 별도로 준비 안해도 됨"
   ]
  },
  {
   "cell_type": "code",
   "execution_count": 94,
   "metadata": {},
   "outputs": [],
   "source": [
    "### 교차검증에 사용되는 주요 키워드\n",
    "# 3-폴드(fold) 교차검증\n",
    "#   : 훈련데이터를 세부분으로 나눠서 데이터를 쪼개고 수행\n",
    "#   : 구간마다 훈련데이터를 검증데이터로 바꿔가면서 수행\n",
    "#   : k-폴드 교차검증 또는 k-겹 교차검증이라고도 합니다.\n",
    "\n",
    "# 보통 5-폴드 교차검증 또는 10-폴드 교차검증을 사용합니다.\n",
    "#   : 훈련데이터로 80% 이상을 모두 모델 훈련에 사용 가능"
   ]
  },
  {
   "cell_type": "code",
   "execution_count": 95,
   "metadata": {},
   "outputs": [
    {
     "name": "stdout",
     "output_type": "stream",
     "text": [
      "(5197, 3) (5197,)\n",
      "(1300, 3) (1300,)\n"
     ]
    }
   ],
   "source": [
    "### 사용하는 데이터 다시한번 확인\n",
    "print(train_input.shape, train_target.shape)\n",
    "print(test_input.shape, test_target.shape)"
   ]
  },
  {
   "cell_type": "code",
   "execution_count": 96,
   "metadata": {},
   "outputs": [
    {
     "name": "stdout",
     "output_type": "stream",
     "text": [
      "최종 score =  0.855300214703487\n"
     ]
    }
   ],
   "source": [
    "### 교차검증 모듈 : cross_validate\n",
    "import numpy as np\n",
    "from sklearn.model_selection import cross_validate\n",
    "\n",
    "# dt : 결정트리 훈련모델(다른 모델을 사용한 경우 해당 모델)\n",
    "# 두번째값 : 훈련데이터(fold에서 훈련데이터 쪼갤때 사용)\n",
    "# 세번째값 : 검증데이터(fold에서 검증데이터 쪼갤때 사용)\n",
    "scores = cross_validate(dt, train_input, train_target)\n",
    "# print(scores)\n",
    "\n",
    "### 딕셔너리의 test_score의 평균값이 최종 훈련모델의 평가점수(정확도)\n",
    "print(\"최종 score = \", np.mean(scores[\"test_score\"]))\n",
    "# print(\"최종 score = \", scores[\"test_score\"].mean())"
   ]
  },
  {
   "cell_type": "code",
   "execution_count": 97,
   "metadata": {},
   "outputs": [
    {
     "name": "stdout",
     "output_type": "stream",
     "text": [
      "{'fit_time': array([0.00796604, 0.00605845, 0.0090065 , 0.00698113, 0.00698018]), 'score_time': array([0.00101876, 0.00090075, 0.00096607, 0.00099897, 0.        ]), 'test_score': array([0.86923077, 0.84615385, 0.87680462, 0.84889317, 0.83541867])}\n",
      "최종 score =  0.855300214703487\n"
     ]
    }
   ],
   "source": [
    "### 훈련데이터를 섞거나, 폴드의 갯수를 지정할 수 있는 클래스\n",
    "# - StratifiedKFold\n",
    "from sklearn.model_selection import StratifiedKFold\n",
    "\n",
    "# 교차검증 함수 그대로 사용\n",
    "# cv : 분할기 속성\n",
    "#    : 분할기로 StratifiedKFold 클래스 사용\n",
    "#    : 속성값이 없을 경우 기본 fold는 5, 기본 섞지는 않음\n",
    "scores = cross_validate(dt, train_input, train_target,\n",
    "                        cv = StratifiedKFold())\n",
    "\n",
    "print(scores)\n",
    "\n",
    "### 딕셔너리의 test_score의 평균값이 최종 훈련모델의 평가점수(정확도)\n",
    "print(\"최종 score = \", np.mean(scores[\"test_score\"]))\n"
   ]
  },
  {
   "cell_type": "code",
   "execution_count": 98,
   "metadata": {},
   "outputs": [
    {
     "name": "stdout",
     "output_type": "stream",
     "text": [
      "{'fit_time': array([0.00897717, 0.00798106, 0.00796294, 0.00698137, 0.00753188,\n",
      "       0.0072279 , 0.00698185, 0.00698113, 0.00698185, 0.00698566,\n",
      "       0.0069561 , 0.00706792, 0.01096988, 0.00636959, 0.00697994,\n",
      "       0.00599575, 0.00786376, 0.00700831, 0.00678778, 0.0069797 ]), 'score_time': array([0.        , 0.        , 0.        , 0.00101233, 0.00099754,\n",
      "       0.00097966, 0.00099683, 0.0009973 , 0.0009985 , 0.        ,\n",
      "       0.        , 0.        , 0.00099945, 0.00062561, 0.        ,\n",
      "       0.00108385, 0.        , 0.        , 0.00099707, 0.00102282]), 'test_score': array([0.85384615, 0.85384615, 0.88461538, 0.86923077, 0.84230769,\n",
      "       0.86538462, 0.87307692, 0.85384615, 0.83461538, 0.84615385,\n",
      "       0.87307692, 0.86923077, 0.85      , 0.86538462, 0.86153846,\n",
      "       0.86538462, 0.84615385, 0.83783784, 0.8996139 , 0.86100386])}\n",
      "최종 score =  0.8603073953073954\n"
     ]
    }
   ],
   "source": [
    "### 훈련데이터를 섞거나, 폴드의 갯수를 지정할 수 있는 클래스\n",
    "# - StratifiedKFold\n",
    "from sklearn.model_selection import StratifiedKFold\n",
    "\n",
    "# 교차검증 함수 그대로 사용\n",
    "# cv : 분할기 속성\n",
    "#    : 분할기로 StratifiedKFold 클래스 사용\n",
    "#    : 속성값이 없을 경우 기본 fold는 5, 기본 섞지는 않음\n",
    "\n",
    "# n_splits : fold 갯수, shuffle : 섞기\n",
    "splitter = StratifiedKFold(n_splits=20, shuffle=True, random_state=42)\n",
    "scores = cross_validate(dt, train_input, train_target,\n",
    "                        cv = splitter)\n",
    "\n",
    "print(scores)\n",
    "\n",
    "### 딕셔너리의 test_score의 평균값이 최종 훈련모델의 평가점수(정확도)\n",
    "print(\"최종 score = \", np.mean(scores[\"test_score\"]))"
   ]
  },
  {
   "cell_type": "markdown",
   "metadata": {},
   "source": [
    "## 하이퍼파라미터 튜닝(AutoML)"
   ]
  },
  {
   "cell_type": "code",
   "execution_count": 99,
   "metadata": {},
   "outputs": [],
   "source": [
    "### 교차검증, 하이퍼파라미터 찾기, 모델훈련을 한번에 자동으로 수행\n",
    "# - 이런 개념을  AutoML이라고 합니다.\n",
    "# - 사용패키지 : sklearn.model_selection\n",
    "# - 사용클래스 : GridSearchCV\n",
    "# - 그리드 서치라고도 합니다."
   ]
  },
  {
   "cell_type": "markdown",
   "metadata": {},
   "source": [
    "## 결정트리의 max_depth(트리의 깊이) 값 찾기\n",
    "##### - 그리드서치(GridSearchCV) 객체(모델)사용"
   ]
  },
  {
   "cell_type": "code",
   "execution_count": 100,
   "metadata": {},
   "outputs": [
    {
     "data": {
      "text/plain": [
       "GridSearchCV(estimator=DecisionTreeClassifier(random_state=42), n_jobs=-1,\n",
       "             param_grid={'max_depth': range(5, 20)})"
      ]
     },
     "execution_count": 100,
     "metadata": {},
     "output_type": "execute_result"
    }
   ],
   "source": [
    "from sklearn.model_selection import GridSearchCV\n",
    "\n",
    "# 찾을 하이퍼파라미터는 딕셔너리로\n",
    "# 실제 파라미터 변수이름 그대로, 찾을 범위 지정\n",
    "params = {\"max_depth\" : range(5, 20, 1)}\n",
    "\n",
    "# 객체(모델) 생성\n",
    "# - 첫번째 값 : 훈련모델 넣기\n",
    "# - 두번째 값 : 찾을 하이퍼파라미터 값들(딕셔너리로 정의)\n",
    "# - 세번째 값 : CPU 코어 갯수(-1은 모든 코어 사용, 병렬 처리)\n",
    "gs = GridSearchCV(DecisionTreeClassifier(random_state=42),\n",
    "                    params, n_jobs = -1)\n",
    "\n",
    "# 훈련시키기\n",
    "gs.fit(train_input, train_target)"
   ]
  },
  {
   "cell_type": "code",
   "execution_count": 101,
   "metadata": {},
   "outputs": [
    {
     "name": "stdout",
     "output_type": "stream",
     "text": [
      "DecisionTreeClassifier(max_depth=8, random_state=42)\n"
     ]
    }
   ],
   "source": [
    "# 그리드서치의 결과\n",
    "# - 하이퍼파라미터의 찾은 값 알려줌\n",
    "# - 중요 : 훈련모델이 생성되어 반환됨\n",
    "print(gs.best_estimator_)"
   ]
  },
  {
   "cell_type": "code",
   "execution_count": 102,
   "metadata": {},
   "outputs": [
    {
     "name": "stdout",
     "output_type": "stream",
     "text": [
      "그리드서치 훈련 =  0.9003271117952665\n"
     ]
    }
   ],
   "source": [
    "### 그리드서치를 통해 생성된 훈련모델을 통해\n",
    "# 평가해보기, 훈련데이터 전체 사용\n",
    "dt = gs.best_estimator_\n",
    "print(\"그리드서치 훈련 = \", dt.score(train_input, train_target))"
   ]
  },
  {
   "cell_type": "code",
   "execution_count": 103,
   "metadata": {},
   "outputs": [
    {
     "name": "stdout",
     "output_type": "stream",
     "text": [
      "{'max_depth': 8}\n"
     ]
    }
   ],
   "source": [
    "print(gs.best_params_)"
   ]
  },
  {
   "cell_type": "code",
   "execution_count": 104,
   "metadata": {},
   "outputs": [
    {
     "name": "stdout",
     "output_type": "stream",
     "text": [
      "{'mean_fit_time': array([0.0069325 , 0.00906363, 0.01187601, 0.01042643, 0.00896406,\n",
      "       0.00956578, 0.00869398, 0.00989575, 0.00919175, 0.00931759,\n",
      "       0.0113605 , 0.01000667, 0.01064577, 0.01006222, 0.00898066]), 'std_fit_time': array([0.0006734 , 0.00270639, 0.00059796, 0.0015867 , 0.00113086,\n",
      "       0.00065936, 0.00040214, 0.00061566, 0.0004122 , 0.00055513,\n",
      "       0.00204561, 0.00057659, 0.0012292 , 0.00085533, 0.00109754]), 'mean_score_time': array([0.0009975 , 0.00199485, 0.00110669, 0.00100098, 0.00073318,\n",
      "       0.00088344, 0.00091076, 0.00074549, 0.0011323 , 0.00079818,\n",
      "       0.00080843, 0.00079765, 0.00119629, 0.00076876, 0.00079789]), 'std_score_time': array([6.30901844e-04, 1.99472906e-03, 2.59665544e-04, 6.76638480e-06,\n",
      "       3.87426549e-04, 3.74644483e-04, 6.91245239e-04, 4.20332818e-04,\n",
      "       2.49558520e-04, 3.99089155e-04, 7.63920011e-04, 3.98827312e-04,\n",
      "       3.98922565e-04, 3.90877196e-04, 4.18161845e-04]), 'param_max_depth': masked_array(data=[5, 6, 7, 8, 9, 10, 11, 12, 13, 14, 15, 16, 17, 18, 19],\n",
      "             mask=[False, False, False, False, False, False, False, False,\n",
      "                   False, False, False, False, False, False, False],\n",
      "       fill_value='?',\n",
      "            dtype=object), 'params': [{'max_depth': 5}, {'max_depth': 6}, {'max_depth': 7}, {'max_depth': 8}, {'max_depth': 9}, {'max_depth': 10}, {'max_depth': 11}, {'max_depth': 12}, {'max_depth': 13}, {'max_depth': 14}, {'max_depth': 15}, {'max_depth': 16}, {'max_depth': 17}, {'max_depth': 18}, {'max_depth': 19}], 'split0_test_score': array([0.84711538, 0.84807692, 0.85769231, 0.85288462, 0.85769231,\n",
      "       0.84519231, 0.85865385, 0.86730769, 0.86538462, 0.86826923,\n",
      "       0.86730769, 0.86442308, 0.86346154, 0.86634615, 0.87211538]), 'split1_test_score': array([0.86346154, 0.85480769, 0.85192308, 0.85480769, 0.85961538,\n",
      "       0.84711538, 0.85096154, 0.84807692, 0.85384615, 0.85192308,\n",
      "       0.85384615, 0.84903846, 0.85      , 0.85384615, 0.85673077]), 'split2_test_score': array([0.88065448, 0.87391723, 0.87584216, 0.87872955, 0.87102984,\n",
      "       0.87680462, 0.88065448, 0.8825794 , 0.87391723, 0.87006737,\n",
      "       0.86814244, 0.87680462, 0.8719923 , 0.87391723, 0.87872955]), 'split3_test_score': array([0.83638114, 0.84311838, 0.84311838, 0.84696824, 0.84215592,\n",
      "       0.84696824, 0.85274302, 0.84889317, 0.85370549, 0.85851781,\n",
      "       0.85466795, 0.85948027, 0.85274302, 0.85659288, 0.84985563]), 'split4_test_score': array([0.8614052 , 0.85948027, 0.8479307 , 0.86525505, 0.85466795,\n",
      "       0.85274302, 0.84889317, 0.84889317, 0.83926853, 0.84119346,\n",
      "       0.8373436 , 0.83830606, 0.83926853, 0.83830606, 0.8373436 ]), 'mean_test_score': array([0.85780355, 0.8558801 , 0.85530133, 0.85972903, 0.85703228,\n",
      "       0.85376471, 0.85838121, 0.85915007, 0.8572244 , 0.85799419,\n",
      "       0.85626157, 0.8576105 , 0.85549308, 0.8578017 , 0.85895499]), 'std_test_score': array([0.0151017 , 0.0106132 , 0.01132965, 0.01118445, 0.00927293,\n",
      "       0.01179638, 0.01160204, 0.01377319, 0.01175966, 0.01068396,\n",
      "       0.01121994, 0.01314886, 0.01128444, 0.01208226, 0.01496013]), 'rank_test_score': array([ 6, 12, 14,  1, 10, 15,  4,  2,  9,  5, 11,  8, 13,  7,  3])}\n"
     ]
    }
   ],
   "source": [
    "print(gs.cv_results_)"
   ]
  },
  {
   "cell_type": "code",
   "execution_count": 105,
   "metadata": {},
   "outputs": [
    {
     "name": "stdout",
     "output_type": "stream",
     "text": [
      "dict_keys(['mean_fit_time', 'std_fit_time', 'mean_score_time', 'std_score_time', 'param_max_depth', 'params', 'split0_test_score', 'split1_test_score', 'split2_test_score', 'split3_test_score', 'split4_test_score', 'mean_test_score', 'std_test_score', 'rank_test_score'])\n"
     ]
    }
   ],
   "source": [
    "### 딕셔너리의 key값만 조회하기\n",
    "print(gs.cv_results_.keys())"
   ]
  },
  {
   "cell_type": "code",
   "execution_count": 106,
   "metadata": {},
   "outputs": [
    {
     "name": "stdout",
     "output_type": "stream",
     "text": [
      "[{'max_depth': 5}, {'max_depth': 6}, {'max_depth': 7}, {'max_depth': 8}, {'max_depth': 9}, {'max_depth': 10}, {'max_depth': 11}, {'max_depth': 12}, {'max_depth': 13}, {'max_depth': 14}, {'max_depth': 15}, {'max_depth': 16}, {'max_depth': 17}, {'max_depth': 18}, {'max_depth': 19}]\n"
     ]
    }
   ],
   "source": [
    "### params 값 확인하기\n",
    "print(gs.cv_results_[\"params\"])"
   ]
  },
  {
   "cell_type": "code",
   "execution_count": 107,
   "metadata": {},
   "outputs": [
    {
     "name": "stdout",
     "output_type": "stream",
     "text": [
      "[0.84711538 0.84807692 0.85769231 0.85288462 0.85769231 0.84519231\n",
      " 0.85865385 0.86730769 0.86538462 0.86826923 0.86730769 0.86442308\n",
      " 0.86346154 0.86634615 0.87211538]\n"
     ]
    }
   ],
   "source": [
    "### 1폴드 조회하기\n",
    "print(gs.cv_results_[\"split0_test_score\"])"
   ]
  },
  {
   "cell_type": "code",
   "execution_count": 108,
   "metadata": {},
   "outputs": [
    {
     "name": "stdout",
     "output_type": "stream",
     "text": [
      "그리드서치 테스트 =  0.8584615384615385\n"
     ]
    }
   ],
   "source": [
    "### 훈련모델 최종 검증하기\n",
    "# test 데이터 사용\n",
    "dt = gs.best_estimator_\n",
    "print(\"그리드서치 테스트 = \", dt.score(test_input, test_target))"
   ]
  },
  {
   "cell_type": "code",
   "execution_count": 109,
   "metadata": {},
   "outputs": [
    {
     "data": {
      "text/html": [
       "<div>\n",
       "<style scoped>\n",
       "    .dataframe tbody tr th:only-of-type {\n",
       "        vertical-align: middle;\n",
       "    }\n",
       "\n",
       "    .dataframe tbody tr th {\n",
       "        vertical-align: top;\n",
       "    }\n",
       "\n",
       "    .dataframe thead th {\n",
       "        text-align: right;\n",
       "    }\n",
       "</style>\n",
       "<table border=\"1\" class=\"dataframe\">\n",
       "  <thead>\n",
       "    <tr style=\"text-align: right;\">\n",
       "      <th></th>\n",
       "      <th>params</th>\n",
       "      <th>split_0</th>\n",
       "      <th>split_1</th>\n",
       "      <th>split_2</th>\n",
       "      <th>split_3</th>\n",
       "      <th>split_4</th>\n",
       "    </tr>\n",
       "  </thead>\n",
       "  <tbody>\n",
       "    <tr>\n",
       "      <th>0</th>\n",
       "      <td>{'max_depth': 5}</td>\n",
       "      <td>0.847115</td>\n",
       "      <td>0.863462</td>\n",
       "      <td>0.880654</td>\n",
       "      <td>0.836381</td>\n",
       "      <td>0.861405</td>\n",
       "    </tr>\n",
       "    <tr>\n",
       "      <th>1</th>\n",
       "      <td>{'max_depth': 6}</td>\n",
       "      <td>0.848077</td>\n",
       "      <td>0.854808</td>\n",
       "      <td>0.873917</td>\n",
       "      <td>0.843118</td>\n",
       "      <td>0.859480</td>\n",
       "    </tr>\n",
       "    <tr>\n",
       "      <th>2</th>\n",
       "      <td>{'max_depth': 7}</td>\n",
       "      <td>0.857692</td>\n",
       "      <td>0.851923</td>\n",
       "      <td>0.875842</td>\n",
       "      <td>0.843118</td>\n",
       "      <td>0.847931</td>\n",
       "    </tr>\n",
       "    <tr>\n",
       "      <th>3</th>\n",
       "      <td>{'max_depth': 8}</td>\n",
       "      <td>0.852885</td>\n",
       "      <td>0.854808</td>\n",
       "      <td>0.878730</td>\n",
       "      <td>0.846968</td>\n",
       "      <td>0.865255</td>\n",
       "    </tr>\n",
       "    <tr>\n",
       "      <th>4</th>\n",
       "      <td>{'max_depth': 9}</td>\n",
       "      <td>0.857692</td>\n",
       "      <td>0.859615</td>\n",
       "      <td>0.871030</td>\n",
       "      <td>0.842156</td>\n",
       "      <td>0.854668</td>\n",
       "    </tr>\n",
       "    <tr>\n",
       "      <th>5</th>\n",
       "      <td>{'max_depth': 10}</td>\n",
       "      <td>0.845192</td>\n",
       "      <td>0.847115</td>\n",
       "      <td>0.876805</td>\n",
       "      <td>0.846968</td>\n",
       "      <td>0.852743</td>\n",
       "    </tr>\n",
       "    <tr>\n",
       "      <th>6</th>\n",
       "      <td>{'max_depth': 11}</td>\n",
       "      <td>0.858654</td>\n",
       "      <td>0.850962</td>\n",
       "      <td>0.880654</td>\n",
       "      <td>0.852743</td>\n",
       "      <td>0.848893</td>\n",
       "    </tr>\n",
       "    <tr>\n",
       "      <th>7</th>\n",
       "      <td>{'max_depth': 12}</td>\n",
       "      <td>0.867308</td>\n",
       "      <td>0.848077</td>\n",
       "      <td>0.882579</td>\n",
       "      <td>0.848893</td>\n",
       "      <td>0.848893</td>\n",
       "    </tr>\n",
       "    <tr>\n",
       "      <th>8</th>\n",
       "      <td>{'max_depth': 13}</td>\n",
       "      <td>0.865385</td>\n",
       "      <td>0.853846</td>\n",
       "      <td>0.873917</td>\n",
       "      <td>0.853705</td>\n",
       "      <td>0.839269</td>\n",
       "    </tr>\n",
       "    <tr>\n",
       "      <th>9</th>\n",
       "      <td>{'max_depth': 14}</td>\n",
       "      <td>0.868269</td>\n",
       "      <td>0.851923</td>\n",
       "      <td>0.870067</td>\n",
       "      <td>0.858518</td>\n",
       "      <td>0.841193</td>\n",
       "    </tr>\n",
       "    <tr>\n",
       "      <th>10</th>\n",
       "      <td>{'max_depth': 15}</td>\n",
       "      <td>0.867308</td>\n",
       "      <td>0.853846</td>\n",
       "      <td>0.868142</td>\n",
       "      <td>0.854668</td>\n",
       "      <td>0.837344</td>\n",
       "    </tr>\n",
       "    <tr>\n",
       "      <th>11</th>\n",
       "      <td>{'max_depth': 16}</td>\n",
       "      <td>0.864423</td>\n",
       "      <td>0.849038</td>\n",
       "      <td>0.876805</td>\n",
       "      <td>0.859480</td>\n",
       "      <td>0.838306</td>\n",
       "    </tr>\n",
       "    <tr>\n",
       "      <th>12</th>\n",
       "      <td>{'max_depth': 17}</td>\n",
       "      <td>0.863462</td>\n",
       "      <td>0.850000</td>\n",
       "      <td>0.871992</td>\n",
       "      <td>0.852743</td>\n",
       "      <td>0.839269</td>\n",
       "    </tr>\n",
       "    <tr>\n",
       "      <th>13</th>\n",
       "      <td>{'max_depth': 18}</td>\n",
       "      <td>0.866346</td>\n",
       "      <td>0.853846</td>\n",
       "      <td>0.873917</td>\n",
       "      <td>0.856593</td>\n",
       "      <td>0.838306</td>\n",
       "    </tr>\n",
       "    <tr>\n",
       "      <th>14</th>\n",
       "      <td>{'max_depth': 19}</td>\n",
       "      <td>0.872115</td>\n",
       "      <td>0.856731</td>\n",
       "      <td>0.878730</td>\n",
       "      <td>0.849856</td>\n",
       "      <td>0.837344</td>\n",
       "    </tr>\n",
       "  </tbody>\n",
       "</table>\n",
       "</div>"
      ],
      "text/plain": [
       "               params   split_0   split_1   split_2   split_3   split_4\n",
       "0    {'max_depth': 5}  0.847115  0.863462  0.880654  0.836381  0.861405\n",
       "1    {'max_depth': 6}  0.848077  0.854808  0.873917  0.843118  0.859480\n",
       "2    {'max_depth': 7}  0.857692  0.851923  0.875842  0.843118  0.847931\n",
       "3    {'max_depth': 8}  0.852885  0.854808  0.878730  0.846968  0.865255\n",
       "4    {'max_depth': 9}  0.857692  0.859615  0.871030  0.842156  0.854668\n",
       "5   {'max_depth': 10}  0.845192  0.847115  0.876805  0.846968  0.852743\n",
       "6   {'max_depth': 11}  0.858654  0.850962  0.880654  0.852743  0.848893\n",
       "7   {'max_depth': 12}  0.867308  0.848077  0.882579  0.848893  0.848893\n",
       "8   {'max_depth': 13}  0.865385  0.853846  0.873917  0.853705  0.839269\n",
       "9   {'max_depth': 14}  0.868269  0.851923  0.870067  0.858518  0.841193\n",
       "10  {'max_depth': 15}  0.867308  0.853846  0.868142  0.854668  0.837344\n",
       "11  {'max_depth': 16}  0.864423  0.849038  0.876805  0.859480  0.838306\n",
       "12  {'max_depth': 17}  0.863462  0.850000  0.871992  0.852743  0.839269\n",
       "13  {'max_depth': 18}  0.866346  0.853846  0.873917  0.856593  0.838306\n",
       "14  {'max_depth': 19}  0.872115  0.856731  0.878730  0.849856  0.837344"
      ]
     },
     "execution_count": 109,
     "metadata": {},
     "output_type": "execute_result"
    }
   ],
   "source": [
    "### 딕셔너리 데이터프레임 만들기\n",
    "import pandas as pd\n",
    "\n",
    "params = gs.cv_results_['params']\n",
    "split_0 = gs.cv_results_['split0_test_score']\n",
    "split_1 = gs.cv_results_['split1_test_score']\n",
    "split_2 = gs.cv_results_['split2_test_score']\n",
    "split_3 = gs.cv_results_['split3_test_score']\n",
    "split_4 = gs.cv_results_['split4_test_score']\n",
    "\n",
    "gs_data = [[par, spl_0, spl_1, spl_2, spl_3, spl_4] \n",
    "            for par, spl_0, spl_1, spl_2, spl_3, spl_4 \n",
    "            in zip(params,split_0,split_1,split_2,split_3,split_4)]\n",
    "\n",
    "gs_df = pd.DataFrame(gs_data, columns=['params','split_0','split_1','split_2','split_3','split_4'])\n",
    "gs_df"
   ]
  },
  {
   "cell_type": "code",
   "execution_count": 110,
   "metadata": {},
   "outputs": [
    {
     "data": {
      "text/html": [
       "<div>\n",
       "<style scoped>\n",
       "    .dataframe tbody tr th:only-of-type {\n",
       "        vertical-align: middle;\n",
       "    }\n",
       "\n",
       "    .dataframe tbody tr th {\n",
       "        vertical-align: top;\n",
       "    }\n",
       "\n",
       "    .dataframe thead th {\n",
       "        text-align: right;\n",
       "    }\n",
       "</style>\n",
       "<table border=\"1\" class=\"dataframe\">\n",
       "  <thead>\n",
       "    <tr style=\"text-align: right;\">\n",
       "      <th></th>\n",
       "      <th>params</th>\n",
       "      <th>split_0</th>\n",
       "      <th>split_1</th>\n",
       "      <th>split_2</th>\n",
       "      <th>split_3</th>\n",
       "      <th>split_4</th>\n",
       "    </tr>\n",
       "  </thead>\n",
       "  <tbody>\n",
       "    <tr>\n",
       "      <th>0</th>\n",
       "      <td>{'max_depth': 5}</td>\n",
       "      <td>0.847115</td>\n",
       "      <td>0.863462</td>\n",
       "      <td>0.880654</td>\n",
       "      <td>0.836381</td>\n",
       "      <td>0.861405</td>\n",
       "    </tr>\n",
       "    <tr>\n",
       "      <th>1</th>\n",
       "      <td>{'max_depth': 6}</td>\n",
       "      <td>0.848077</td>\n",
       "      <td>0.854808</td>\n",
       "      <td>0.873917</td>\n",
       "      <td>0.843118</td>\n",
       "      <td>0.859480</td>\n",
       "    </tr>\n",
       "    <tr>\n",
       "      <th>2</th>\n",
       "      <td>{'max_depth': 7}</td>\n",
       "      <td>0.857692</td>\n",
       "      <td>0.851923</td>\n",
       "      <td>0.875842</td>\n",
       "      <td>0.843118</td>\n",
       "      <td>0.847931</td>\n",
       "    </tr>\n",
       "    <tr>\n",
       "      <th>3</th>\n",
       "      <td>{'max_depth': 8}</td>\n",
       "      <td>0.852885</td>\n",
       "      <td>0.854808</td>\n",
       "      <td>0.878730</td>\n",
       "      <td>0.846968</td>\n",
       "      <td>0.865255</td>\n",
       "    </tr>\n",
       "    <tr>\n",
       "      <th>4</th>\n",
       "      <td>{'max_depth': 9}</td>\n",
       "      <td>0.857692</td>\n",
       "      <td>0.859615</td>\n",
       "      <td>0.871030</td>\n",
       "      <td>0.842156</td>\n",
       "      <td>0.854668</td>\n",
       "    </tr>\n",
       "    <tr>\n",
       "      <th>5</th>\n",
       "      <td>{'max_depth': 10}</td>\n",
       "      <td>0.845192</td>\n",
       "      <td>0.847115</td>\n",
       "      <td>0.876805</td>\n",
       "      <td>0.846968</td>\n",
       "      <td>0.852743</td>\n",
       "    </tr>\n",
       "    <tr>\n",
       "      <th>6</th>\n",
       "      <td>{'max_depth': 11}</td>\n",
       "      <td>0.858654</td>\n",
       "      <td>0.850962</td>\n",
       "      <td>0.880654</td>\n",
       "      <td>0.852743</td>\n",
       "      <td>0.848893</td>\n",
       "    </tr>\n",
       "    <tr>\n",
       "      <th>7</th>\n",
       "      <td>{'max_depth': 12}</td>\n",
       "      <td>0.867308</td>\n",
       "      <td>0.848077</td>\n",
       "      <td>0.882579</td>\n",
       "      <td>0.848893</td>\n",
       "      <td>0.848893</td>\n",
       "    </tr>\n",
       "    <tr>\n",
       "      <th>8</th>\n",
       "      <td>{'max_depth': 13}</td>\n",
       "      <td>0.865385</td>\n",
       "      <td>0.853846</td>\n",
       "      <td>0.873917</td>\n",
       "      <td>0.853705</td>\n",
       "      <td>0.839269</td>\n",
       "    </tr>\n",
       "    <tr>\n",
       "      <th>9</th>\n",
       "      <td>{'max_depth': 14}</td>\n",
       "      <td>0.868269</td>\n",
       "      <td>0.851923</td>\n",
       "      <td>0.870067</td>\n",
       "      <td>0.858518</td>\n",
       "      <td>0.841193</td>\n",
       "    </tr>\n",
       "    <tr>\n",
       "      <th>10</th>\n",
       "      <td>{'max_depth': 15}</td>\n",
       "      <td>0.867308</td>\n",
       "      <td>0.853846</td>\n",
       "      <td>0.868142</td>\n",
       "      <td>0.854668</td>\n",
       "      <td>0.837344</td>\n",
       "    </tr>\n",
       "    <tr>\n",
       "      <th>11</th>\n",
       "      <td>{'max_depth': 16}</td>\n",
       "      <td>0.864423</td>\n",
       "      <td>0.849038</td>\n",
       "      <td>0.876805</td>\n",
       "      <td>0.859480</td>\n",
       "      <td>0.838306</td>\n",
       "    </tr>\n",
       "    <tr>\n",
       "      <th>12</th>\n",
       "      <td>{'max_depth': 17}</td>\n",
       "      <td>0.863462</td>\n",
       "      <td>0.850000</td>\n",
       "      <td>0.871992</td>\n",
       "      <td>0.852743</td>\n",
       "      <td>0.839269</td>\n",
       "    </tr>\n",
       "    <tr>\n",
       "      <th>13</th>\n",
       "      <td>{'max_depth': 18}</td>\n",
       "      <td>0.866346</td>\n",
       "      <td>0.853846</td>\n",
       "      <td>0.873917</td>\n",
       "      <td>0.856593</td>\n",
       "      <td>0.838306</td>\n",
       "    </tr>\n",
       "    <tr>\n",
       "      <th>14</th>\n",
       "      <td>{'max_depth': 19}</td>\n",
       "      <td>0.872115</td>\n",
       "      <td>0.856731</td>\n",
       "      <td>0.878730</td>\n",
       "      <td>0.849856</td>\n",
       "      <td>0.837344</td>\n",
       "    </tr>\n",
       "  </tbody>\n",
       "</table>\n",
       "</div>"
      ],
      "text/plain": [
       "               params   split_0   split_1   split_2   split_3   split_4\n",
       "0    {'max_depth': 5}  0.847115  0.863462  0.880654  0.836381  0.861405\n",
       "1    {'max_depth': 6}  0.848077  0.854808  0.873917  0.843118  0.859480\n",
       "2    {'max_depth': 7}  0.857692  0.851923  0.875842  0.843118  0.847931\n",
       "3    {'max_depth': 8}  0.852885  0.854808  0.878730  0.846968  0.865255\n",
       "4    {'max_depth': 9}  0.857692  0.859615  0.871030  0.842156  0.854668\n",
       "5   {'max_depth': 10}  0.845192  0.847115  0.876805  0.846968  0.852743\n",
       "6   {'max_depth': 11}  0.858654  0.850962  0.880654  0.852743  0.848893\n",
       "7   {'max_depth': 12}  0.867308  0.848077  0.882579  0.848893  0.848893\n",
       "8   {'max_depth': 13}  0.865385  0.853846  0.873917  0.853705  0.839269\n",
       "9   {'max_depth': 14}  0.868269  0.851923  0.870067  0.858518  0.841193\n",
       "10  {'max_depth': 15}  0.867308  0.853846  0.868142  0.854668  0.837344\n",
       "11  {'max_depth': 16}  0.864423  0.849038  0.876805  0.859480  0.838306\n",
       "12  {'max_depth': 17}  0.863462  0.850000  0.871992  0.852743  0.839269\n",
       "13  {'max_depth': 18}  0.866346  0.853846  0.873917  0.856593  0.838306\n",
       "14  {'max_depth': 19}  0.872115  0.856731  0.878730  0.849856  0.837344"
      ]
     },
     "execution_count": 110,
     "metadata": {},
     "output_type": "execute_result"
    }
   ],
   "source": [
    "params = gs.cv_results_['params']\n",
    "split_0 = gs.cv_results_['split0_test_score']\n",
    "split_1 = gs.cv_results_['split1_test_score']\n",
    "split_2 = gs.cv_results_['split2_test_score']\n",
    "split_3 = gs.cv_results_['split3_test_score']\n",
    "split_4 = gs.cv_results_['split4_test_score']\n",
    "\n",
    "temp = []\n",
    "for i in range(0, len(params), 1) :\n",
    "    temp.append([params[i], split_0[i], split_1[i], split_2[i], split_3[i], split_4[i]])\n",
    "    \n",
    "    df = pd.DataFrame(temp, columns=['params','split_0','split_1','split_2','split_3','split_4'])\n",
    "df"
   ]
  },
  {
   "cell_type": "markdown",
   "metadata": {},
   "source": [
    "### 찾을 하이퍼파라미터 여러개 사용하기"
   ]
  },
  {
   "cell_type": "code",
   "execution_count": 111,
   "metadata": {},
   "outputs": [
    {
     "data": {
      "text/plain": [
       "GridSearchCV(estimator=DecisionTreeClassifier(random_state=42), n_jobs=-1,\n",
       "             param_grid={'max_depth': range(5, 20),\n",
       "                         'min_impurity_decrease': array([0.0001, 0.0002, 0.0003, 0.0004, 0.0005, 0.0006, 0.0007, 0.0008,\n",
       "       0.0009]),\n",
       "                         'min_samples_split': range(2, 100, 10)})"
      ]
     },
     "execution_count": 111,
     "metadata": {},
     "output_type": "execute_result"
    }
   ],
   "source": [
    "# min_impurity_decrease : 결정트리 노드 분리시 불순도 감소 최소량\n",
    "# max_depth : 결정트리 깊이\n",
    "# min_samples_split : 결정트리 노드를 나누기 위한 최소 샘플 갯수\n",
    "params = {\"min_impurity_decrease\" : np.arange(0.0001, 0.001, 0.0001),\n",
    "            \"max_depth\" : range(5, 20 , 1),\n",
    "            \"min_samples_split\" : range(2, 100, 10)}\n",
    "\n",
    "### 그리드서치 훈련시키기\n",
    "# 찾을 파라미터의 범위 별로 교차검증 진행 : 엄청 많이 수행됨\n",
    "gs = GridSearchCV(DecisionTreeClassifier(random_state=42),\n",
    "                    params, n_jobs = -1)\n",
    "gs.fit(train_input,train_target)"
   ]
  },
  {
   "cell_type": "code",
   "execution_count": 112,
   "metadata": {},
   "outputs": [
    {
     "name": "stdout",
     "output_type": "stream",
     "text": [
      "{'max_depth': 14, 'min_impurity_decrease': 0.0004, 'min_samples_split': 12}\n"
     ]
    }
   ],
   "source": [
    "print(gs.best_params_)"
   ]
  },
  {
   "cell_type": "code",
   "execution_count": 113,
   "metadata": {},
   "outputs": [
    {
     "name": "stdout",
     "output_type": "stream",
     "text": [
      "훈련 =  0.892053107562055\n",
      "테스트 =  0.8615384615384616\n"
     ]
    }
   ],
   "source": [
    "dt = gs.best_estimator_\n",
    "print(\"훈련 = \", dt.score(train_input, train_target))\n",
    "print(\"테스트 = \", dt.score(test_input, test_target))"
   ]
  },
  {
   "cell_type": "code",
   "execution_count": 114,
   "metadata": {},
   "outputs": [
    {
     "data": {
      "text/plain": [
       "GridSearchCV(cv=StratifiedKFold(n_splits=10, random_state=42, shuffle=True),\n",
       "             estimator=DecisionTreeClassifier(random_state=42), n_jobs=-1,\n",
       "             param_grid={'max_depth': range(5, 20),\n",
       "                         'min_impurity_decrease': array([0.0001, 0.0002, 0.0003, 0.0004, 0.0005, 0.0006, 0.0007, 0.0008,\n",
       "       0.0009]),\n",
       "                         'min_samples_split': range(2, 100, 10)})"
      ]
     },
     "execution_count": 114,
     "metadata": {},
     "output_type": "execute_result"
    }
   ],
   "source": [
    "### 10-폴드 지정하기\n",
    "# n_splits : fold 갯수, shuffle : 섞기\n",
    "splitter = StratifiedKFold(n_splits=10, shuffle=True, random_state=42)\n",
    "\n",
    "# min_impurity_decrease : 결정트리 노드 분리시 불순도 감소 최소량\n",
    "# max_depth : 결정트리 깊이\n",
    "# min_samples_split : 결정트리 노드를 나누기 위한 최소 샘플 갯수\n",
    "params = {\"min_impurity_decrease\" : np.arange(0.0001, 0.001, 0.0001),\n",
    "            \"max_depth\" : range(5, 20 , 1),\n",
    "            \"min_samples_split\" : range(2, 100, 10)}\n",
    "\n",
    "### 그리드서치 훈련시키기\n",
    "# 찾을 파라미터의 범위 별로 교차검증 진행 : 엄청 많이 수행됨\n",
    "gs = GridSearchCV(DecisionTreeClassifier(random_state=42),\n",
    "                    params, cv = splitter, n_jobs = -1)\n",
    "gs.fit(train_input, train_target)"
   ]
  },
  {
   "cell_type": "code",
   "execution_count": 115,
   "metadata": {},
   "outputs": [
    {
     "name": "stdout",
     "output_type": "stream",
     "text": [
      "훈련 =  0.9609390032711179\n",
      "테스트 =  0.8684615384615385\n"
     ]
    }
   ],
   "source": [
    "dt = gs.best_estimator_\n",
    "print(\"훈련 = \", dt.score(train_input, train_target))\n",
    "print(\"테스트 = \", dt.score(test_input, test_target))"
   ]
  },
  {
   "cell_type": "markdown",
   "metadata": {},
   "source": [
    "## 랜덤서치(Random Search)"
   ]
  },
  {
   "cell_type": "code",
   "execution_count": 116,
   "metadata": {},
   "outputs": [],
   "source": [
    "### 랜덤서치 사용시 아래 조건 만족해야 합니다.\n",
    "# - 하이퍼파라미터 값이 수치인 것들만 사용\n",
    "# - 범위나 간격을 미리 정하기 어려울 경우\n",
    "# - 너무 많은 매개변수가 있어서 그리드서치 수행시간이 오래 걸리는 경우\n",
    "# - 매개변수를 샘플링할때 확률분포객체를 전달...\n",
    "\n",
    "# 사용 모듈 : uniform(실수값), randint(정수값)  "
   ]
  },
  {
   "cell_type": "code",
   "execution_count": 117,
   "metadata": {},
   "outputs": [],
   "source": [
    "from scipy.stats import uniform, randint"
   ]
  },
  {
   "cell_type": "code",
   "execution_count": 118,
   "metadata": {},
   "outputs": [
    {
     "name": "stdout",
     "output_type": "stream",
     "text": [
      "[3 0 1 6 2 7 5 8 3 8 0 3 6 8 9 2 9 1 4 6 7 8 6 6 6 5 0 6 1 3 7 4 4 5 7 4 9\n",
      " 7 6 9 0 8 8 8 8 8 1 7 1 4 1 5 6 4 7 3 0 5 6 0 3 2 5 8 2 5 9 8 5 4 8 2 6 5\n",
      " 2 8 4 9 8 4 0 2 2 5 1 0 9 4 8 1 1 4 2 8 7 4 0 0 1 5]\n"
     ]
    }
   ],
   "source": [
    "### 범위 설정\n",
    "rgen = randint(0, 10)\n",
    "rgen\n",
    "\n",
    "### 범위 내에서 임의값 출력하기(확률적으로 고르게 뽑아냅니다.)\n",
    "print(rgen.rvs(100))"
   ]
  },
  {
   "cell_type": "code",
   "execution_count": 119,
   "metadata": {},
   "outputs": [
    {
     "name": "stdout",
     "output_type": "stream",
     "text": [
      "[0.68252091 0.52372971 0.37109552 0.29075393 0.09959579 0.19522569\n",
      " 0.39505883 0.3414343  0.61661413 0.12067547 0.94804192 0.61872024\n",
      " 0.42848415 0.87492372 0.25575867 0.83464004 0.24303848 0.66387173\n",
      " 0.42275289 0.18153479 0.7054317  0.72509104 0.26174133 0.55554565\n",
      " 0.99131708 0.20910282 0.44987453 0.77531845 0.08018372 0.08935057\n",
      " 0.1706746  0.74220303 0.13595574 0.55906944 0.97917747 0.51483328\n",
      " 0.65621959 0.35711085 0.14988443 0.75245845 0.14678893 0.60761927\n",
      " 0.73460849 0.28072746 0.31556868 0.88030891 0.62855053 0.66670831\n",
      " 0.19403217 0.39649373]\n"
     ]
    }
   ],
   "source": [
    "# 실수값\n",
    "# 범위 설정\n",
    "ugen = uniform(0, 1)\n",
    "\n",
    "# 임의값 50개 조회\n",
    "print(ugen.rvs(50))"
   ]
  },
  {
   "cell_type": "code",
   "execution_count": 120,
   "metadata": {},
   "outputs": [
    {
     "data": {
      "text/plain": [
       "RandomizedSearchCV(estimator=DecisionTreeClassifier(random_state=42),\n",
       "                   n_iter=100, n_jobs=-1,\n",
       "                   param_distributions={'max_depth': <scipy.stats._distn_infrastructure.rv_frozen object at 0x0000029EEE599BB0>,\n",
       "                                        'min_impurity_decrease': <scipy.stats._distn_infrastructure.rv_frozen object at 0x0000029EEE3B1DC0>,\n",
       "                                        'min_samples_split': <scipy.stats._distn_infrastructure.rv_frozen object at 0x0000029EEE3B1400>},\n",
       "                   random_state=42)"
      ]
     },
     "execution_count": 120,
     "metadata": {},
     "output_type": "execute_result"
    }
   ],
   "source": [
    "### 하이퍼파라미터 찾을 매개변수 정의하기\n",
    "params = {\"min_impurity_decrease\" : uniform(0.0001, 0.001),\n",
    "            \"max_depth\" : randint(20, 50),\n",
    "            \"min_samples_split\" : randint(2, 25)}\n",
    "\n",
    "# 랜덤서치 클래스(모델) : RandomizedSearchCV()\n",
    "# 사용방법은 그리드서치와 동일\n",
    "# 결정트리 모델 사용, 훈련반복 횟수 100회(n_iter), 코어 전체, 시드 42\n",
    "\n",
    "from sklearn.model_selection import RandomizedSearchCV\n",
    "\n",
    "gs = RandomizedSearchCV(DecisionTreeClassifier(random_state=42),\n",
    "                    params, n_iter = 100, n_jobs = -1, random_state=42)\n",
    "gs.fit(train_input, train_target)"
   ]
  },
  {
   "cell_type": "code",
   "execution_count": 121,
   "metadata": {},
   "outputs": [
    {
     "name": "stdout",
     "output_type": "stream",
     "text": [
      "{'max_depth': 29, 'min_impurity_decrease': 0.000437615171403628, 'min_samples_split': 16}\n"
     ]
    }
   ],
   "source": [
    "print(gs.best_params_)"
   ]
  },
  {
   "cell_type": "code",
   "execution_count": 122,
   "metadata": {},
   "outputs": [
    {
     "name": "stdout",
     "output_type": "stream",
     "text": [
      "dict_keys(['mean_fit_time', 'std_fit_time', 'mean_score_time', 'std_score_time', 'param_max_depth', 'param_min_impurity_decrease', 'param_min_samples_split', 'params', 'split0_test_score', 'split1_test_score', 'split2_test_score', 'split3_test_score', 'split4_test_score', 'mean_test_score', 'std_test_score', 'rank_test_score'])\n"
     ]
    }
   ],
   "source": [
    "print(gs.cv_results_.keys())"
   ]
  },
  {
   "cell_type": "code",
   "execution_count": 123,
   "metadata": {},
   "outputs": [
    {
     "name": "stdout",
     "output_type": "stream",
     "text": [
      "[0.86203543 0.86203524 0.86453672 0.8639598  0.86434441 0.86184534\n",
      " 0.86280669 0.86684608 0.86607592 0.86203561 0.85972662 0.8603054\n",
      " 0.86338306 0.86145813 0.86222792 0.86145739 0.86761605 0.86261272\n",
      " 0.86184238 0.86396109 0.86453709 0.86646165 0.86184312 0.86665322\n",
      " 0.86165044 0.86030484 0.86299845 0.86742356 0.86203543 0.86838658\n",
      " 0.86319186 0.86819334 0.85799659 0.86242023 0.86203561 0.86299752\n",
      " 0.86261309 0.86049733 0.86857833 0.86299752 0.86800085 0.86203543\n",
      " 0.8664635  0.86415451 0.86588473 0.86338362 0.8678091  0.86357611\n",
      " 0.8624206  0.85857315 0.86203543 0.86742374 0.86607629 0.86838639\n",
      " 0.86107333 0.86030466 0.86203543 0.86376805 0.86396146 0.86954098\n",
      " 0.86954079 0.86800104 0.86145739 0.86242023 0.85972662 0.86261327\n",
      " 0.86684626 0.86703913 0.86472958 0.86280503 0.86607814 0.86530632\n",
      " 0.86800104 0.86203543 0.86088325 0.86261272 0.86299826 0.86242004\n",
      " 0.86242023 0.86203543 0.86222773 0.86280558 0.8660787  0.85953413\n",
      " 0.86800104 0.86145739 0.86184293 0.86588491 0.86184293 0.86761661\n",
      " 0.86203543 0.86203543 0.86145813 0.86184275 0.8620358  0.86299752\n",
      " 0.86242023 0.86780873 0.86299752 0.86299752]\n"
     ]
    }
   ],
   "source": [
    "print(gs.cv_results_[\"mean_test_score\"])"
   ]
  },
  {
   "cell_type": "code",
   "execution_count": 124,
   "metadata": {},
   "outputs": [
    {
     "name": "stdout",
     "output_type": "stream",
     "text": [
      "훈련 최종 평가점수 =  0.8695409787517583\n"
     ]
    }
   ],
   "source": [
    "### 훈련 100회 중에 가장 큰 값이 최종 평가점수\n",
    "print(\"훈련 최종 평가점수 = \", np.max(gs.cv_results_[\"mean_test_score\"]))"
   ]
  },
  {
   "cell_type": "code",
   "execution_count": 125,
   "metadata": {},
   "outputs": [
    {
     "name": "stdout",
     "output_type": "stream",
     "text": [
      "테스트 =  0.8623076923076923\n"
     ]
    }
   ],
   "source": [
    "dt = gs.best_estimator_\n",
    "print(\"테스트 = \", dt.score(test_input, test_target))"
   ]
  },
  {
   "cell_type": "code",
   "execution_count": null,
   "metadata": {},
   "outputs": [],
   "source": []
  }
 ],
 "metadata": {
  "kernelspec": {
   "display_name": "ml_kernel",
   "language": "python",
   "name": "ml"
  },
  "language_info": {
   "codemirror_mode": {
    "name": "ipython",
    "version": 3
   },
   "file_extension": ".py",
   "mimetype": "text/x-python",
   "name": "python",
   "nbconvert_exporter": "python",
   "pygments_lexer": "ipython3",
   "version": "3.9.12"
  },
  "orig_nbformat": 4,
  "vscode": {
   "interpreter": {
    "hash": "610a6f344c2137faf927ea819c63f6cee33a2c04455044b28099f39fe9722347"
   }
  }
 },
 "nbformat": 4,
 "nbformat_minor": 2
}
