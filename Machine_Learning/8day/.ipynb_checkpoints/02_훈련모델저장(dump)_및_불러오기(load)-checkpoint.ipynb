{
 "cells": [
  {
   "cell_type": "code",
   "execution_count": 9,
   "id": "a9f5db38-3181-4b64-84bd-5b96e111e347",
   "metadata": {},
   "outputs": [
    {
     "data": {
      "text/plain": [
       "LogisticRegression(max_iter=20000)"
      ]
     },
     "execution_count": 9,
     "metadata": {},
     "output_type": "execute_result"
    }
   ],
   "source": [
    "import pandas as pd\n",
    "\n",
    "fish = pd.read_csv(\"./data/05_생선_분류_데이터셋.csv\")\n",
    "fish_input = fish[['Weight', 'Length', 'Diagonal', 'Height', 'Width']].to_numpy()\n",
    "fish_target = fish[\"Species\"].to_numpy()\n",
    "\n",
    "from sklearn.model_selection import train_test_split\n",
    "train_input, test_input, train_target, test_target = \\\n",
    "    train_test_split(fish_input, fish_target, random_state=42)\n",
    "\n",
    "from sklearn.linear_model import LogisticRegression\n",
    "lr = LogisticRegression(max_iter = 20000)\n",
    "lr.fit(train_input, train_target)"
   ]
  },
  {
   "cell_type": "markdown",
   "id": "80f94b6a-e550-405c-80aa-fa310fb2505f",
   "metadata": {},
   "source": [
    "## joblib 방식"
   ]
  },
  {
   "cell_type": "code",
   "execution_count": 24,
   "id": "cb664839-99c2-4c8e-a075-64e8a2883d30",
   "metadata": {},
   "outputs": [
    {
     "data": {
      "text/plain": [
       "['./model/LR_fish_model.pkl']"
      ]
     },
     "execution_count": 24,
     "metadata": {},
     "output_type": "execute_result"
    }
   ],
   "source": [
    "import joblib\n",
    "\n",
    "### 모델 저장(.pkl)\n",
    "joblib.dump(lr, \"./model/LR_fish_model.pkl\")"
   ]
  },
  {
   "cell_type": "code",
   "execution_count": 25,
   "id": "a5b9937d-7338-4867-b7e6-ab7f06ddc015",
   "metadata": {},
   "outputs": [
    {
     "name": "stdout",
     "output_type": "stream",
     "text": [
      "0.925\n"
     ]
    }
   ],
   "source": [
    "### 모델 불러들이기\n",
    "load_model = joblib.load(\"./model/LR_fish_model.pkl\")\n",
    "print(load_model.score(test_input, test_target))"
   ]
  },
  {
   "cell_type": "markdown",
   "id": "2a529eea-f890-406f-919f-2c8ac1371244",
   "metadata": {},
   "source": [
    "## pickle 방식"
   ]
  },
  {
   "cell_type": "code",
   "execution_count": 29,
   "id": "b9295bea-3577-4d84-9d19-1b49452e94c6",
   "metadata": {},
   "outputs": [],
   "source": [
    "import pickle\n",
    "\n",
    "# 모델 저장(.pickle)\n",
    "with open(\"./model/LR_fish_model.pickle\", \"wb\") as fw :\n",
    "    pickle.dump(lr, fw)"
   ]
  },
  {
   "cell_type": "code",
   "execution_count": 30,
   "id": "2a02887b-628f-482a-a55d-3f932ea33543",
   "metadata": {},
   "outputs": [
    {
     "name": "stdout",
     "output_type": "stream",
     "text": [
      "0.925\n"
     ]
    }
   ],
   "source": [
    "# 모델 불러들이기\n",
    "with open(\"./model/LR_fish_model.pickle\", \"rb\") as f :\n",
    "    load_model = pickle.load(f)\n",
    "    \n",
    "print(load_model.score(test_input, test_target))"
   ]
  },
  {
   "cell_type": "code",
   "execution_count": null,
   "id": "de40ac76-7e9c-4b0b-b560-9967f399e1ea",
   "metadata": {},
   "outputs": [],
   "source": []
  },
  {
   "cell_type": "code",
   "execution_count": null,
   "id": "5aad8400-65b4-4c35-a900-eca9f1e2120d",
   "metadata": {},
   "outputs": [],
   "source": []
  }
 ],
 "metadata": {
  "kernelspec": {
   "display_name": "ml_kernel",
   "language": "python",
   "name": "ml"
  },
  "language_info": {
   "codemirror_mode": {
    "name": "ipython",
    "version": 3
   },
   "file_extension": ".py",
   "mimetype": "text/x-python",
   "name": "python",
   "nbconvert_exporter": "python",
   "pygments_lexer": "ipython3",
   "version": "3.9.12"
  }
 },
 "nbformat": 4,
 "nbformat_minor": 5
}
