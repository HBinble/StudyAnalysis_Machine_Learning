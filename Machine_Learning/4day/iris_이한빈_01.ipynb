{
 "cells": [
  {
   "cell_type": "code",
   "execution_count": 179,
   "metadata": {},
   "outputs": [],
   "source": [
    "import numpy as np\n",
    "import pandas as pd"
   ]
  },
  {
   "cell_type": "code",
   "execution_count": 180,
   "metadata": {},
   "outputs": [
    {
     "name": "stdout",
     "output_type": "stream",
     "text": [
      "{'data': array([[5.1, 3.5, 1.4, 0.2],\n",
      "       [4.9, 3. , 1.4, 0.2],\n",
      "       [4.7, 3.2, 1.3, 0.2],\n",
      "       [4.6, 3.1, 1.5, 0.2],\n",
      "       [5. , 3.6, 1.4, 0.2],\n",
      "       [5.4, 3.9, 1.7, 0.4],\n",
      "       [4.6, 3.4, 1.4, 0.3],\n",
      "       [5. , 3.4, 1.5, 0.2],\n",
      "       [4.4, 2.9, 1.4, 0.2],\n",
      "       [4.9, 3.1, 1.5, 0.1],\n",
      "       [5.4, 3.7, 1.5, 0.2],\n",
      "       [4.8, 3.4, 1.6, 0.2],\n",
      "       [4.8, 3. , 1.4, 0.1],\n",
      "       [4.3, 3. , 1.1, 0.1],\n",
      "       [5.8, 4. , 1.2, 0.2],\n",
      "       [5.7, 4.4, 1.5, 0.4],\n",
      "       [5.4, 3.9, 1.3, 0.4],\n",
      "       [5.1, 3.5, 1.4, 0.3],\n",
      "       [5.7, 3.8, 1.7, 0.3],\n",
      "       [5.1, 3.8, 1.5, 0.3],\n",
      "       [5.4, 3.4, 1.7, 0.2],\n",
      "       [5.1, 3.7, 1.5, 0.4],\n",
      "       [4.6, 3.6, 1. , 0.2],\n",
      "       [5.1, 3.3, 1.7, 0.5],\n",
      "       [4.8, 3.4, 1.9, 0.2],\n",
      "       [5. , 3. , 1.6, 0.2],\n",
      "       [5. , 3.4, 1.6, 0.4],\n",
      "       [5.2, 3.5, 1.5, 0.2],\n",
      "       [5.2, 3.4, 1.4, 0.2],\n",
      "       [4.7, 3.2, 1.6, 0.2],\n",
      "       [4.8, 3.1, 1.6, 0.2],\n",
      "       [5.4, 3.4, 1.5, 0.4],\n",
      "       [5.2, 4.1, 1.5, 0.1],\n",
      "       [5.5, 4.2, 1.4, 0.2],\n",
      "       [4.9, 3.1, 1.5, 0.2],\n",
      "       [5. , 3.2, 1.2, 0.2],\n",
      "       [5.5, 3.5, 1.3, 0.2],\n",
      "       [4.9, 3.6, 1.4, 0.1],\n",
      "       [4.4, 3. , 1.3, 0.2],\n",
      "       [5.1, 3.4, 1.5, 0.2],\n",
      "       [5. , 3.5, 1.3, 0.3],\n",
      "       [4.5, 2.3, 1.3, 0.3],\n",
      "       [4.4, 3.2, 1.3, 0.2],\n",
      "       [5. , 3.5, 1.6, 0.6],\n",
      "       [5.1, 3.8, 1.9, 0.4],\n",
      "       [4.8, 3. , 1.4, 0.3],\n",
      "       [5.1, 3.8, 1.6, 0.2],\n",
      "       [4.6, 3.2, 1.4, 0.2],\n",
      "       [5.3, 3.7, 1.5, 0.2],\n",
      "       [5. , 3.3, 1.4, 0.2],\n",
      "       [7. , 3.2, 4.7, 1.4],\n",
      "       [6.4, 3.2, 4.5, 1.5],\n",
      "       [6.9, 3.1, 4.9, 1.5],\n",
      "       [5.5, 2.3, 4. , 1.3],\n",
      "       [6.5, 2.8, 4.6, 1.5],\n",
      "       [5.7, 2.8, 4.5, 1.3],\n",
      "       [6.3, 3.3, 4.7, 1.6],\n",
      "       [4.9, 2.4, 3.3, 1. ],\n",
      "       [6.6, 2.9, 4.6, 1.3],\n",
      "       [5.2, 2.7, 3.9, 1.4],\n",
      "       [5. , 2. , 3.5, 1. ],\n",
      "       [5.9, 3. , 4.2, 1.5],\n",
      "       [6. , 2.2, 4. , 1. ],\n",
      "       [6.1, 2.9, 4.7, 1.4],\n",
      "       [5.6, 2.9, 3.6, 1.3],\n",
      "       [6.7, 3.1, 4.4, 1.4],\n",
      "       [5.6, 3. , 4.5, 1.5],\n",
      "       [5.8, 2.7, 4.1, 1. ],\n",
      "       [6.2, 2.2, 4.5, 1.5],\n",
      "       [5.6, 2.5, 3.9, 1.1],\n",
      "       [5.9, 3.2, 4.8, 1.8],\n",
      "       [6.1, 2.8, 4. , 1.3],\n",
      "       [6.3, 2.5, 4.9, 1.5],\n",
      "       [6.1, 2.8, 4.7, 1.2],\n",
      "       [6.4, 2.9, 4.3, 1.3],\n",
      "       [6.6, 3. , 4.4, 1.4],\n",
      "       [6.8, 2.8, 4.8, 1.4],\n",
      "       [6.7, 3. , 5. , 1.7],\n",
      "       [6. , 2.9, 4.5, 1.5],\n",
      "       [5.7, 2.6, 3.5, 1. ],\n",
      "       [5.5, 2.4, 3.8, 1.1],\n",
      "       [5.5, 2.4, 3.7, 1. ],\n",
      "       [5.8, 2.7, 3.9, 1.2],\n",
      "       [6. , 2.7, 5.1, 1.6],\n",
      "       [5.4, 3. , 4.5, 1.5],\n",
      "       [6. , 3.4, 4.5, 1.6],\n",
      "       [6.7, 3.1, 4.7, 1.5],\n",
      "       [6.3, 2.3, 4.4, 1.3],\n",
      "       [5.6, 3. , 4.1, 1.3],\n",
      "       [5.5, 2.5, 4. , 1.3],\n",
      "       [5.5, 2.6, 4.4, 1.2],\n",
      "       [6.1, 3. , 4.6, 1.4],\n",
      "       [5.8, 2.6, 4. , 1.2],\n",
      "       [5. , 2.3, 3.3, 1. ],\n",
      "       [5.6, 2.7, 4.2, 1.3],\n",
      "       [5.7, 3. , 4.2, 1.2],\n",
      "       [5.7, 2.9, 4.2, 1.3],\n",
      "       [6.2, 2.9, 4.3, 1.3],\n",
      "       [5.1, 2.5, 3. , 1.1],\n",
      "       [5.7, 2.8, 4.1, 1.3],\n",
      "       [6.3, 3.3, 6. , 2.5],\n",
      "       [5.8, 2.7, 5.1, 1.9],\n",
      "       [7.1, 3. , 5.9, 2.1],\n",
      "       [6.3, 2.9, 5.6, 1.8],\n",
      "       [6.5, 3. , 5.8, 2.2],\n",
      "       [7.6, 3. , 6.6, 2.1],\n",
      "       [4.9, 2.5, 4.5, 1.7],\n",
      "       [7.3, 2.9, 6.3, 1.8],\n",
      "       [6.7, 2.5, 5.8, 1.8],\n",
      "       [7.2, 3.6, 6.1, 2.5],\n",
      "       [6.5, 3.2, 5.1, 2. ],\n",
      "       [6.4, 2.7, 5.3, 1.9],\n",
      "       [6.8, 3. , 5.5, 2.1],\n",
      "       [5.7, 2.5, 5. , 2. ],\n",
      "       [5.8, 2.8, 5.1, 2.4],\n",
      "       [6.4, 3.2, 5.3, 2.3],\n",
      "       [6.5, 3. , 5.5, 1.8],\n",
      "       [7.7, 3.8, 6.7, 2.2],\n",
      "       [7.7, 2.6, 6.9, 2.3],\n",
      "       [6. , 2.2, 5. , 1.5],\n",
      "       [6.9, 3.2, 5.7, 2.3],\n",
      "       [5.6, 2.8, 4.9, 2. ],\n",
      "       [7.7, 2.8, 6.7, 2. ],\n",
      "       [6.3, 2.7, 4.9, 1.8],\n",
      "       [6.7, 3.3, 5.7, 2.1],\n",
      "       [7.2, 3.2, 6. , 1.8],\n",
      "       [6.2, 2.8, 4.8, 1.8],\n",
      "       [6.1, 3. , 4.9, 1.8],\n",
      "       [6.4, 2.8, 5.6, 2.1],\n",
      "       [7.2, 3. , 5.8, 1.6],\n",
      "       [7.4, 2.8, 6.1, 1.9],\n",
      "       [7.9, 3.8, 6.4, 2. ],\n",
      "       [6.4, 2.8, 5.6, 2.2],\n",
      "       [6.3, 2.8, 5.1, 1.5],\n",
      "       [6.1, 2.6, 5.6, 1.4],\n",
      "       [7.7, 3. , 6.1, 2.3],\n",
      "       [6.3, 3.4, 5.6, 2.4],\n",
      "       [6.4, 3.1, 5.5, 1.8],\n",
      "       [6. , 3. , 4.8, 1.8],\n",
      "       [6.9, 3.1, 5.4, 2.1],\n",
      "       [6.7, 3.1, 5.6, 2.4],\n",
      "       [6.9, 3.1, 5.1, 2.3],\n",
      "       [5.8, 2.7, 5.1, 1.9],\n",
      "       [6.8, 3.2, 5.9, 2.3],\n",
      "       [6.7, 3.3, 5.7, 2.5],\n",
      "       [6.7, 3. , 5.2, 2.3],\n",
      "       [6.3, 2.5, 5. , 1.9],\n",
      "       [6.5, 3. , 5.2, 2. ],\n",
      "       [6.2, 3.4, 5.4, 2.3],\n",
      "       [5.9, 3. , 5.1, 1.8]]), 'target': array([0, 0, 0, 0, 0, 0, 0, 0, 0, 0, 0, 0, 0, 0, 0, 0, 0, 0, 0, 0, 0, 0,\n",
      "       0, 0, 0, 0, 0, 0, 0, 0, 0, 0, 0, 0, 0, 0, 0, 0, 0, 0, 0, 0, 0, 0,\n",
      "       0, 0, 0, 0, 0, 0, 1, 1, 1, 1, 1, 1, 1, 1, 1, 1, 1, 1, 1, 1, 1, 1,\n",
      "       1, 1, 1, 1, 1, 1, 1, 1, 1, 1, 1, 1, 1, 1, 1, 1, 1, 1, 1, 1, 1, 1,\n",
      "       1, 1, 1, 1, 1, 1, 1, 1, 1, 1, 1, 1, 2, 2, 2, 2, 2, 2, 2, 2, 2, 2,\n",
      "       2, 2, 2, 2, 2, 2, 2, 2, 2, 2, 2, 2, 2, 2, 2, 2, 2, 2, 2, 2, 2, 2,\n",
      "       2, 2, 2, 2, 2, 2, 2, 2, 2, 2, 2, 2, 2, 2, 2, 2, 2, 2]), 'frame': None, 'target_names': array(['setosa', 'versicolor', 'virginica'], dtype='<U10'), 'DESCR': '.. _iris_dataset:\\n\\nIris plants dataset\\n--------------------\\n\\n**Data Set Characteristics:**\\n\\n    :Number of Instances: 150 (50 in each of three classes)\\n    :Number of Attributes: 4 numeric, predictive attributes and the class\\n    :Attribute Information:\\n        - sepal length in cm\\n        - sepal width in cm\\n        - petal length in cm\\n        - petal width in cm\\n        - class:\\n                - Iris-Setosa\\n                - Iris-Versicolour\\n                - Iris-Virginica\\n                \\n    :Summary Statistics:\\n\\n    ============== ==== ==== ======= ===== ====================\\n                    Min  Max   Mean    SD   Class Correlation\\n    ============== ==== ==== ======= ===== ====================\\n    sepal length:   4.3  7.9   5.84   0.83    0.7826\\n    sepal width:    2.0  4.4   3.05   0.43   -0.4194\\n    petal length:   1.0  6.9   3.76   1.76    0.9490  (high!)\\n    petal width:    0.1  2.5   1.20   0.76    0.9565  (high!)\\n    ============== ==== ==== ======= ===== ====================\\n\\n    :Missing Attribute Values: None\\n    :Class Distribution: 33.3% for each of 3 classes.\\n    :Creator: R.A. Fisher\\n    :Donor: Michael Marshall (MARSHALL%PLU@io.arc.nasa.gov)\\n    :Date: July, 1988\\n\\nThe famous Iris database, first used by Sir R.A. Fisher. The dataset is taken\\nfrom Fisher\\'s paper. Note that it\\'s the same as in R, but not as in the UCI\\nMachine Learning Repository, which has two wrong data points.\\n\\nThis is perhaps the best known database to be found in the\\npattern recognition literature.  Fisher\\'s paper is a classic in the field and\\nis referenced frequently to this day.  (See Duda & Hart, for example.)  The\\ndata set contains 3 classes of 50 instances each, where each class refers to a\\ntype of iris plant.  One class is linearly separable from the other 2; the\\nlatter are NOT linearly separable from each other.\\n\\n.. topic:: References\\n\\n   - Fisher, R.A. \"The use of multiple measurements in taxonomic problems\"\\n     Annual Eugenics, 7, Part II, 179-188 (1936); also in \"Contributions to\\n     Mathematical Statistics\" (John Wiley, NY, 1950).\\n   - Duda, R.O., & Hart, P.E. (1973) Pattern Classification and Scene Analysis.\\n     (Q327.D83) John Wiley & Sons.  ISBN 0-471-22361-1.  See page 218.\\n   - Dasarathy, B.V. (1980) \"Nosing Around the Neighborhood: A New System\\n     Structure and Classification Rule for Recognition in Partially Exposed\\n     Environments\".  IEEE Transactions on Pattern Analysis and Machine\\n     Intelligence, Vol. PAMI-2, No. 1, 67-71.\\n   - Gates, G.W. (1972) \"The Reduced Nearest Neighbor Rule\".  IEEE Transactions\\n     on Information Theory, May 1972, 431-433.\\n   - See also: 1988 MLC Proceedings, 54-64.  Cheeseman et al\"s AUTOCLASS II\\n     conceptual clustering system finds 3 classes in the data.\\n   - Many, many more ...', 'feature_names': ['sepal length (cm)', 'sepal width (cm)', 'petal length (cm)', 'petal width (cm)'], 'filename': 'iris.csv', 'data_module': 'sklearn.datasets.data'}\n"
     ]
    }
   ],
   "source": [
    "# 붓꽃 품종 데이터를 이용해서 품종 분류하기\n",
    "\n",
    "from sklearn.datasets import load_iris\n",
    "\n",
    "### 붓꽃 품종 데이터\n",
    "# - 품종 : setosa, versicolor, virginica\n",
    "# - sepal length : 꽃받임 길이\n",
    "# - sepal width : 꽃받임 폭\n",
    "# - petal length : 꽃잎 길이\n",
    "# - petal width : 꽃잎 폭\n",
    "\n",
    "iris = load_iris()\n",
    "print(iris)\n",
    "\n",
    "###\n",
    "# print(iris.DESCR)"
   ]
  },
  {
   "cell_type": "markdown",
   "metadata": {},
   "source": [
    "# 데이터에 따른 품종 변화\n",
    "## 1. K-최근접이웃(KNN, 이웃값 조정)\n",
    "## 2. 특성공학(릿지, 라쏘)\n",
    "## 3. 로지스틱 회귀분류(이진분류, 다중분류)"
   ]
  },
  {
   "cell_type": "code",
   "execution_count": 181,
   "metadata": {},
   "outputs": [
    {
     "data": {
      "text/plain": [
       "dict_keys(['data', 'target', 'frame', 'target_names', 'DESCR', 'feature_names', 'filename', 'data_module'])"
      ]
     },
     "execution_count": 181,
     "metadata": {},
     "output_type": "execute_result"
    }
   ],
   "source": [
    "iris.keys()"
   ]
  },
  {
   "cell_type": "code",
   "execution_count": 182,
   "metadata": {},
   "outputs": [
    {
     "data": {
      "text/plain": [
       "array([[5.1, 3.5, 1.4, 0.2],\n",
       "       [4.9, 3. , 1.4, 0.2],\n",
       "       [4.7, 3.2, 1.3, 0.2],\n",
       "       [4.6, 3.1, 1.5, 0.2],\n",
       "       [5. , 3.6, 1.4, 0.2],\n",
       "       [5.4, 3.9, 1.7, 0.4],\n",
       "       [4.6, 3.4, 1.4, 0.3],\n",
       "       [5. , 3.4, 1.5, 0.2],\n",
       "       [4.4, 2.9, 1.4, 0.2],\n",
       "       [4.9, 3.1, 1.5, 0.1],\n",
       "       [5.4, 3.7, 1.5, 0.2],\n",
       "       [4.8, 3.4, 1.6, 0.2],\n",
       "       [4.8, 3. , 1.4, 0.1],\n",
       "       [4.3, 3. , 1.1, 0.1],\n",
       "       [5.8, 4. , 1.2, 0.2],\n",
       "       [5.7, 4.4, 1.5, 0.4],\n",
       "       [5.4, 3.9, 1.3, 0.4],\n",
       "       [5.1, 3.5, 1.4, 0.3],\n",
       "       [5.7, 3.8, 1.7, 0.3],\n",
       "       [5.1, 3.8, 1.5, 0.3],\n",
       "       [5.4, 3.4, 1.7, 0.2],\n",
       "       [5.1, 3.7, 1.5, 0.4],\n",
       "       [4.6, 3.6, 1. , 0.2],\n",
       "       [5.1, 3.3, 1.7, 0.5],\n",
       "       [4.8, 3.4, 1.9, 0.2],\n",
       "       [5. , 3. , 1.6, 0.2],\n",
       "       [5. , 3.4, 1.6, 0.4],\n",
       "       [5.2, 3.5, 1.5, 0.2],\n",
       "       [5.2, 3.4, 1.4, 0.2],\n",
       "       [4.7, 3.2, 1.6, 0.2],\n",
       "       [4.8, 3.1, 1.6, 0.2],\n",
       "       [5.4, 3.4, 1.5, 0.4],\n",
       "       [5.2, 4.1, 1.5, 0.1],\n",
       "       [5.5, 4.2, 1.4, 0.2],\n",
       "       [4.9, 3.1, 1.5, 0.2],\n",
       "       [5. , 3.2, 1.2, 0.2],\n",
       "       [5.5, 3.5, 1.3, 0.2],\n",
       "       [4.9, 3.6, 1.4, 0.1],\n",
       "       [4.4, 3. , 1.3, 0.2],\n",
       "       [5.1, 3.4, 1.5, 0.2],\n",
       "       [5. , 3.5, 1.3, 0.3],\n",
       "       [4.5, 2.3, 1.3, 0.3],\n",
       "       [4.4, 3.2, 1.3, 0.2],\n",
       "       [5. , 3.5, 1.6, 0.6],\n",
       "       [5.1, 3.8, 1.9, 0.4],\n",
       "       [4.8, 3. , 1.4, 0.3],\n",
       "       [5.1, 3.8, 1.6, 0.2],\n",
       "       [4.6, 3.2, 1.4, 0.2],\n",
       "       [5.3, 3.7, 1.5, 0.2],\n",
       "       [5. , 3.3, 1.4, 0.2],\n",
       "       [7. , 3.2, 4.7, 1.4],\n",
       "       [6.4, 3.2, 4.5, 1.5],\n",
       "       [6.9, 3.1, 4.9, 1.5],\n",
       "       [5.5, 2.3, 4. , 1.3],\n",
       "       [6.5, 2.8, 4.6, 1.5],\n",
       "       [5.7, 2.8, 4.5, 1.3],\n",
       "       [6.3, 3.3, 4.7, 1.6],\n",
       "       [4.9, 2.4, 3.3, 1. ],\n",
       "       [6.6, 2.9, 4.6, 1.3],\n",
       "       [5.2, 2.7, 3.9, 1.4],\n",
       "       [5. , 2. , 3.5, 1. ],\n",
       "       [5.9, 3. , 4.2, 1.5],\n",
       "       [6. , 2.2, 4. , 1. ],\n",
       "       [6.1, 2.9, 4.7, 1.4],\n",
       "       [5.6, 2.9, 3.6, 1.3],\n",
       "       [6.7, 3.1, 4.4, 1.4],\n",
       "       [5.6, 3. , 4.5, 1.5],\n",
       "       [5.8, 2.7, 4.1, 1. ],\n",
       "       [6.2, 2.2, 4.5, 1.5],\n",
       "       [5.6, 2.5, 3.9, 1.1],\n",
       "       [5.9, 3.2, 4.8, 1.8],\n",
       "       [6.1, 2.8, 4. , 1.3],\n",
       "       [6.3, 2.5, 4.9, 1.5],\n",
       "       [6.1, 2.8, 4.7, 1.2],\n",
       "       [6.4, 2.9, 4.3, 1.3],\n",
       "       [6.6, 3. , 4.4, 1.4],\n",
       "       [6.8, 2.8, 4.8, 1.4],\n",
       "       [6.7, 3. , 5. , 1.7],\n",
       "       [6. , 2.9, 4.5, 1.5],\n",
       "       [5.7, 2.6, 3.5, 1. ],\n",
       "       [5.5, 2.4, 3.8, 1.1],\n",
       "       [5.5, 2.4, 3.7, 1. ],\n",
       "       [5.8, 2.7, 3.9, 1.2],\n",
       "       [6. , 2.7, 5.1, 1.6],\n",
       "       [5.4, 3. , 4.5, 1.5],\n",
       "       [6. , 3.4, 4.5, 1.6],\n",
       "       [6.7, 3.1, 4.7, 1.5],\n",
       "       [6.3, 2.3, 4.4, 1.3],\n",
       "       [5.6, 3. , 4.1, 1.3],\n",
       "       [5.5, 2.5, 4. , 1.3],\n",
       "       [5.5, 2.6, 4.4, 1.2],\n",
       "       [6.1, 3. , 4.6, 1.4],\n",
       "       [5.8, 2.6, 4. , 1.2],\n",
       "       [5. , 2.3, 3.3, 1. ],\n",
       "       [5.6, 2.7, 4.2, 1.3],\n",
       "       [5.7, 3. , 4.2, 1.2],\n",
       "       [5.7, 2.9, 4.2, 1.3],\n",
       "       [6.2, 2.9, 4.3, 1.3],\n",
       "       [5.1, 2.5, 3. , 1.1],\n",
       "       [5.7, 2.8, 4.1, 1.3],\n",
       "       [6.3, 3.3, 6. , 2.5],\n",
       "       [5.8, 2.7, 5.1, 1.9],\n",
       "       [7.1, 3. , 5.9, 2.1],\n",
       "       [6.3, 2.9, 5.6, 1.8],\n",
       "       [6.5, 3. , 5.8, 2.2],\n",
       "       [7.6, 3. , 6.6, 2.1],\n",
       "       [4.9, 2.5, 4.5, 1.7],\n",
       "       [7.3, 2.9, 6.3, 1.8],\n",
       "       [6.7, 2.5, 5.8, 1.8],\n",
       "       [7.2, 3.6, 6.1, 2.5],\n",
       "       [6.5, 3.2, 5.1, 2. ],\n",
       "       [6.4, 2.7, 5.3, 1.9],\n",
       "       [6.8, 3. , 5.5, 2.1],\n",
       "       [5.7, 2.5, 5. , 2. ],\n",
       "       [5.8, 2.8, 5.1, 2.4],\n",
       "       [6.4, 3.2, 5.3, 2.3],\n",
       "       [6.5, 3. , 5.5, 1.8],\n",
       "       [7.7, 3.8, 6.7, 2.2],\n",
       "       [7.7, 2.6, 6.9, 2.3],\n",
       "       [6. , 2.2, 5. , 1.5],\n",
       "       [6.9, 3.2, 5.7, 2.3],\n",
       "       [5.6, 2.8, 4.9, 2. ],\n",
       "       [7.7, 2.8, 6.7, 2. ],\n",
       "       [6.3, 2.7, 4.9, 1.8],\n",
       "       [6.7, 3.3, 5.7, 2.1],\n",
       "       [7.2, 3.2, 6. , 1.8],\n",
       "       [6.2, 2.8, 4.8, 1.8],\n",
       "       [6.1, 3. , 4.9, 1.8],\n",
       "       [6.4, 2.8, 5.6, 2.1],\n",
       "       [7.2, 3. , 5.8, 1.6],\n",
       "       [7.4, 2.8, 6.1, 1.9],\n",
       "       [7.9, 3.8, 6.4, 2. ],\n",
       "       [6.4, 2.8, 5.6, 2.2],\n",
       "       [6.3, 2.8, 5.1, 1.5],\n",
       "       [6.1, 2.6, 5.6, 1.4],\n",
       "       [7.7, 3. , 6.1, 2.3],\n",
       "       [6.3, 3.4, 5.6, 2.4],\n",
       "       [6.4, 3.1, 5.5, 1.8],\n",
       "       [6. , 3. , 4.8, 1.8],\n",
       "       [6.9, 3.1, 5.4, 2.1],\n",
       "       [6.7, 3.1, 5.6, 2.4],\n",
       "       [6.9, 3.1, 5.1, 2.3],\n",
       "       [5.8, 2.7, 5.1, 1.9],\n",
       "       [6.8, 3.2, 5.9, 2.3],\n",
       "       [6.7, 3.3, 5.7, 2.5],\n",
       "       [6.7, 3. , 5.2, 2.3],\n",
       "       [6.3, 2.5, 5. , 1.9],\n",
       "       [6.5, 3. , 5.2, 2. ],\n",
       "       [6.2, 3.4, 5.4, 2.3],\n",
       "       [5.9, 3. , 5.1, 1.8]])"
      ]
     },
     "execution_count": 182,
     "metadata": {},
     "output_type": "execute_result"
    }
   ],
   "source": [
    "iris_input = iris[\"data\"]\n",
    "iris_input"
   ]
  },
  {
   "cell_type": "code",
   "execution_count": 183,
   "metadata": {},
   "outputs": [
    {
     "data": {
      "text/plain": [
       "array([0, 0, 0, 0, 0, 0, 0, 0, 0, 0, 0, 0, 0, 0, 0, 0, 0, 0, 0, 0, 0, 0,\n",
       "       0, 0, 0, 0, 0, 0, 0, 0, 0, 0, 0, 0, 0, 0, 0, 0, 0, 0, 0, 0, 0, 0,\n",
       "       0, 0, 0, 0, 0, 0, 1, 1, 1, 1, 1, 1, 1, 1, 1, 1, 1, 1, 1, 1, 1, 1,\n",
       "       1, 1, 1, 1, 1, 1, 1, 1, 1, 1, 1, 1, 1, 1, 1, 1, 1, 1, 1, 1, 1, 1,\n",
       "       1, 1, 1, 1, 1, 1, 1, 1, 1, 1, 1, 1, 2, 2, 2, 2, 2, 2, 2, 2, 2, 2,\n",
       "       2, 2, 2, 2, 2, 2, 2, 2, 2, 2, 2, 2, 2, 2, 2, 2, 2, 2, 2, 2, 2, 2,\n",
       "       2, 2, 2, 2, 2, 2, 2, 2, 2, 2, 2, 2, 2, 2, 2, 2, 2, 2])"
      ]
     },
     "execution_count": 183,
     "metadata": {},
     "output_type": "execute_result"
    }
   ],
   "source": [
    "iris_target = iris[\"target\"]\n",
    "iris_target"
   ]
  },
  {
   "cell_type": "code",
   "execution_count": 184,
   "metadata": {},
   "outputs": [
    {
     "data": {
      "text/plain": [
       "array(['setosa', 'versicolor', 'virginica'], dtype='<U10')"
      ]
     },
     "execution_count": 184,
     "metadata": {},
     "output_type": "execute_result"
    }
   ],
   "source": [
    "iris[\"target_names\"]"
   ]
  },
  {
   "cell_type": "code",
   "execution_count": 185,
   "metadata": {},
   "outputs": [
    {
     "name": "stdout",
     "output_type": "stream",
     "text": [
      "(112, 4)\n",
      "(112,)\n",
      "(38, 4)\n",
      "(38,)\n"
     ]
    }
   ],
   "source": [
    "### 사용 패키지 불러들이기\n",
    "from sklearn.model_selection import train_test_split\n",
    "\n",
    "### 데이터 나누기\n",
    "train_input, test_input, train_target, test_target = \\\n",
    "    train_test_split(iris_input, iris_target, random_state=42)\n",
    "    \n",
    "### 차원 확인하기\n",
    "print(train_input.shape)\n",
    "print(train_target.shape)\n",
    "print(test_input.shape)\n",
    "print(test_target.shape)"
   ]
  },
  {
   "cell_type": "markdown",
   "metadata": {},
   "source": [
    "## 1. KNN"
   ]
  },
  {
   "cell_type": "markdown",
   "metadata": {},
   "source": [
    "##### n_neighbors=5"
   ]
  },
  {
   "cell_type": "code",
   "execution_count": 186,
   "metadata": {},
   "outputs": [
    {
     "name": "stdout",
     "output_type": "stream",
     "text": [
      "훈련 =  0.9588588220888943\n",
      "테스트 =  0.9835594886922321\n"
     ]
    }
   ],
   "source": [
    "from sklearn.neighbors import KNeighborsRegressor\n",
    "\n",
    "kn = KNeighborsRegressor()\n",
    "\n",
    "kn.fit(train_input, train_target)\n",
    "\n",
    "print(\"훈련 = \", kn.score(train_input, train_target))\n",
    "print(\"테스트 = \", kn.score(test_input, test_target))"
   ]
  },
  {
   "cell_type": "markdown",
   "metadata": {},
   "source": [
    "##### n_neighbors= 수 조정하면서 최적의 이웃값 갯수 찾기"
   ]
  },
  {
   "cell_type": "code",
   "execution_count": 187,
   "metadata": {},
   "outputs": [
    {
     "name": "stdout",
     "output_type": "stream",
     "text": [
      "훈련 =  0.9657156850740786\n",
      "테스트 =  0.9906588003933137\n"
     ]
    }
   ],
   "source": [
    "from sklearn.neighbors import KNeighborsRegressor\n",
    "\n",
    "kn = KNeighborsRegressor(n_neighbors=4)\n",
    "\n",
    "kn.fit(train_input, train_target)\n",
    "\n",
    "print(\"훈련 = \", kn.score(train_input, train_target))\n",
    "print(\"테스트 = \", kn.score(test_input, test_target))\n",
    "\n",
    "### (해석)\n",
    "\n",
    "# 과소적합 발생\n",
    "# - 훈련모델을 복잡하게 만들어 평가결과를 높이는 방법 사용\n",
    "# - 이웃의 갯수를 5 -> 4로 작게 하여 이웃의 비교대상을 압축시키고,\n",
    "# - 훈련의 집중도와 정확도를 높임"
   ]
  },
  {
   "cell_type": "markdown",
   "metadata": {},
   "source": [
    "## 2. 특성공학"
   ]
  },
  {
   "cell_type": "code",
   "execution_count": 188,
   "metadata": {},
   "outputs": [],
   "source": [
    "### 사이킷런 변환기 클래스\n",
    "from sklearn.preprocessing import PolynomialFeatures"
   ]
  },
  {
   "cell_type": "code",
   "execution_count": 189,
   "metadata": {},
   "outputs": [
    {
     "name": "stdout",
     "output_type": "stream",
     "text": [
      "(112, 14) (38, 14)\n"
     ]
    }
   ],
   "source": [
    "### train_input, test_input 데이터 변환하기\n",
    "# 변수명 : train_poly, test_poly 사용\n",
    "\n",
    "### 객체생성(모델)\n",
    "poly = PolynomialFeatures(include_bias=False)\n",
    "\n",
    "### 훈련시키기 : 새롭게 만들 스스로 특성 조합 찾기\n",
    "poly.fit(train_input)\n",
    "\n",
    "### 찾은 특성 조합으로 데이터 변환하기\n",
    "# - 훈련데이터 변환하기\n",
    "train_poly = poly.transform(train_input)\n",
    "\n",
    "# - 테스트데이터 변환하기\n",
    "test_poly = poly.transform(test_input)\n",
    "\n",
    "print(train_poly.shape, test_poly.shape)"
   ]
  },
  {
   "cell_type": "markdown",
   "metadata": {},
   "source": [
    "### 2-0 다중회귀"
   ]
  },
  {
   "cell_type": "code",
   "execution_count": 190,
   "metadata": {},
   "outputs": [
    {
     "name": "stdout",
     "output_type": "stream",
     "text": [
      "훈련 =  0.9486949445238945\n",
      "테스트 =  0.9436486105118044\n"
     ]
    }
   ],
   "source": [
    "from sklearn.linear_model import LinearRegression\n",
    "lr = LinearRegression()\n",
    "\n",
    "lr.fit(train_poly, train_target)\n",
    "print(\"훈련 = \", lr.score(train_poly, train_target))\n",
    "print(\"테스트 = \", lr.score(test_poly, test_target))"
   ]
  },
  {
   "cell_type": "code",
   "execution_count": 191,
   "metadata": {},
   "outputs": [
    {
     "name": "stdout",
     "output_type": "stream",
     "text": [
      "(112, 69) (38, 69)\n"
     ]
    }
   ],
   "source": [
    "### train_input, test_input 데이터 변환하기\n",
    "# 변수명 : train_poly, test_poly 사용\n",
    "\n",
    "### 객체생성(모델)\n",
    "poly = PolynomialFeatures(degree=4, include_bias=False)\n",
    "\n",
    "### 훈련시키기 : 새롭게 만들 스스로 특성 조합 찾기\n",
    "poly.fit(train_input)\n",
    "\n",
    "### 찾은 특성 조합으로 데이터 변환하기\n",
    "# - 훈련데이터 변환하기\n",
    "train_poly = poly.transform(train_input)\n",
    "\n",
    "# - 테스트데이터 변환하기\n",
    "test_poly = poly.transform(test_input)\n",
    "\n",
    "print(train_poly.shape, test_poly.shape)"
   ]
  },
  {
   "cell_type": "code",
   "execution_count": 192,
   "metadata": {},
   "outputs": [
    {
     "name": "stdout",
     "output_type": "stream",
     "text": [
      "훈련 =  0.978888622214396\n",
      "테스트 =  0.5455281822841327\n"
     ]
    }
   ],
   "source": [
    "### 훈련데이터 학습 다시하기\n",
    "lr.fit(train_poly, train_target)\n",
    "\n",
    "print(\"훈련 = \", lr.score(train_poly, train_target))\n",
    "print(\"테스트 = \", lr.score(test_poly, test_target))"
   ]
  },
  {
   "cell_type": "code",
   "execution_count": 193,
   "metadata": {},
   "outputs": [],
   "source": [
    "### (해석)\n",
    "\n",
    "##### - 훈련 =  0.9486949445238945 \n",
    "##### - 테스트 =  0.9436486105118044\n",
    "##### --------------------------------------------------------\n",
    "##### - 훈련 평가 결과(degree=3) 일때\n",
    "##### - 훈련 =  0.9598349251291011\n",
    "##### - 테스트 =  0.9401077744852095\n",
    "##### --------------------------------------------------------\n",
    "##### - 훈련 평가 결과(degree=4) 일때\n",
    "##### - 훈련 =  0.978888622214396\n",
    "##### - 테스트 =  0.5455281822841327\n",
    "\n",
    "##### - 차수를 3으로 주었을때, 훈련 결정계수가 소폭 상승했으며, 테스트 결정계수는 소폭 하락했다.\n",
    "##### - 차수를 4으로 주었을때, 훈련 결정계수는 상승했지만, 테스트 결정계수가 낮아졌다.\n",
    "\n",
    "##### - 과대적합 발생"
   ]
  },
  {
   "cell_type": "code",
   "execution_count": 194,
   "metadata": {},
   "outputs": [],
   "source": [
    "### 과적합을 줄이는 방법 : 규제(Regularization) 사용\n",
    "\n",
    "### <규제순서>\n",
    "##### 1. 정규화 : 스케일이 다른 항목들을 표준점수로 동일하게 표준화 합니다.\n",
    "##### 2. 릿지 및 라쏘 모델 적용"
   ]
  },
  {
   "cell_type": "markdown",
   "metadata": {},
   "source": [
    "### 2.1 정규화"
   ]
  },
  {
   "cell_type": "code",
   "execution_count": 195,
   "metadata": {},
   "outputs": [
    {
     "name": "stdout",
     "output_type": "stream",
     "text": [
      "[5.83035714e+00 3.04017857e+00 3.80714286e+00 1.21428571e+00\n",
      " 3.46580357e+01 1.76994643e+01 2.34092857e+01 7.56232143e+00\n",
      " 9.43205357e+00 1.12778571e+01 3.58491071e+00 1.74787500e+01\n",
      " 5.85803571e+00 2.02892857e+00 2.10011696e+02 1.05101536e+02\n",
      " 1.46235393e+02 4.77431250e+01 5.47805000e+01 6.95275000e+01\n",
      " 2.24247679e+01 1.10896089e+02 3.73232500e+01 1.29476786e+01\n",
      " 2.98464375e+01 3.39509821e+01 1.07362589e+01 5.15385357e+01\n",
      " 1.73351875e+01 6.03666964e+00 8.75452321e+01 2.99080357e+01\n",
      " 1.04770893e+01 3.75512500e+00 1.29663047e+03 6.36500357e+02\n",
      " 9.27573859e+02 3.05428850e+02 3.24617520e+02 4.35625634e+02\n",
      " 1.42207002e+02 7.12938184e+02 2.40678539e+02 8.35639821e+01\n",
      " 1.72796705e+02 2.09667989e+02 6.74087232e+01 3.28600118e+02\n",
      " 1.11050088e+02 3.87374357e+01 5.66661077e+02 1.93678859e+02\n",
      " 6.78099286e+01 2.42782786e+01 9.62762277e+01 1.03845193e+02\n",
      " 3.26061687e+01 1.54022234e+02 5.19475866e+01 1.81776973e+01\n",
      " 2.59379571e+02 8.91212723e+01 3.14114027e+01 1.13260384e+01\n",
      " 4.58279941e+02 1.57772818e+02 5.55629607e+01 1.99996286e+01\n",
      " 7.35118571e+00] [8.15457725e-01 4.35164136e-01 1.72754545e+00 7.44606457e-01\n",
      " 9.76990412e+00 3.36845419e+00 1.28430342e+01 5.13568659e+00\n",
      " 2.70418067e+00 5.17997801e+00 2.30783719e+00 1.23601472e+01\n",
      " 4.60937938e+00 1.79850898e+00 8.95793162e+01 3.25211672e+01\n",
      " 9.60068675e+01 3.62985342e+01 1.63695351e+01 3.95722286e+01\n",
      " 1.61748965e+01 8.79272407e+01 3.19064041e+01 1.21754982e+01\n",
      " 1.29542126e+01 1.66753688e+01 7.43931340e+00 3.83976119e+01\n",
      " 1.45720068e+01 5.73482985e+00 7.70496137e+01 2.76498578e+01\n",
      " 1.05141518e+01 4.18763196e+00 7.44404098e+02 2.86249075e+02\n",
      " 7.18584739e+02 2.61025868e+02 1.23260440e+02 2.99840887e+02\n",
      " 1.15337756e+02 6.37308410e+02 2.25933124e+02 8.43274014e+01\n",
      " 7.39539821e+01 1.28055023e+02 5.26022658e+01 2.76045906e+02\n",
      " 1.01696050e+02 3.91264106e+01 5.51795356e+02 1.94233971e+02\n",
      " 7.23317475e+01 2.82691054e+01 5.65765132e+01 5.66867314e+01\n",
      " 2.47086240e+01 1.23670323e+02 4.73954197e+01 1.87141984e+01\n",
      " 2.42558672e+02 8.82631998e+01 3.38190522e+01 1.35046066e+01\n",
      " 4.76159611e+02 1.67299640e+02 6.22799683e+01 2.43478815e+01\n",
      " 9.86815578e+00]\n"
     ]
    }
   ],
   "source": [
    "### 사용패키지\n",
    "from sklearn.preprocessing import StandardScaler\n",
    "\n",
    "### 클래스(모델) 생성하기\n",
    "ss = StandardScaler()\n",
    "\n",
    "### 스스로 표준점수를 만들어냅니다.\n",
    "ss.fit(train_poly, train_target)\n",
    "\n",
    "### 훈련데이터 표준점수로 변환하기\n",
    "train_scaled = ss.transform(train_poly)\n",
    "test_scaled = ss.transform(test_poly)\n",
    "\n",
    "# 평균 및 표준편차 확인하기\n",
    "print(ss.mean_, ss.scale_)"
   ]
  },
  {
   "cell_type": "markdown",
   "metadata": {},
   "source": [
    "### 2-2 릿지 모델"
   ]
  },
  {
   "cell_type": "code",
   "execution_count": 196,
   "metadata": {},
   "outputs": [
    {
     "name": "stdout",
     "output_type": "stream",
     "text": [
      "훈련 =  0.9484248078961096\n",
      "테스트 =  0.9446419335755182\n"
     ]
    }
   ],
   "source": [
    "from sklearn.linear_model import Ridge\n",
    "\n",
    "### 객체(모델) 생성\n",
    "ridge = Ridge()\n",
    "\n",
    "### 훈련모델 생성\n",
    "ridge.fit(train_scaled, train_target)\n",
    "\n",
    "### 훈련데이터 결정계수\n",
    "print(\"훈련 = \", ridge.score(train_scaled, train_target))\n",
    "\n",
    "### 테스트데이터 결정계수\n",
    "print(\"테스트 = \", ridge.score(test_scaled, test_target))\n"
   ]
  },
  {
   "cell_type": "markdown",
   "metadata": {},
   "source": [
    "### 2-3 라쏘 모델"
   ]
  },
  {
   "cell_type": "code",
   "execution_count": 197,
   "metadata": {},
   "outputs": [
    {
     "name": "stdout",
     "output_type": "stream",
     "text": [
      "훈련 =  0.0\n",
      "테스트 =  -0.015873329420263538\n"
     ]
    }
   ],
   "source": [
    "from sklearn.linear_model import Lasso\n",
    "\n",
    "### 객체(모델) 생성\n",
    "lasso = Lasso()\n",
    "\n",
    "### 훈련모델 생성\n",
    "lasso.fit(train_scaled, train_target)\n",
    "\n",
    "### 훈련데이터 결정계수\n",
    "print(\"훈련 = \", lasso.score(train_scaled, train_target))\n",
    "\n",
    "### 테스트데이터 결정계수\n",
    "print(\"테스트 = \", lasso.score(test_scaled, test_target))"
   ]
  },
  {
   "cell_type": "markdown",
   "metadata": {},
   "source": [
    "### 2-4 규제강도 조절하기\n",
    "##### - alpha 속성을 사용하여 릿지 및 라쏘 모델 규제에 강한 강도를 조절하기\n",
    "##### - 그래프 그린 후 각각 훈련, 학습 데이터 모델 생성 후 평가 실시\n"
   ]
  },
  {
   "cell_type": "code",
   "execution_count": 198,
   "metadata": {},
   "outputs": [],
   "source": [
    "### alpha 강도 조절값 찾아보기\n",
    "import matplotlib.pyplot as plt"
   ]
  },
  {
   "cell_type": "markdown",
   "metadata": {},
   "source": [
    "### 2-5 규제강도 조절 후 릿지 모델"
   ]
  },
  {
   "cell_type": "code",
   "execution_count": 199,
   "metadata": {},
   "outputs": [
    {
     "data": {
      "image/png": "[encoded data removed]",
      "text/plain": [
       "<Figure size 432x288 with 1 Axes>"
      ]
     },
     "metadata": {
      "needs_background": "light"
     },
     "output_type": "display_data"
    }
   ],
   "source": [
    "# 훈련 시 발생하는 결정계수를 저장할 리스트\n",
    "train_score = []\n",
    "# 테스트 시 발생하는 결정계수를 저장할 리스트 \n",
    "test_score = []\n",
    "\n",
    "# 임의 alpha 값(x축으로 설정합니다.) 설정(범위 설정)\n",
    "alpha_list = [0.001, 0.01, 0.1, 1, 10, 100]\n",
    "\n",
    "### 훈련 및 테스트 결정계수 데이터 조회하기\n",
    "for alpha in alpha_list :\n",
    "    # 릿지 모델\n",
    "    ridge = Ridge(alpha=alpha)\n",
    "    ridge.fit(train_scaled, train_target)\n",
    "    train_score.append(ridge.score(train_scaled, train_target))\n",
    "    test_score.append(ridge.score(test_scaled, test_target))\n",
    "    \n",
    "### 그래프로 시각화\n",
    "# - log10 : 지수로 표현\n",
    "plt.plot(np.log10(alpha_list), train_score)\n",
    "plt.plot(np.log10(alpha_list), test_score)\n",
    "plt.show()"
   ]
  },
  {
   "cell_type": "code",
   "execution_count": 200,
   "metadata": {},
   "outputs": [
    {
     "name": "stdout",
     "output_type": "stream",
     "text": [
      "훈련 =  0.9625454662782881\n",
      "테스트 =  0.962060996418763\n"
     ]
    }
   ],
   "source": [
    "# 릿지 모델\n",
    "ridge = Ridge(alpha=0.001)\n",
    "ridge.fit(train_scaled, train_target)\n",
    "print(\"훈련 = \", ridge.score(train_scaled, train_target))\n",
    "print(\"테스트 = \", ridge.score(test_scaled, test_target))"
   ]
  },
  {
   "cell_type": "markdown",
   "metadata": {},
   "source": [
    "### 2-6 규제강도 조절 후 라쏘 모델"
   ]
  },
  {
   "cell_type": "code",
   "execution_count": 201,
   "metadata": {},
   "outputs": [
    {
     "name": "stderr",
     "output_type": "stream",
     "text": [
      "c:\\Users\\admin\\anaconda3\\lib\\site-packages\\sklearn\\linear_model\\_coordinate_descent.py:647: ConvergenceWarning: Objective did not converge. You might want to increase the number of iterations, check the scale of the features or consider increasing regularisation. Duality gap: 2.245e-01, tolerance: 7.292e-03\n",
      "  model = cd_fast.enet_coordinate_descent(\n"
     ]
    },
    {
     "data": {
      "image/png": "[encoded data removed]",
      "text/plain": [
       "<Figure size 432x288 with 1 Axes>"
      ]
     },
     "metadata": {
      "needs_background": "light"
     },
     "output_type": "display_data"
    }
   ],
   "source": [
    "# 훈련 시 발생하는 결정계수를 저장할 리스트\n",
    "train_score = []\n",
    "# 테스트 시 발생하는 결정계수를 저장할 리스트 \n",
    "test_score = []\n",
    "\n",
    "# 임의 alpha 값(x축으로 설정합니다.) 설정(범위 설정)\n",
    "alpha_list = [0.001, 0.01, 0.1, 1, 10, 100]\n",
    "\n",
    "### 훈련 및 테스트 결정계수 데이터 조회하기\n",
    "for alpha in alpha_list :\n",
    "    # 라쏘 모델\n",
    "    lasso = Lasso(alpha=alpha)\n",
    "    lasso.fit(train_scaled, train_target)\n",
    "    train_score.append(lasso.score(train_scaled, train_target))\n",
    "    test_score.append(lasso.score(test_scaled, test_target))\n",
    "    \n",
    "### 그래프로 시각화\n",
    "# - log10 : 지수로 표현\n",
    "plt.plot(np.log10(alpha_list), train_score)\n",
    "plt.plot(np.log10(alpha_list), test_score)\n",
    "plt.show()"
   ]
  },
  {
   "cell_type": "code",
   "execution_count": 202,
   "metadata": {},
   "outputs": [
    {
     "name": "stdout",
     "output_type": "stream",
     "text": [
      "훈련 =  0.9526612262974605\n",
      "테스트 =  0.9675484519724951\n"
     ]
    },
    {
     "name": "stderr",
     "output_type": "stream",
     "text": [
      "C:\\Users\\admin\\AppData\\Local\\Temp\\ipykernel_6396\\2849944454.py:3: UserWarning: With alpha=0, this algorithm does not converge well. You are advised to use the LinearRegression estimator\n",
      "  lasso.fit(train_scaled, train_target)\n",
      "c:\\Users\\admin\\anaconda3\\lib\\site-packages\\sklearn\\linear_model\\_coordinate_descent.py:647: UserWarning: Coordinate descent with no regularization may lead to unexpected results and is discouraged.\n",
      "  model = cd_fast.enet_coordinate_descent(\n",
      "c:\\Users\\admin\\anaconda3\\lib\\site-packages\\sklearn\\linear_model\\_coordinate_descent.py:647: ConvergenceWarning: Objective did not converge. You might want to increase the number of iterations, check the scale of the features or consider increasing regularisation. Duality gap: 1.726e+00, tolerance: 7.292e-03 Linear regression models with null weight for the l1 regularization term are more efficiently fitted using one of the solvers implemented in sklearn.linear_model.Ridge/RidgeCV instead.\n",
      "  model = cd_fast.enet_coordinate_descent(\n"
     ]
    }
   ],
   "source": [
    "# 라쏘 모델\n",
    "lasso = Lasso(alpha = 0)\n",
    "lasso.fit(train_scaled, train_target)\n",
    "print(\"훈련 = \", lasso.score(train_scaled, train_target))\n",
    "print(\"테스트 = \", lasso.score(test_scaled, test_target))"
   ]
  },
  {
   "cell_type": "code",
   "execution_count": 203,
   "metadata": {},
   "outputs": [],
   "source": [
    "### 규제 강도 조정 후 결정계수\n",
    "\n",
    "# 릿지(ridge)\n",
    "# 훈련 =  0.9625454662782881\n",
    "# 테스트 =  0.962060996418763\n",
    "\n",
    "# 라쏘(lasso)\n",
    "# 훈련 =  0.9526612262974605\n",
    "# 테스트 =  0.9675484519724951\n",
    "\n",
    "### (해석)\n",
    "##### 이번에는 과소적합 발생 좀 더 나은 분석 모델 확인 필요 "
   ]
  },
  {
   "cell_type": "markdown",
   "metadata": {},
   "source": [
    "## 3.로지스틱 회귀분류 모델"
   ]
  },
  {
   "cell_type": "code",
   "execution_count": 204,
   "metadata": {},
   "outputs": [
    {
     "name": "stdout",
     "output_type": "stream",
     "text": [
      "0.9642857142857143\n",
      "1.0\n"
     ]
    }
   ],
   "source": [
    "### K-최근접이웃분류 모델로 테스트\n",
    "\n",
    "### 라이브러리 생성\n",
    "from sklearn.neighbors import KNeighborsClassifier\n",
    "\n",
    "### 클래스(모델) 생성\n",
    "kn = KNeighborsClassifier(n_neighbors=3)\n",
    "\n",
    "kn.fit(train_scaled, train_target)\n",
    "\n",
    "### 훈련데이터 정확도\n",
    "print(kn.score(train_scaled, train_target))\n",
    "\n",
    "### 테스트데이터 정확도\n",
    "print(kn.score(test_scaled, test_target))"
   ]
  },
  {
   "cell_type": "code",
   "execution_count": 206,
   "metadata": {},
   "outputs": [
    {
     "name": "stdout",
     "output_type": "stream",
     "text": [
      "[1 0 2 1 1]\n",
      "[1 0 2 1 1]\n"
     ]
    },
    {
     "data": {
      "text/plain": [
       "array([[1, 1],\n",
       "       [0, 0],\n",
       "       [2, 2],\n",
       "       [1, 1],\n",
       "       [1, 1]])"
      ]
     },
     "execution_count": 206,
     "metadata": {},
     "output_type": "execute_result"
    }
   ],
   "source": [
    "## 상위 5개 예측하기\n",
    "print(kn.predict(test_scaled[:5]))\n",
    "print(test_target[:5])\n",
    "\n",
    "# [[실제값, 예측값], [실제값, 예측값]]\n",
    "import numpy as np\n",
    "\n",
    "np.column_stack((test_target[:5], kn.predict(test_scaled[:5])))"
   ]
  },
  {
   "cell_type": "code",
   "execution_count": 207,
   "metadata": {},
   "outputs": [
    {
     "data": {
      "text/plain": [
       "array([[0. , 1. , 0. ],\n",
       "       [1. , 0. , 0. ],\n",
       "       [0. , 0. , 1. ],\n",
       "       [0. , 1. , 0. ],\n",
       "       [0. , 0.8, 0.2]])"
      ]
     },
     "execution_count": 207,
     "metadata": {},
     "output_type": "execute_result"
    }
   ],
   "source": [
    "### 각 행의 범주들의 확률값 확인\n",
    "\n",
    "proba = kn.predict_proba(test_scaled[:5])\n",
    "np.round(proba, decimals=4)"
   ]
  },
  {
   "cell_type": "code",
   "execution_count": 208,
   "metadata": {},
   "outputs": [
    {
     "name": "stdout",
     "output_type": "stream",
     "text": [
      "[[ 31  71 103 107  12]\n",
      " [ 40   5   6  86 109]\n",
      " [ 16  13  56  98 111]\n",
      " [ 71  78  82  14  31]\n",
      " [ 84  72  10   8 103]]\n",
      "[[1 1 1 1 1]]\n",
      "[[0 0 0 0 0]]\n",
      "[[2 2 2 2 2]]\n",
      "[[1 1 1 1 1]]\n",
      "[[1 1 1 2 1]]\n"
     ]
    }
   ],
   "source": [
    "### 5개의 데이터의 이웃들 확인하기\n",
    "# - 각 행마다 이웃이 3개씩\n",
    "\n",
    "distances, indexes = kn.kneighbors(test_scaled[:5])\n",
    "print(indexes)\n",
    "\n",
    "for test_data in test_scaled[:5] :\n",
    "    distances, indexes = kn.kneighbors([test_data])\n",
    "    print(train_target[indexes])\n"
   ]
  },
  {
   "cell_type": "markdown",
   "metadata": {},
   "source": [
    "### 3-1 로지스틱 회귀 이진분류"
   ]
  },
  {
   "cell_type": "markdown",
   "metadata": {},
   "source": [
    "##### - 1) 시그모이드 함수 사용(setosa, versicolor)"
   ]
  },
  {
   "cell_type": "code",
   "execution_count": 209,
   "metadata": {},
   "outputs": [
    {
     "data": {
      "text/plain": [
       "array(['setosa', 'versicolor', 'virginica'], dtype='<U10')"
      ]
     },
     "execution_count": 209,
     "metadata": {},
     "output_type": "execute_result"
    }
   ],
   "source": [
    "iris[\"target_names\"]"
   ]
  },
  {
   "cell_type": "code",
   "execution_count": 210,
   "metadata": {},
   "outputs": [
    {
     "data": {
      "text/plain": [
       "(74, 69)"
      ]
     },
     "execution_count": 210,
     "metadata": {},
     "output_type": "execute_result"
    }
   ],
   "source": [
    "### 이진분류 방식은 2개의 범주만 사용 가능합니다.\n",
    "# - 기존 데이터에서 2개(setosa과 versicolor) 범주만 추출하여 사용\n",
    "# 독립변수명 : train_setosa_versicolor\n",
    "# 종속변수명 : target_setosa_versicolor\n",
    "\n",
    "target_setosa_versicolor = train_target[(train_target == 0) | (train_target == 1)]\n",
    "target_setosa_versicolor.shape\n",
    "\n",
    "train_setosa_versicolor = train_scaled[(train_target == 0) | (train_target == 1)]\n",
    "train_setosa_versicolor.shape"
   ]
  },
  {
   "cell_type": "code",
   "execution_count": 211,
   "metadata": {},
   "outputs": [
    {
     "data": {
      "text/plain": [
       "1.0"
      ]
     },
     "execution_count": 211,
     "metadata": {},
     "output_type": "execute_result"
    }
   ],
   "source": [
    "### 이진분류 하기\n",
    "### 사용할 패키지 불러들이기\n",
    "from sklearn.linear_model import LogisticRegression\n",
    "\n",
    "lr = LogisticRegression()\n",
    "lr.fit(train_setosa_versicolor, target_setosa_versicolor)\n",
    "lr.score(train_setosa_versicolor, target_setosa_versicolor)"
   ]
  },
  {
   "cell_type": "code",
   "execution_count": 212,
   "metadata": {},
   "outputs": [
    {
     "data": {
      "text/plain": [
       "array([0, 0, 1, 1, 0])"
      ]
     },
     "execution_count": 212,
     "metadata": {},
     "output_type": "execute_result"
    }
   ],
   "source": [
    "# 예측 상위 5개\n",
    "lr.predict(train_setosa_versicolor[:5])"
   ]
  },
  {
   "cell_type": "code",
   "execution_count": 213,
   "metadata": {},
   "outputs": [
    {
     "name": "stdout",
     "output_type": "stream",
     "text": [
      "[[9.98271841e-01 1.72815929e-03]\n",
      " [9.99881677e-01 1.18322687e-04]\n",
      " [2.64634142e-04 9.99735366e-01]\n",
      " [4.51906344e-05 9.99954809e-01]\n",
      " [9.99218504e-01 7.81496422e-04]]\n"
     ]
    }
   ],
   "source": [
    "### 5개 행에 대한 범주별 확률 조회\n",
    "print(lr.predict_proba(train_setosa_versicolor[:5]))"
   ]
  },
  {
   "cell_type": "code",
   "execution_count": 214,
   "metadata": {},
   "outputs": [
    {
     "name": "stdout",
     "output_type": "stream",
     "text": [
      "[0 1]\n"
     ]
    }
   ],
   "source": [
    "### 훈련모델이 가지고 있는 범주의 순서\n",
    "print(lr.classes_)"
   ]
  },
  {
   "cell_type": "code",
   "execution_count": 215,
   "metadata": {},
   "outputs": [
    {
     "name": "stdout",
     "output_type": "stream",
     "text": [
      "[[ 0.19892958 -0.37623538  0.40112014  0.36603493  0.16611259 -0.11931314\n",
      "   0.30059156  0.28562685 -0.34676774  0.27983837  0.27039532  0.27510721\n",
      "   0.24464657  0.20202638  0.13667266  0.002312    0.22309579  0.21768612\n",
      "  -0.22046878  0.20916418  0.20961273  0.20741979  0.18755026  0.15738786\n",
      "  -0.31479283  0.16620873  0.18741081  0.20785063  0.18578238  0.15359638\n",
      "   0.17379073  0.15223527  0.12536668  0.09902539  0.11090206  0.03835239\n",
      "   0.16498648  0.16331907 -0.10264384  0.156398    0.15978042  0.15391334\n",
      "   0.14104317  0.12029368 -0.23761636  0.12928518  0.14596033  0.1563307\n",
      "   0.14205589  0.11928422  0.12939193  0.11492622  0.09627507  0.07726575\n",
      "  -0.28194531  0.07507539  0.12053218  0.15009187  0.13698596  0.11427332\n",
      "   0.13395046  0.11674916  0.09587034  0.07576722  0.10448472  0.09136403\n",
      "   0.07576714  0.06033389  0.04680911]]\n",
      "[6.31051659]\n"
     ]
    }
   ],
   "source": [
    "### 계수(또는 가중치) 및 y절편값 조회하기\n",
    "print(lr.coef_)\n",
    "print(lr.intercept_)"
   ]
  },
  {
   "cell_type": "code",
   "execution_count": 216,
   "metadata": {},
   "outputs": [
    {
     "name": "stdout",
     "output_type": "stream",
     "text": [
      "[-6.35896877 -9.0419767   8.23689761 10.0045755  -7.15351819]\n",
      "[1.72815929e-03 1.18322687e-04 9.99735366e-01 9.99954809e-01\n",
      " 7.81496422e-04]\n"
     ]
    }
   ],
   "source": [
    "# 이진분류에서 z값(선형방정식의 결과값들)을 0~1로 변환\n",
    "# z값 조회하기\n",
    "decisions = lr.decision_function(train_setosa_versicolor[:5])\n",
    "print(decisions)\n",
    "\n",
    "### 시그모이드 함수 : 싸이파이 패키지의 expit()\n",
    "from scipy.special import expit\n",
    "print(expit(decisions))"
   ]
  },
  {
   "cell_type": "code",
   "execution_count": 217,
   "metadata": {},
   "outputs": [
    {
     "data": {
      "image/png": "[encoded data removed]",
      "text/plain": [
       "<Figure size 432x288 with 1 Axes>"
      ]
     },
     "metadata": {
      "needs_background": "light"
     },
     "output_type": "display_data"
    }
   ],
   "source": [
    "### 시그모이드 함수 예시\n",
    "\n",
    "import numpy as np\n",
    "import matplotlib.pyplot as plt\n",
    "\n",
    "### 임의의 z값\n",
    "### 실제 사용시\n",
    "### np.aragne(decisions.min(), decisions.max())\n",
    "z = np.arange(decisions.min(), decisions.max(), 0.1)\n",
    "\n",
    "### 시그모이드 공식 사용\n",
    "# - np.exp() : 0~1의 지수로 변환하기\n",
    "#            : z값의 스케일을 통일시키기 위해서\n",
    "#            : z값은 음수로 처리(제곱승 시에 분모로 계산)\n",
    "#            : 2^(-2) = 1/(2^2), 2^0 = 1\n",
    "phi = 1 / (1 + np.exp(-z))\n",
    "\n",
    "plt.plot(z, phi)\n",
    "plt.show()"
   ]
  },
  {
   "cell_type": "markdown",
   "metadata": {},
   "source": [
    "##### - 2) 시그모이드 함수 사용(versicolor, virginica)"
   ]
  },
  {
   "cell_type": "code",
   "execution_count": 218,
   "metadata": {},
   "outputs": [
    {
     "data": {
      "text/plain": [
       "(77, 69)"
      ]
     },
     "execution_count": 218,
     "metadata": {},
     "output_type": "execute_result"
    }
   ],
   "source": [
    "### 이진분류 방식은 2개의 범주만 사용 가능합니다.\n",
    "# - 기존 데이터에서 2개(versicolor, virginica) 범주만 추출하여 사용\n",
    "# 독립변수명 : train_versicolor_virginica\n",
    "# 종속변수명 : target_versicolor_virginica\n",
    "\n",
    "target_versicolor_virginica = train_target[(train_target == 1) | (train_target == 2)]\n",
    "target_versicolor_virginica.shape\n",
    "\n",
    "train_versicolor_virginica = train_scaled[(train_target == 1) | (train_target == 2)]\n",
    "train_versicolor_virginica.shape"
   ]
  },
  {
   "cell_type": "code",
   "execution_count": 219,
   "metadata": {},
   "outputs": [
    {
     "data": {
      "text/plain": [
       "0.974025974025974"
      ]
     },
     "execution_count": 219,
     "metadata": {},
     "output_type": "execute_result"
    }
   ],
   "source": [
    "lr = LogisticRegression()\n",
    "lr.fit(train_versicolor_virginica, target_versicolor_virginica)\n",
    "lr.score(train_versicolor_virginica, target_versicolor_virginica)"
   ]
  },
  {
   "cell_type": "code",
   "execution_count": 220,
   "metadata": {},
   "outputs": [
    {
     "name": "stdout",
     "output_type": "stream",
     "text": [
      "[1 1 1 1 1]\n",
      "[1 2]\n"
     ]
    }
   ],
   "source": [
    "# 예측 상위 5개\n",
    "print(lr.predict(train_setosa_versicolor[:5]))\n",
    "\n",
    "### 훈련모델이 가지고 있는 범주의 순서\n",
    "print(lr.classes_)"
   ]
  },
  {
   "cell_type": "code",
   "execution_count": 221,
   "metadata": {},
   "outputs": [
    {
     "name": "stdout",
     "output_type": "stream",
     "text": [
      "[[0.01628067 0.98371933]\n",
      " [0.9896749  0.0103251 ]\n",
      " [0.98327631 0.01672369]\n",
      " [0.99730785 0.00269215]\n",
      " [0.6385721  0.3614279 ]]\n"
     ]
    }
   ],
   "source": [
    "### 5개 행에 대한 범주별 확률 조회\n",
    "print(lr.predict_proba(train_versicolor_virginica[:5]))"
   ]
  },
  {
   "cell_type": "code",
   "execution_count": 222,
   "metadata": {},
   "outputs": [
    {
     "name": "stdout",
     "output_type": "stream",
     "text": [
      "[ 4.10136236 -4.56279908 -4.07406398 -5.91472051 -0.56917201]\n",
      "[0.98371933 0.0103251  0.01672369 0.00269215 0.3614279 ]\n"
     ]
    }
   ],
   "source": [
    "# 이진분류에서 z값(선형방정식의 결과값들)을 0~1로 변환\n",
    "# z값 조회하기\n",
    "decisions = lr.decision_function(train_versicolor_virginica[:5])\n",
    "print(decisions)\n",
    "\n",
    "### 시그모이드 함수 : 싸이파이 패키지의 expit()\n",
    "from scipy.special import expit\n",
    "print(expit(decisions))"
   ]
  },
  {
   "cell_type": "code",
   "execution_count": 223,
   "metadata": {},
   "outputs": [
    {
     "data": {
      "image/png": "[encoded data removed]",
      "text/plain": [
       "<Figure size 432x288 with 1 Axes>"
      ]
     },
     "metadata": {
      "needs_background": "light"
     },
     "output_type": "display_data"
    }
   ],
   "source": [
    "### 시그모이드 함수 예시\n",
    "\n",
    "import numpy as np\n",
    "import matplotlib.pyplot as plt\n",
    "\n",
    "### 임의의 z값\n",
    "### 실제 사용시\n",
    "### np.aragne(decisions.min(), decisions.max())\n",
    "z = np.arange(decisions.min(), decisions.max(), 0.1)\n",
    "\n",
    "### 시그모이드 공식 사용\n",
    "# - np.exp() : 0~1의 지수로 변환하기\n",
    "#            : z값의 스케일을 통일시키기 위해서\n",
    "#            : z값은 음수로 처리(제곱승 시에 분모로 계산)\n",
    "#            : 2^(-2) = 1/(2^2), 2^0 = 1\n",
    "phi = 1 / (1 + np.exp(-z))\n",
    "\n",
    "plt.plot(z, phi)\n",
    "plt.show()"
   ]
  },
  {
   "cell_type": "markdown",
   "metadata": {},
   "source": [
    "##### - 3) 시그모이드 함수 사용(setosa, virginica)"
   ]
  },
  {
   "cell_type": "code",
   "execution_count": 224,
   "metadata": {},
   "outputs": [
    {
     "data": {
      "text/plain": [
       "(73, 69)"
      ]
     },
     "execution_count": 224,
     "metadata": {},
     "output_type": "execute_result"
    }
   ],
   "source": [
    "### 이진분류 방식은 2개의 범주만 사용 가능합니다.\n",
    "# - 기존 데이터에서 2개(setosa, virginica) 범주만 추출하여 사용\n",
    "# 독립변수명 : train_setosa_virginica\n",
    "# 종속변수명 : target_setosa_virginica\n",
    "\n",
    "target_setosa_virginica = train_target[(train_target == 0) | (train_target == 2)]\n",
    "target_setosa_virginica.shape\n",
    "\n",
    "train_setosa_virginica = train_scaled[(train_target == 0) | (train_target == 2)]\n",
    "train_setosa_virginica.shape"
   ]
  },
  {
   "cell_type": "code",
   "execution_count": 225,
   "metadata": {},
   "outputs": [
    {
     "data": {
      "text/plain": [
       "1.0"
      ]
     },
     "execution_count": 225,
     "metadata": {},
     "output_type": "execute_result"
    }
   ],
   "source": [
    "lr = LogisticRegression()\n",
    "lr.fit(train_setosa_virginica, target_setosa_virginica)\n",
    "lr.score(train_setosa_virginica, target_setosa_virginica)"
   ]
  },
  {
   "cell_type": "code",
   "execution_count": 226,
   "metadata": {},
   "outputs": [
    {
     "name": "stdout",
     "output_type": "stream",
     "text": [
      "[0 0 2 0 0]\n",
      "[0 2]\n"
     ]
    }
   ],
   "source": [
    "# 예측 상위 5개\n",
    "print(lr.predict(train_setosa_virginica[:5]))\n",
    "\n",
    "### 훈련모델이 가지고 있는 범주의 순서\n",
    "print(lr.classes_)"
   ]
  },
  {
   "cell_type": "code",
   "execution_count": 227,
   "metadata": {},
   "outputs": [
    {
     "name": "stdout",
     "output_type": "stream",
     "text": [
      "[[9.98359919e-01 1.64008088e-03]\n",
      " [9.99533569e-01 4.66430999e-04]\n",
      " [1.87457034e-03 9.98125430e-01]\n",
      " [9.98710988e-01 1.28901156e-03]\n",
      " [9.98448361e-01 1.55163889e-03]]\n"
     ]
    }
   ],
   "source": [
    "### 5개 행에 대한 범주별 확률 조회\n",
    "print(lr.predict_proba(train_setosa_virginica[:5]))"
   ]
  },
  {
   "cell_type": "code",
   "execution_count": 228,
   "metadata": {},
   "outputs": [
    {
     "name": "stdout",
     "output_type": "stream",
     "text": [
      "[-6.4113683  -7.66993392  6.27749947 -6.65258974 -6.46689071]\n",
      "[1.64008088e-03 4.66430999e-04 9.98125430e-01 1.28901156e-03\n",
      " 1.55163889e-03]\n"
     ]
    }
   ],
   "source": [
    "# 이진분류에서 z값(선형방정식의 결과값들)을 0~1로 변환\n",
    "# z값 조회하기\n",
    "decisions = lr.decision_function(train_setosa_virginica[:5])\n",
    "print(decisions)\n",
    "\n",
    "### 시그모이드 함수 : 싸이파이 패키지의 expit()\n",
    "from scipy.special import expit\n",
    "print(expit(decisions))"
   ]
  },
  {
   "cell_type": "code",
   "execution_count": 229,
   "metadata": {},
   "outputs": [
    {
     "data": {
      "image/png": "[encoded data removed]",
      "text/plain": [
       "<Figure size 432x288 with 1 Axes>"
      ]
     },
     "metadata": {
      "needs_background": "light"
     },
     "output_type": "display_data"
    }
   ],
   "source": [
    "### 시그모이드 함수 예시\n",
    "\n",
    "import numpy as np\n",
    "import matplotlib.pyplot as plt\n",
    "\n",
    "### 임의의 z값\n",
    "### 실제 사용시\n",
    "### np.aragne(decisions.min(), decisions.max())\n",
    "z = np.arange(decisions.min(), decisions.max(), 0.1)\n",
    "\n",
    "### 시그모이드 공식 사용\n",
    "# - np.exp() : 0~1의 지수로 변환하기\n",
    "#            : z값의 스케일을 통일시키기 위해서\n",
    "#            : z값은 음수로 처리(제곱승 시에 분모로 계산)\n",
    "#            : 2^(-2) = 1/(2^2), 2^0 = 1\n",
    "phi = 1 / (1 + np.exp(-z))\n",
    "\n",
    "plt.plot(z, phi)\n",
    "plt.show()"
   ]
  },
  {
   "cell_type": "markdown",
   "metadata": {},
   "source": [
    "### 3-2 로지스틱 회귀 다중분류\n",
    "##### - 소프트맥스 함수 사용"
   ]
  },
  {
   "cell_type": "code",
   "execution_count": 230,
   "metadata": {},
   "outputs": [
    {
     "name": "stdout",
     "output_type": "stream",
     "text": [
      "훈련 =  0.9821428571428571\n",
      "테스트 =  1.0\n"
     ]
    }
   ],
   "source": [
    "### 규제강도 = 20\n",
    "### 반복횟수 = 1000회\n",
    "from sklearn.linear_model import LogisticRegression\n",
    "\n",
    "lr = LogisticRegression(C=20, max_iter=1000)\n",
    "lr.fit(train_scaled, train_target)\n",
    "\n",
    "print(\"훈련 = \", lr.score(train_scaled, train_target))\n",
    "print(\"테스트 = \", lr.score(test_scaled, test_target))"
   ]
  },
  {
   "cell_type": "code",
   "execution_count": 231,
   "metadata": {},
   "outputs": [
    {
     "name": "stdout",
     "output_type": "stream",
     "text": [
      "[1 0 2 1 1]\n"
     ]
    }
   ],
   "source": [
    "### 상위 5건으로 예측 진행\n",
    "print(lr.predict(test_scaled[:5]))"
   ]
  },
  {
   "cell_type": "code",
   "execution_count": 232,
   "metadata": {},
   "outputs": [
    {
     "name": "stdout",
     "output_type": "stream",
     "text": [
      "[[0.    0.998 0.002]\n",
      " [1.    0.    0.   ]\n",
      " [0.    0.    1.   ]\n",
      " [0.    0.994 0.006]\n",
      " [0.    0.995 0.005]]\n",
      "[0 1 2]\n"
     ]
    }
   ],
   "source": [
    "### 전체 붓꽃별 확률 확인\n",
    "proba = lr.predict_proba(test_scaled[:5])\n",
    "print(np.round(proba, decimals = 3))\n",
    "print(lr.classes_)"
   ]
  },
  {
   "cell_type": "code",
   "execution_count": 233,
   "metadata": {},
   "outputs": [
    {
     "name": "stdout",
     "output_type": "stream",
     "text": [
      "[[-0.22512516  0.53913866 -0.63624297 -0.55852454 -0.18083033  0.22088104\n",
      "  -0.45041896 -0.4186703   0.49875352 -0.42968492 -0.38779789 -0.41996073\n",
      "  -0.37418182 -0.31320864 -0.1427548   0.05348123 -0.31590484 -0.30584019\n",
      "   0.35098568 -0.29861908 -0.28705809 -0.30170601 -0.27506396 -0.23484733\n",
      "   0.45433967 -0.24114718 -0.24398018 -0.30430937 -0.27080235 -0.22660138\n",
      "  -0.25242265 -0.22447364 -0.18816926 -0.15127492 -0.11086857 -0.00182249\n",
      "  -0.22068102 -0.21941578  0.19580179 -0.20824223 -0.20855027 -0.21285417\n",
      "  -0.19783274 -0.17229312  0.36682311 -0.16976622 -0.1800936  -0.21677536\n",
      "  -0.1977351  -0.16880129 -0.17900548 -0.16200615 -0.13854013 -0.11345305\n",
      "   0.4081433  -0.09368381 -0.13156391 -0.20816922 -0.18768456 -0.15818375\n",
      "  -0.18585486 -0.16426891 -0.13735705 -0.11058769 -0.14285038 -0.12745485\n",
      "  -0.10781937 -0.08748749 -0.0690792 ]\n",
      " [ 0.6188811  -0.26288165  0.40885365  0.2177197   0.43019921  0.02217636\n",
      "   0.25008937  0.32983495 -0.13780188  0.26952425  0.29090628  0.03731743\n",
      "   0.13064099 -0.33783837  0.27538933  0.01794935  0.06801989  0.34318178\n",
      "  -0.09318602  0.06199763  0.30927043 -0.14072982  0.13768854 -0.13473333\n",
      "   0.01741948  0.22475965  0.42357614 -0.04984841  0.17438693 -0.12439122\n",
      "  -0.29621962 -0.00654205 -0.23469367 -0.74285954  0.1560407  -0.04603164\n",
      "  -0.09078352  0.30994698 -0.12452191 -0.12104745  0.2720777  -0.30922348\n",
      "   0.09387372 -0.01256738  0.00602396 -0.00915112  0.36500595 -0.25059662\n",
      "   0.12055474 -0.01181218 -0.46529793 -0.05353109 -0.12270154 -0.49528826\n",
      "   0.17369951  0.31005888  0.6225455  -0.06404419  0.26367064  0.1088721\n",
      "  -0.34554113  0.02044151 -0.08390567 -0.45525672 -0.55505513 -0.13756474\n",
      "  -0.17972548 -0.51413416 -0.95832723]\n",
      " [-0.39375594 -0.27625701  0.22738932  0.34080484 -0.24936888 -0.24305739\n",
      "   0.20032959  0.08883535 -0.36095165  0.16016067  0.09689161  0.3826433\n",
      "   0.24354083  0.65104701 -0.13263453 -0.07143058  0.24788494 -0.03734159\n",
      "  -0.25779966  0.23662145 -0.02221234  0.44243584  0.13737542  0.36958066\n",
      "  -0.47175915  0.01638753 -0.17959596  0.35415778  0.09641542  0.3509926\n",
      "   0.54864226  0.2310157   0.42286293  0.89413445 -0.04517212  0.04785413\n",
      "   0.31146454 -0.09053121 -0.07127988  0.32928968 -0.06352743  0.52207765\n",
      "   0.10395902  0.1848605  -0.37284707  0.17891734 -0.18491235  0.46737199\n",
      "   0.07718036  0.18061347  0.64430341  0.21553723  0.26124167  0.60874131\n",
      "  -0.58184281 -0.21637507 -0.49098158  0.27221341 -0.07598608  0.04931165\n",
      "   0.53139599  0.1438274   0.22126271  0.56584441  0.69790551  0.2650196\n",
      "   0.28754485  0.60162165  1.02740643]]\n",
      "[-4.84296439  4.37691188  0.46605251]\n"
     ]
    }
   ],
   "source": [
    "### 사용된 계수와 y절편\n",
    "print(lr.coef_)\n",
    "print(lr.intercept_)"
   ]
  },
  {
   "cell_type": "code",
   "execution_count": 234,
   "metadata": {},
   "outputs": [
    {
     "name": "stdout",
     "output_type": "stream",
     "text": [
      "[[ -6.605   6.444   0.161]\n",
      " [ 13.493   4.433 -17.926]\n",
      " [-35.029  -1.269  36.297]\n",
      " [ -7.78    6.447   1.332]\n",
      " [-10.141   7.764   2.377]]\n"
     ]
    }
   ],
   "source": [
    "### z 산술연산 결과 확인하기\n",
    "decision = lr.decision_function(test_scaled[:5])\n",
    "print(np.round(decision, decimals=3))"
   ]
  },
  {
   "cell_type": "code",
   "execution_count": 235,
   "metadata": {},
   "outputs": [
    {
     "name": "stdout",
     "output_type": "stream",
     "text": [
      "[[0.    0.998 0.002]\n",
      " [1.    0.    0.   ]\n",
      " [0.    0.    1.   ]\n",
      " [0.    0.994 0.006]\n",
      " [0.    0.995 0.005]]\n"
     ]
    }
   ],
   "source": [
    "### 소프트맥스(softmax)\n",
    "# 사용하는 패키지 : scipy.special\n",
    "# 사용하는 모듈 : softmax\n",
    "\n",
    "from scipy.special import softmax\n",
    "\n",
    "proba = softmax(decision, axis=1)\n",
    "print(np.round(proba, decimals=3))"
   ]
  },
  {
   "cell_type": "code",
   "execution_count": null,
   "metadata": {},
   "outputs": [],
   "source": []
  }
 ],
 "metadata": {
  "kernelspec": {
   "display_name": "ml_kernel",
   "language": "python",
   "name": "ml"
  },
  "language_info": {
   "codemirror_mode": {
    "name": "ipython",
    "version": 3
   },
   "file_extension": ".py",
   "mimetype": "text/x-python",
   "name": "python",
   "nbconvert_exporter": "python",
   "pygments_lexer": "ipython3",
   "version": "3.9.12"
  },
  "orig_nbformat": 4
 },
 "nbformat": 4,
 "nbformat_minor": 2
}
