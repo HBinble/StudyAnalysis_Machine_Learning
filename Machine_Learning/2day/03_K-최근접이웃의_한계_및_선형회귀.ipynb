{
 "cells": [
  {
   "cell_type": "code",
   "execution_count": 2,
   "metadata": {},
   "outputs": [],
   "source": [
    "import numpy as np"
   ]
  },
  {
   "cell_type": "code",
   "execution_count": 4,
   "metadata": {},
   "outputs": [],
   "source": [
    "### 데이터 생성하기(data)\n",
    "\n",
    "perch_length = np.array(\n",
    "    [8.4, 13.7, 15.0, 16.2, 17.4, 18.0, 18.7, 19.0, 19.6, 20.0, \n",
    "    21.0, 21.0, 21.0, 21.3, 22.0, 22.0, 22.0, 22.0, 22.0, 22.5, \n",
    "    22.5, 22.7, 23.0, 23.5, 24.0, 24.0, 24.6, 25.0, 25.6, 26.5, \n",
    "    27.3, 27.5, 27.5, 27.5, 28.0, 28.7, 30.0, 32.8, 34.5, 35.0, \n",
    "    36.5, 36.0, 37.0, 37.0, 39.0, 39.0, 39.0, 40.0, 40.0, 40.0, \n",
    "    40.0, 42.0, 43.0, 43.0, 43.5, 44.0]\n",
    "    )\n",
    "perch_weight = np.array(\n",
    "    [5.9, 32.0, 40.0, 51.5, 70.0, 100.0, 78.0, 80.0, 85.0, 85.0, \n",
    "    110.0, 115.0, 125.0, 130.0, 120.0, 120.0, 130.0, 135.0, 110.0, \n",
    "    130.0, 150.0, 145.0, 150.0, 170.0, 225.0, 145.0, 188.0, 180.0, \n",
    "    197.0, 218.0, 300.0, 260.0, 265.0, 250.0, 250.0, 300.0, 320.0, \n",
    "    514.0, 556.0, 840.0, 685.0, 700.0, 700.0, 690.0, 900.0, 650.0, \n",
    "    820.0, 850.0, 900.0, 1015.0, 820.0, 1100.0, 1000.0, 1100.0, \n",
    "    1000.0, 1000.0]\n",
    "    )"
   ]
  },
  {
   "cell_type": "code",
   "execution_count": 5,
   "metadata": {},
   "outputs": [],
   "source": [
    "from sklearn.model_selection import train_test_split"
   ]
  },
  {
   "cell_type": "code",
   "execution_count": 6,
   "metadata": {},
   "outputs": [],
   "source": [
    "train_input, test_input, train_target, test_target = \\\n",
    "    train_test_split(perch_length, perch_weight, random_state=42)"
   ]
  },
  {
   "cell_type": "code",
   "execution_count": 9,
   "metadata": {},
   "outputs": [
    {
     "name": "stdout",
     "output_type": "stream",
     "text": [
      "[19.6 22.  18.7 17.4 36.  25.  40.  39.  43.  22.  20.  22.  24.  27.5\n",
      " 43.  40.  24.  21.  27.5 40.  32.8 26.5 36.5 13.7 22.7 15.  37.  35.\n",
      " 28.7 23.5 39.  21.  23.  22.  44.  22.5 19.  37.  22.  25.6 42.  34.5]\n",
      "-----------------\n",
      "[  85.  135.   78.   70.  700.  180.  850.  820. 1000.  120.   85.  130.\n",
      "  225.  260. 1100.  900.  145.  115.  265. 1015.  514.  218.  685.   32.\n",
      "  145.   40.  690.  840.  300.  170.  650.  110.  150.  110. 1000.  150.\n",
      "   80.  700.  120.  197. 1100.  556.]\n",
      "-----------------\n",
      "[ 8.4 18.  27.5 21.3 22.5 40.  30.  24.6 39.  21.  43.5 16.2 28.  27.3]\n",
      "-----------------\n",
      "[   5.9  100.   250.   130.   130.   820.   320.   188.   900.   125.\n",
      " 1000.    51.5  250.   300. ]\n"
     ]
    }
   ],
   "source": [
    "print(train_input)\n",
    "print(\"-----------------\")\n",
    "print(train_target)\n",
    "print(\"-----------------\")\n",
    "print(test_input)\n",
    "print(\"-----------------\")\n",
    "print(test_target)\n"
   ]
  },
  {
   "cell_type": "code",
   "execution_count": 12,
   "metadata": {},
   "outputs": [],
   "source": [
    "train_input = train_input.reshape(-1, 1)\n",
    "test_input = test_input.reshape(-1, 1)"
   ]
  },
  {
   "cell_type": "code",
   "execution_count": 16,
   "metadata": {},
   "outputs": [
    {
     "name": "stdout",
     "output_type": "stream",
     "text": [
      "(42, 1) (14, 1)\n",
      "[[19.6]\n",
      " [22. ]\n",
      " [18.7]\n",
      " [17.4]\n",
      " [36. ]\n",
      " [25. ]\n",
      " [40. ]\n",
      " [39. ]\n",
      " [43. ]\n",
      " [22. ]\n",
      " [20. ]\n",
      " [22. ]\n",
      " [24. ]\n",
      " [27.5]\n",
      " [43. ]\n",
      " [40. ]\n",
      " [24. ]\n",
      " [21. ]\n",
      " [27.5]\n",
      " [40. ]\n",
      " [32.8]\n",
      " [26.5]\n",
      " [36.5]\n",
      " [13.7]\n",
      " [22.7]\n",
      " [15. ]\n",
      " [37. ]\n",
      " [35. ]\n",
      " [28.7]\n",
      " [23.5]\n",
      " [39. ]\n",
      " [21. ]\n",
      " [23. ]\n",
      " [22. ]\n",
      " [44. ]\n",
      " [22.5]\n",
      " [19. ]\n",
      " [37. ]\n",
      " [22. ]\n",
      " [25.6]\n",
      " [42. ]\n",
      " [34.5]]\n",
      "---------------\n",
      "[[ 8.4]\n",
      " [18. ]\n",
      " [27.5]\n",
      " [21.3]\n",
      " [22.5]\n",
      " [40. ]\n",
      " [30. ]\n",
      " [24.6]\n",
      " [39. ]\n",
      " [21. ]\n",
      " [43.5]\n",
      " [16.2]\n",
      " [28. ]\n",
      " [27.3]]\n"
     ]
    }
   ],
   "source": [
    "print(train_input.shape, test_input.shape)\n",
    "print(train_input)\n",
    "print(\"---------------\")\n",
    "print(test_input)"
   ]
  },
  {
   "cell_type": "code",
   "execution_count": 17,
   "metadata": {},
   "outputs": [],
   "source": [
    "from sklearn.neighbors import KNeighborsRegressor"
   ]
  },
  {
   "cell_type": "code",
   "execution_count": 49,
   "metadata": {},
   "outputs": [],
   "source": [
    "knr = KNeighborsRegressor(n_neighbors=3)"
   ]
  },
  {
   "cell_type": "code",
   "execution_count": 50,
   "metadata": {},
   "outputs": [
    {
     "data": {
      "text/plain": [
       "KNeighborsRegressor(n_neighbors=3)"
      ]
     },
     "execution_count": 50,
     "metadata": {},
     "output_type": "execute_result"
    }
   ],
   "source": [
    "### 훈련데이터 학습시키기 : 훈련모델 생성하기\n",
    "knr.fit(train_input, train_target)"
   ]
  },
  {
   "cell_type": "code",
   "execution_count": 56,
   "metadata": {},
   "outputs": [
    {
     "data": {
      "text/plain": [
       "array([1033.33333333])"
      ]
     },
     "execution_count": 56,
     "metadata": {},
     "output_type": "execute_result"
    }
   ],
   "source": [
    "### 예측데이터 : 50\n",
    "knr.predict([[100]])"
   ]
  },
  {
   "cell_type": "code",
   "execution_count": 52,
   "metadata": {},
   "outputs": [],
   "source": [
    "### - 산점도로 시각화 : 훈련데이터와 예측데이터, 이웃데이터 포함\n",
    "import matplotlib.pyplot as plt"
   ]
  },
  {
   "cell_type": "code",
   "execution_count": 53,
   "metadata": {},
   "outputs": [
    {
     "data": {
      "text/plain": [
       "array([[34,  8, 14]], dtype=int64)"
      ]
     },
     "execution_count": 53,
     "metadata": {},
     "output_type": "execute_result"
    }
   ],
   "source": [
    "### 이웃데이터 추출하기\n",
    "distances, indexes = knr.kneighbors([[50]])\n",
    "indexes"
   ]
  },
  {
   "cell_type": "code",
   "execution_count": 57,
   "metadata": {},
   "outputs": [
    {
     "data": {
      "image/png": "[encoded data removed]",
      "text/plain": [
       "<Figure size 432x288 with 1 Axes>"
      ]
     },
     "metadata": {
      "needs_background": "light"
     },
     "output_type": "display_data"
    }
   ],
   "source": [
    "### 산점도 시각화 하기\n",
    "plt.scatter(train_input, train_target)\n",
    "plt.scatter(train_input[indexes], train_target[indexes], marker=\"D\")\n",
    "plt.scatter(100, 1033, marker=\"^\")\n",
    "plt.show()"
   ]
  },
  {
   "cell_type": "markdown",
   "metadata": {},
   "source": [
    "## 선형회귀(Linear Regression)\n",
    "##### - 많이 사용되는 대표적인 회귀 알고리즘\n",
    "##### - 비교적 간단하고, 성능이 뛰어나기 때문에 회귀모델 수행시 초반에 주로 진행합니다.\n",
    "##### - 선형회귀의 역할 : 하나의 특성을 가장 잘 나타내는 직선을 찾아내는 것이 주 역할\n",
    "##### - 직선을 \"추세선\" 이라고 합니다.\n",
    "##### - 선형회귀 알고리즘 : 1차 방정식(y=ax+b)\n",
    "##### - 선형회귀 클래스(모델) : LinearRegresin\n",
    "##### - 사용되는 패키지 : sklearn.linear_model"
   ]
  },
  {
   "cell_type": "code",
   "execution_count": null,
   "metadata": {},
   "outputs": [],
   "source": []
  }
 ],
 "metadata": {
  "kernelspec": {
   "display_name": "ml_kernel",
   "language": "python",
   "name": "ml"
  },
  "language_info": {
   "codemirror_mode": {
    "name": "ipython",
    "version": 3
   },
   "file_extension": ".py",
   "mimetype": "text/x-python",
   "name": "python",
   "nbconvert_exporter": "python",
   "pygments_lexer": "ipython3",
   "version": "3.9.12"
  },
  "orig_nbformat": 4
 },
 "nbformat": 4,
 "nbformat_minor": 2
}
